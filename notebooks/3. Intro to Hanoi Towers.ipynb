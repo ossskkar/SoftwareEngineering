{
 "cells": [
  {
   "cell_type": "markdown",
   "metadata": {},
   "source": [
    "# Towers of Hanoi\n",
    "\n",
    "In this notebook, we'll present a relatively simple problem, for which we'll be implementing an initial solution that we'll keep improving through the course.\n",
    "\n",
    "In this problem, you have three towers and a set of N discs of different sizes, like this:\n",
    "\n",
    "![Towers of Hanoi - Source](../images/tower_of_hanoi_start.jpg \"Towers of Hanoi - Source\")\n",
    "\n",
    "Your goal is to move all discs from tower \"S\" (source) to tower \"D\" (destination), while we have an intermediary tower \"I\" that we can use as a temporary or buffer. So this is where you want to end:\n",
    "\n",
    "![Towers of Hanoi - Destination](../images/tower_of_hanoi_end.jpg \"Towers of Hanoi - Destination\")\n",
    "\n",
    "That's easy, right? Well, you have to do so while following a few rules:\n",
    "\n",
    "- You can only move one disc at a time\n",
    "- You can only put a disc on top of a disc that's bigger. For instance, disc \"3\" can go on top of disc \"5\", but not on top of disc \"1\"\n",
    "\n",
    "**Notes**\n",
    "- In some books / articles, the goal is defined as moving from A to C, A to B, etc... The important idea is that we have one \"source\" tower, one \"desstination\" tower, and one \"auxiliary\" tower."
   ]
  },
  {
   "cell_type": "markdown",
   "metadata": {
    "solution2": "hidden",
    "solution2_first": true
   },
   "source": [
    "## Problem definition\n",
    "Let's try to structure the problem a bit. We have:\n",
    "- Three towers: S (source), D (destination) and I (auxiliary)\n",
    "- The starting point or state:\n",
    "  - N discs (1 to N), all on the S tower, and sorted so that disc N is the lowest one, and disc 1 is on top of the tower.\n",
    "- The desired final state:\n",
    "  - All N discs are in the D tower.\n",
    "\n",
    "- The constraints we mentioned above:\n",
    "  - You can only move one disc at a time\n",
    "  - You can't place a disc on top of another disc that's smaller.\n",
    "\n",
    "## Solving the problem\n",
    "\n",
    "To help figuring out the algorithm to solve the problem, let's check a few cases:\n",
    "\n",
    "### One disc (N=1)\n",
    "- This one's trivial: we just need to move the disc from S to D.\n",
    "\n",
    "### Two discs\n",
    "- Move disc 1 from S to I\n",
    "- Move disc 2 from S to D\n",
    "- Move disc 1 from I to D\n",
    "\n",
    "### Three discs\n",
    "- Move disc 1 from S to D\n",
    "- Move disc 2 from S to I\n",
    "- Move disc 1 from D to I\n",
    "- Move disc 3 from S to D\n",
    "- Move disc 1 from I to S\n",
    "- Move disc 2 from I to D\n",
    "- Move disc 1 from S to D\n",
    "\n",
    "### Generalization\n",
    "\n",
    "Check at the last three steps of the process with three disks. Doesn't it look similar to the process for two discs? What about the first three steps?\n",
    "\n",
    "Once you have given it some though, click the button below to see one possible interpretation."
   ]
  },
  {
   "cell_type": "markdown",
   "metadata": {
    "solution2": "hidden"
   },
   "source": [
    "In general, for N discs, the movements we do can be described as:\n",
    "- Move ```N - 1``` discs from S to I. This means we do the exact same steps as for two discs, but using \"I\" as destination.\n",
    "- Move the remaining disc from S to D.\n",
    "- Again, move the ```N - 1``` discs from I to D. This means we'll be doing the same steps as for the two discs case, but using I as the source and S as the auxiliary tower.\n",
    "\n",
    "Notice that for N = 1, the first and last steps move 0 discs, so you only do step 2."
   ]
  },
  {
   "cell_type": "markdown",
   "metadata": {},
   "source": [
    "## Exercises\n",
    "\n",
    "### Hanoi for N=1\n",
    "Write a function ```hanoi_n1``` that solves the problem when N=1:"
   ]
  },
  {
   "cell_type": "code",
   "execution_count": 1,
   "metadata": {
    "solution2": "hidden",
    "solution2_first": true
   },
   "outputs": [],
   "source": [
    "from typing import List\n",
    "\n",
    "def hanoi_n1(source: List[int], destination: List[int], temporary: List[int]):\n",
    "    destination.append(source.pop())"
   ]
  },
  {
   "cell_type": "markdown",
   "metadata": {
    "solution2": "hidden"
   },
   "source": [
    "For N=1, we just need to take the disc from the source and put it in the destination:"
   ]
  },
  {
   "cell_type": "code",
   "execution_count": null,
   "metadata": {
    "solution2": "hidden"
   },
   "outputs": [],
   "source": [
    "from typing import List\n",
    "\n",
    "def hanoi_n1(source: List[int], destination: List[int], temporary: List[int]):\n",
    "    destination.append(source.pop())"
   ]
  },
  {
   "cell_type": "code",
   "execution_count": 2,
   "metadata": {},
   "outputs": [
    {
     "name": "stdout",
     "output_type": "stream",
     "text": [
      "Great, the implementation is working!\n"
     ]
    }
   ],
   "source": [
    "def correct_hanoi_n1():\n",
    "    source: List[int] = [1]\n",
    "    dest: List[int] = []\n",
    "    temp: List[int] = []\n",
    "    \n",
    "    hanoi_n1(source=source, destination=dest, temporary=temp)\n",
    "    correct = True\n",
    "    if len(source) > 0:\n",
    "        print(\"ERROR! Source tower still has the disc\")\n",
    "        correct = False\n",
    "    \n",
    "    if len(dest) != 1:\n",
    "        print(\"ERROR! Destination tower doesn't have the disc\")\n",
    "        correct = False\n",
    "\n",
    "    if len(temp) != 0:\n",
    "        print(\"ERROR! Temporary tower has a disc!\")\n",
    "        correct = False\n",
    "    \n",
    "    if correct:\n",
    "        print(\"Great, the implementation is working!\")\n",
    "    else:\n",
    "        print(\"Sorry, there are some errors in your implementation\")\n",
    "\n",
    "correct_hanoi_n1()"
   ]
  },
  {
   "cell_type": "markdown",
   "metadata": {},
   "source": [
    "### Hanoi for N=2\n",
    "Next, write another function, ```hanoi_n2```, that solves the problem for N=2. Feel free to reuse code from ```hanoi_n1``` if you like. If you are hesitating on how to tackle this step, check the solution / interpretation proposed in point [1.2.4](#Generalization)."
   ]
  },
  {
   "cell_type": "code",
   "execution_count": 5,
   "metadata": {
    "solution2": "hidden",
    "solution2_first": true
   },
   "outputs": [],
   "source": [
    "from typing import List\n",
    "\n",
    "def hanoi_n2(source: List[int], destination: List[int], temporary: List[int]):\n",
    "    temporary.append(source.pop())\n",
    "    destination.append(source.pop())\n",
    "    destination.append(temporary.pop())\n",
    "    "
   ]
  },
  {
   "cell_type": "markdown",
   "metadata": {
    "solution2": "hidden"
   },
   "source": [
    "For N=2, we need three steps:\n",
    "\n",
    "- Move the first disc from the source to the temporary tower\n",
    "- Move the second disc from the source to the destination tower\n",
    "- Move the first disc from the temporary to the destination tower."
   ]
  },
  {
   "cell_type": "code",
   "execution_count": null,
   "metadata": {
    "solution2": "hidden"
   },
   "outputs": [],
   "source": [
    "from typing import List\n",
    "\n",
    "def hanoi_n2(source: List[int], destination: List[int], temporary: List[int]):\n",
    "    # Step 1 - Move disc 1 from source to temporary\n",
    "    temporary.append(source.pop())\n",
    "    # Step 2 - Move remaining disc from source to destination\n",
    "    destination.append(source.pop())\n",
    "    # Step 3 - Move disc 1 from temporary to destination\n",
    "    destination.append(temporary.pop())"
   ]
  },
  {
   "cell_type": "markdown",
   "metadata": {
    "solution2": "hidden"
   },
   "source": [
    "The same solution, but reusing ```hanoi_n1```, could be as follows. This version looks a more complex, but should give you a good hint for the next exercise :)"
   ]
  },
  {
   "cell_type": "code",
   "execution_count": 7,
   "metadata": {
    "solution2": "hidden"
   },
   "outputs": [],
   "source": [
    "from typing import List\n",
    "\n",
    "def hanoi_n2(source: List[int], destination: List[int], temporary: List[int]):\n",
    "    # Step 1 - Move N - 1 discs from source to temporary\n",
    "    hanoi_n1(source=source, destination=temporary, temporary=destination)\n",
    "    # Step 2 - Move remaining disc from source to destination\n",
    "    destination.append(source.pop())\n",
    "    # Step 3 - Move N-1 discs from temporary to destination\n",
    "    hanoi_n1(source=temporary, destination=destination, temporary=source)"
   ]
  },
  {
   "cell_type": "markdown",
   "metadata": {},
   "source": [
    "You can correct your implementation by running the cell below:"
   ]
  },
  {
   "cell_type": "code",
   "execution_count": 8,
   "metadata": {},
   "outputs": [
    {
     "name": "stdout",
     "output_type": "stream",
     "text": [
      "Great, the implementation is working!\n"
     ]
    }
   ],
   "source": [
    "def correct_hanoi_n2():\n",
    "    source: List[int] = [2, 1]\n",
    "    dest: List[int] = []\n",
    "    temp: List[int] = []\n",
    "    \n",
    "    hanoi_n2(source=source, destination=dest, temporary=temp)\n",
    "    correct = True\n",
    "    \n",
    "    src_discs = len(source)\n",
    "    tmp_discs = len(temp)\n",
    "    dst_discs = len(dest)\n",
    "    \n",
    "    if src_discs > 0:\n",
    "        print(f\"ERROR! Source tower still has {src_discs} discs\")\n",
    "        correct = False\n",
    "    \n",
    "    if dst_discs != 2:\n",
    "        print(f\"ERROR! Destination tower doesn't have all discs (it has {dst_discs})\")\n",
    "        correct = False\n",
    "\n",
    "    if tmp_discs != 0:\n",
    "        print(f\"ERROR! Temporary tower has {tmp_discs} discs!\")\n",
    "        correct = False\n",
    "    \n",
    "    if correct:\n",
    "        print(\"Great, the implementation is working!\")\n",
    "    else:\n",
    "        print(\"Sorry, there are some errors in your implementation\")\n",
    "\n",
    "correct_hanoi_n2()"
   ]
  },
  {
   "cell_type": "markdown",
   "metadata": {
    "solution2": "hidden",
    "solution2_first": true
   },
   "source": [
    "### Hanoi for N discs\n",
    "Finally, write a function ```hanoi```, that solves the problem for any value of N.\n",
    "\n",
    "Remember that in general, we can solve the problem for N discs in three steps:\n",
    "- Move the N - 1 discs from the source to the temporary tower. This is equivalent to solving the problem for N - 1 discs, but using the temporary tower as destination.\n",
    "- Move the remaining disc from the source to the destination.\n",
    "- Move the N - 1 discs from the temporary to the destination tower. This is equivalent to solving the problem for N - 1 discs, but using the temporary tower as source.\n",
    "\n",
    "If you get stuck and need a hint, you can find some help by clicking the \"Show Solution\" button below."
   ]
  },
  {
   "cell_type": "markdown",
   "metadata": {
    "solution2": "hidden"
   },
   "source": [
    "Before giving you the final solution, try to think of the general algorithm we mentioned\n",
    "\n",
    "```python\n",
    "from typing import List\n",
    "\n",
    "def hanoi(source: List[int], destination: List[int], temporary: List[int], num_discs: int):\n",
    "    \"\"\"This function solves the Hanoi towers problem for an arbitrary number of discs\"\"\"\n",
    "    if num_discs == 1:\n",
    "        # Move the disc from the source to the destination\n",
    "    else:\n",
    "        # Move N - 1 discs from the source to the temporary tower.\n",
    "        # This means we \"swap\" destination and temporary\n",
    "        hanoi(source=..., destination=..., temporary=..., num_discs=...)\n",
    "        # Move the remaining disc from the source to the destination\n",
    "        hanoi(source=..., destination=..., temporary=..., num_discs=...)\n",
    "        # Finally, move the N - 1 discs from the first step to the destination.\n",
    "        # This means that we are swapping the source and the temporary towers.\n",
    "        hanoi(source=..., destination=..., temporary=..., num_discs=...)\n",
    "```"
   ]
  },
  {
   "cell_type": "code",
   "execution_count": 16,
   "metadata": {
    "slideshow": {
     "slide_type": "-"
    },
    "solution2": "hidden",
    "solution2_first": true
   },
   "outputs": [],
   "source": [
    "from typing import List\n",
    "\n",
    "def hanoi(source: List[int], destination: List[int], temporary: List[int], num_discs: int):\n",
    "    if num_discs == 1:\n",
    "        destination.append(source.pop())\n",
    "    else:\n",
    "        hanoi(source=source, destination=temporary, temporary=destination, num_discs=num_discs - 1)\n",
    "        hanoi(source=source, destination=destination, temporary=temporary, num_discs=1)\n",
    "        hanoi(source=temporary, destination=destination, temporary=source, num_discs=num_discs - 1)"
   ]
  },
  {
   "cell_type": "code",
   "execution_count": 12,
   "metadata": {
    "solution2": "hidden"
   },
   "outputs": [],
   "source": [
    "from typing import List\n",
    "\n",
    "def hanoi(source: List[int], destination: List[int], temporary: List[int], num_discs: int):\n",
    "    \"\"\"This function solves the Hanoi towers problem for an arbitrary number of discs\"\"\"\n",
    "    \n",
    "    if num_discs == 1:\n",
    "        # Just move disc from source to destination\n",
    "        destination.append(source.pop())\n",
    "    else:\n",
    "        # Move N - 1 discs from the source to the temporary tower.\n",
    "        # This means we \"swap\" destination and temporary\n",
    "        hanoi(source=source, destination=temporary, temporary=destination, num_discs=num_discs - 1)\n",
    "        # Move the remaining disc from the source to the destination\n",
    "        hanoi(source=source, destination=destination, temporary=temporary, num_discs=1)\n",
    "        # Finally, move the N - 1 discs from the first step to the destination.\n",
    "        # This means that we are swapping the source and the temporary towers.\n",
    "        hanoi(source=temporary, destination=destination, temporary=source, num_discs=num_discs - 1)"
   ]
  },
  {
   "cell_type": "markdown",
   "metadata": {},
   "source": [
    "You can validate your implementation by running the cell below"
   ]
  },
  {
   "cell_type": "code",
   "execution_count": 17,
   "metadata": {},
   "outputs": [
    {
     "name": "stdout",
     "output_type": "stream",
     "text": [
      "Testing for num_discs=1\n",
      "Great, the implementation is working!\n",
      "===============\n",
      "Testing for num_discs=2\n",
      "Great, the implementation is working!\n",
      "===============\n",
      "Testing for num_discs=3\n",
      "Great, the implementation is working!\n",
      "===============\n",
      "Testing for num_discs=4\n",
      "Great, the implementation is working!\n",
      "===============\n",
      "Testing for num_discs=5\n",
      "Great, the implementation is working!\n",
      "===============\n"
     ]
    }
   ],
   "source": [
    "from typing import List\n",
    "\n",
    "def correct_hanoi(num_discs: int):\n",
    "    source: List[int] = [n for n in range(num_discs, 0, -1)]\n",
    "    dest: List[int] = []\n",
    "    temp: List[int] = []\n",
    "    \n",
    "    hanoi(source=source, destination=dest, temporary=temp, num_discs=num_discs)\n",
    "    correct = True\n",
    "    \n",
    "    src_discs = len(source)\n",
    "    tmp_discs = len(temp)\n",
    "    dst_discs = len(dest)\n",
    "    \n",
    "    if src_discs > 0:\n",
    "        print(f\"ERROR! Source tower still has {src_discs} discs\")\n",
    "        correct = False\n",
    "    \n",
    "    if dst_discs != num_discs:\n",
    "        print(f\"ERROR! Destination tower doesn't have all discs (it has {dst_discs})\")\n",
    "        correct = False\n",
    "\n",
    "    if tmp_discs != 0:\n",
    "        print(f\"ERROR! Temporary tower has {tmp_discs} discs!\")\n",
    "        correct = False\n",
    "    \n",
    "    if correct:\n",
    "        print(\"Great, the implementation is working!\")\n",
    "    else:\n",
    "        print(\"Sorry, there are some errors in your implementation\")\n",
    "\n",
    "\n",
    "for i in range(1, 6):\n",
    "    print(f\"Testing for num_discs={i}\")\n",
    "    correct_hanoi(num_discs=i)\n",
    "    print(\"=\" * 15)"
   ]
  },
  {
   "cell_type": "markdown",
   "metadata": {},
   "source": [
    "Now that we have the hanoi function implemented, we want to go one step further, and provide some very rudimentary visualization for the towers."
   ]
  },
  {
   "cell_type": "code",
   "execution_count": 18,
   "metadata": {},
   "outputs": [],
   "source": [
    "from typing import List\n",
    "\n",
    "def plot_towers(source: List[int], temporary: List[int], destination: List[int], num_discs: int):\n",
    "    \"\"\"This function will draw the three towers with the discs.\"\"\"\n",
    "    # This defines how wide each tower has to be, in order to fit all the discs\n",
    "    towers: Dict[str, List[int]] = {\n",
    "        \"SOURCE\": source,\n",
    "        \"TEMPORARY\": temporary,\n",
    "        \"DESTINATION\": destination,\n",
    "    }\n",
    "    empty_level: str = \"|\"\n",
    "    tower_base: str = \"=\"\n",
    "    \n",
    "    for name, tower in towers.items():\n",
    "        title = f\"{name} Tower\"\n",
    "        print(title)\n",
    "        print(\"=\" * len(title) + \"\\n\")\n",
    "        \n",
    "        print(empty_level)\n",
    "        for disc in range(1, num_discs + 1):\n",
    "            if disc in tower:\n",
    "                print(\"X\" * disc)\n",
    "            else:\n",
    "                print(\"|\")\n",
    "        print(tower_base * num_discs + \"\\n\")"
   ]
  },
  {
   "cell_type": "code",
   "execution_count": 29,
   "metadata": {},
   "outputs": [
    {
     "name": "stdout",
     "output_type": "stream",
     "text": [
      "**********\n",
      "BEFORE\n",
      "**********\n",
      "SOURCE Tower\n",
      "============\n",
      "\n",
      "|\n",
      "X\n",
      "XX\n",
      "XXX\n",
      "===\n",
      "\n",
      "TEMPORARY Tower\n",
      "===============\n",
      "\n",
      "|\n",
      "|\n",
      "|\n",
      "|\n",
      "===\n",
      "\n",
      "DESTINATION Tower\n",
      "=================\n",
      "\n",
      "|\n",
      "|\n",
      "|\n",
      "|\n",
      "===\n",
      "\n",
      "\n",
      "\n",
      "**********\n",
      "AFTER\n",
      "**********\n",
      "SOURCE Tower\n",
      "============\n",
      "\n",
      "|\n",
      "|\n",
      "|\n",
      "|\n",
      "===\n",
      "\n",
      "TEMPORARY Tower\n",
      "===============\n",
      "\n",
      "|\n",
      "|\n",
      "|\n",
      "|\n",
      "===\n",
      "\n",
      "DESTINATION Tower\n",
      "=================\n",
      "\n",
      "|\n",
      "X\n",
      "XX\n",
      "XXX\n",
      "===\n",
      "\n"
     ]
    }
   ],
   "source": [
    "source = [3, 2, 1]\n",
    "temp   = []\n",
    "dest   = []\n",
    "print(\"*\" * 10)\n",
    "print(\"BEFORE\")\n",
    "print(\"*\" * 10)\n",
    "plot_towers(source=source, temporary=temp, destination=dest, num_discs=3)\n",
    "hanoi(source=source, destination=dest, temporary=temp, num_discs=len(source))\n",
    "print(\"\\n\\n\" + \"*\" * 10)\n",
    "print(\"AFTER\")\n",
    "print(\"*\" * 10)\n",
    "plot_towers(source=source, temporary=temp, destination=dest, num_discs=3)"
   ]
  },
  {
   "cell_type": "markdown",
   "metadata": {},
   "source": [
    "Finally, to make the process of solving the Hanoi Towers for N discs a bit more convenient, we can have a function that creates the towers, solves the problem, while printing the initial and final status."
   ]
  },
  {
   "cell_type": "code",
   "execution_count": 32,
   "metadata": {},
   "outputs": [],
   "source": [
    "from typing import List\n",
    "\n",
    "def hanoi_towers(num_discs: int):\n",
    "    \"\"\"This method will create the three towers, add num_discs to the source tower,\n",
    "    and solve the problem.\"\"\"\n",
    "    source: List[int] = []\n",
    "    temp: List[int]   = []\n",
    "    dest: List[int]   = []\n",
    "    \n",
    "    for i in range(num_discs, 0, -1):\n",
    "        source.append(i)\n",
    "    \n",
    "    print(\"Initial state:\\n\")\n",
    "    plot_towers(source=source, temporary=temp, destination=dest, num_discs=num_discs)\n",
    "    hanoi(source=source, destination=dest, temporary=temp, num_discs=num_discs)\n",
    "    print(\"\\n\\nFinal state\\n\")\n",
    "    plot_towers(source=source, temporary=temp, destination=dest, num_discs=num_discs)\n"
   ]
  },
  {
   "cell_type": "code",
   "execution_count": 33,
   "metadata": {
    "scrolled": false
   },
   "outputs": [
    {
     "name": "stdout",
     "output_type": "stream",
     "text": [
      "Initial state:\n",
      "\n",
      "SOURCE Tower\n",
      "============\n",
      "\n",
      "|\n",
      "X\n",
      "XX\n",
      "==\n",
      "\n",
      "TEMPORARY Tower\n",
      "===============\n",
      "\n",
      "|\n",
      "|\n",
      "|\n",
      "==\n",
      "\n",
      "DESTINATION Tower\n",
      "=================\n",
      "\n",
      "|\n",
      "|\n",
      "|\n",
      "==\n",
      "\n",
      "\n",
      "\n",
      "Final state\n",
      "\n",
      "SOURCE Tower\n",
      "============\n",
      "\n",
      "|\n",
      "|\n",
      "|\n",
      "==\n",
      "\n",
      "TEMPORARY Tower\n",
      "===============\n",
      "\n",
      "|\n",
      "|\n",
      "|\n",
      "==\n",
      "\n",
      "DESTINATION Tower\n",
      "=================\n",
      "\n",
      "|\n",
      "X\n",
      "XX\n",
      "==\n",
      "\n"
     ]
    }
   ],
   "source": [
    "hanoi_towers(num_discs=2)"
   ]
  },
  {
   "cell_type": "code",
   "execution_count": 34,
   "metadata": {},
   "outputs": [
    {
     "name": "stdout",
     "output_type": "stream",
     "text": [
      "Initial state:\n",
      "\n",
      "SOURCE Tower\n",
      "============\n",
      "\n",
      "|\n",
      "X\n",
      "XX\n",
      "XXX\n",
      "===\n",
      "\n",
      "TEMPORARY Tower\n",
      "===============\n",
      "\n",
      "|\n",
      "|\n",
      "|\n",
      "|\n",
      "===\n",
      "\n",
      "DESTINATION Tower\n",
      "=================\n",
      "\n",
      "|\n",
      "|\n",
      "|\n",
      "|\n",
      "===\n",
      "\n",
      "\n",
      "\n",
      "Final state\n",
      "\n",
      "SOURCE Tower\n",
      "============\n",
      "\n",
      "|\n",
      "|\n",
      "|\n",
      "|\n",
      "===\n",
      "\n",
      "TEMPORARY Tower\n",
      "===============\n",
      "\n",
      "|\n",
      "|\n",
      "|\n",
      "|\n",
      "===\n",
      "\n",
      "DESTINATION Tower\n",
      "=================\n",
      "\n",
      "|\n",
      "X\n",
      "XX\n",
      "XXX\n",
      "===\n",
      "\n"
     ]
    }
   ],
   "source": [
    "hanoi_towers(num_discs=3)"
   ]
  },
  {
   "cell_type": "markdown",
   "metadata": {},
   "source": [
    "To finish, let's put all the functions into a class, that we'll use as the starting point for most exercises:"
   ]
  },
  {
   "cell_type": "code",
   "execution_count": 40,
   "metadata": {},
   "outputs": [
    {
     "name": "stdout",
     "output_type": "stream",
     "text": [
      "Writing hanoy.py\n"
     ]
    }
   ],
   "source": [
    "%%writefile hanoy.py\n",
    "from typing import Dict, List\n",
    "\n",
    "class Hanoi:\n",
    "    def __init__(self, num_discs: int):\n",
    "        self.num_discs = num_discs\n",
    "        self._source = []\n",
    "        self._temporary = []\n",
    "        self._destination = []\n",
    "        \n",
    "        for i in range(num_discs, 0, -1):\n",
    "            self._source.append(i)\n",
    "    \n",
    "    def draw(self):\n",
    "        towers: Dict[str, List[int]] = {\n",
    "            \"SOURCE\": self._source,\n",
    "            \"TEMPORARY\": self._temporary,\n",
    "            \"DESTINATION\": self._destination,\n",
    "        }\n",
    "        empty_level: str = \"|\"\n",
    "        tower_base: str = \"=\"\n",
    "\n",
    "        for name, tower in towers.items():\n",
    "            title = f\"{name} Tower\"\n",
    "            print(title)\n",
    "            print(\"=\" * len(title) + \"\\n\")\n",
    "\n",
    "            print(empty_level)\n",
    "            for disc in range(1, self.num_discs + 1):\n",
    "                if disc in tower:\n",
    "                    print(\"X\" * disc)\n",
    "                else:\n",
    "                    print(\"|\")\n",
    "            print(tower_base * self.num_discs + \"\\n\")\n",
    "    \n",
    "    def _hanoi(self, source: List[int], destination: List[int], temporary: List[int], num_discs: int):\n",
    "        if num_discs == 1:\n",
    "            # Just move disc from source to destination\n",
    "            destination.append(source.pop())\n",
    "        else:\n",
    "            # Move N - 1 discs from the source to the temporary tower.\n",
    "            # This means we \"swap\" destination and temporary\n",
    "            self._hanoi(\n",
    "                source=source,\n",
    "                destination=temporary,\n",
    "                temporary=destination,\n",
    "                num_discs=num_discs - 1,\n",
    "            )\n",
    "            # Move the remaining disc from the source to the destination\n",
    "            self._hanoi(\n",
    "                source=source,\n",
    "                destination=destination,\n",
    "                temporary=temporary,\n",
    "                num_discs=1,\n",
    "            )\n",
    "            # Finally, move the N - 1 discs from the first step to the destination.\n",
    "            # This means that we are swapping the source and the temporary towers.\n",
    "            self._hanoi(\n",
    "                source=temporary,\n",
    "                destination=destination,\n",
    "                temporary=source,\n",
    "                num_discs=num_discs - 1,\n",
    "            )\n",
    "    \n",
    "    def solve(self):\n",
    "        self._hanoi(\n",
    "            source=self._source,\n",
    "            destination=self._destination,\n",
    "            temporary=self._temporary,\n",
    "            num_discs=self.num_discs,\n",
    "        )\n",
    "    \n",
    "    def draw_and_solve(self):\n",
    "        print(\"Initial State:\\n\")\n",
    "        self.draw()\n",
    "        self.solve()\n",
    "        print(\"\\n\\nFinal State:\\n\")\n",
    "        self.draw()"
   ]
  },
  {
   "cell_type": "code",
   "execution_count": 36,
   "metadata": {},
   "outputs": [
    {
     "name": "stdout",
     "output_type": "stream",
     "text": [
      "Initial State:\n",
      "\n",
      "SOURCE Tower\n",
      "============\n",
      "\n",
      "|\n",
      "X\n",
      "XX\n",
      "==\n",
      "\n",
      "TEMPORARY Tower\n",
      "===============\n",
      "\n",
      "|\n",
      "|\n",
      "|\n",
      "==\n",
      "\n",
      "DESTINATION Tower\n",
      "=================\n",
      "\n",
      "|\n",
      "|\n",
      "|\n",
      "==\n",
      "\n",
      "\n",
      "\n",
      "Final State:\n",
      "\n",
      "SOURCE Tower\n",
      "============\n",
      "\n",
      "|\n",
      "|\n",
      "|\n",
      "==\n",
      "\n",
      "TEMPORARY Tower\n",
      "===============\n",
      "\n",
      "|\n",
      "|\n",
      "|\n",
      "==\n",
      "\n",
      "DESTINATION Tower\n",
      "=================\n",
      "\n",
      "|\n",
      "X\n",
      "XX\n",
      "==\n",
      "\n"
     ]
    }
   ],
   "source": [
    "hanoi = Hanoi(num_discs=2)\n",
    "hanoi.draw_and_solve()\n"
   ]
  },
  {
   "cell_type": "code",
   "execution_count": 37,
   "metadata": {},
   "outputs": [
    {
     "name": "stdout",
     "output_type": "stream",
     "text": [
      "Initial State:\n",
      "\n",
      "SOURCE Tower\n",
      "============\n",
      "\n",
      "|\n",
      "X\n",
      "XX\n",
      "XXX\n",
      "===\n",
      "\n",
      "TEMPORARY Tower\n",
      "===============\n",
      "\n",
      "|\n",
      "|\n",
      "|\n",
      "|\n",
      "===\n",
      "\n",
      "DESTINATION Tower\n",
      "=================\n",
      "\n",
      "|\n",
      "|\n",
      "|\n",
      "|\n",
      "===\n",
      "\n",
      "\n",
      "\n",
      "Final State:\n",
      "\n",
      "SOURCE Tower\n",
      "============\n",
      "\n",
      "|\n",
      "|\n",
      "|\n",
      "|\n",
      "===\n",
      "\n",
      "TEMPORARY Tower\n",
      "===============\n",
      "\n",
      "|\n",
      "|\n",
      "|\n",
      "|\n",
      "===\n",
      "\n",
      "DESTINATION Tower\n",
      "=================\n",
      "\n",
      "|\n",
      "X\n",
      "XX\n",
      "XXX\n",
      "===\n",
      "\n"
     ]
    }
   ],
   "source": [
    "hanoi = Hanoi(num_discs=3)\n",
    "hanoi.draw_and_solve()"
   ]
  },
  {
   "cell_type": "code",
   "execution_count": null,
   "metadata": {},
   "outputs": [],
   "source": []
  }
 ],
 "metadata": {
  "kernelspec": {
   "display_name": "Python 3",
   "language": "python",
   "name": "python3"
  },
  "language_info": {
   "codemirror_mode": {
    "name": "ipython",
    "version": 3
   },
   "file_extension": ".py",
   "mimetype": "text/x-python",
   "name": "python",
   "nbconvert_exporter": "python",
   "pygments_lexer": "ipython3",
   "version": "3.7.3"
  },
  "toc": {
   "base_numbering": 1,
   "nav_menu": {},
   "number_sections": true,
   "sideBar": true,
   "skip_h1_title": false,
   "title_cell": "Table of Contents",
   "title_sidebar": "Contents",
   "toc_cell": false,
   "toc_position": {},
   "toc_section_display": true,
   "toc_window_display": false
  }
 },
 "nbformat": 4,
 "nbformat_minor": 2
}
