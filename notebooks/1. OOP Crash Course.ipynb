{
 "cells": [
  {
   "cell_type": "markdown",
   "metadata": {},
   "source": [
    "# Object Oriented Programming (OOP) with Python Crash course\n",
    "\n",
    "## What is OOP?\n",
    "\n",
    "Object Oriented Programming (OOP) is what's called a \"programming paradigm\", or in other words: it's just a way to structure and organize your code to make sure it's easy to maintain it, and to enable collaboration between different people.\n",
    "\n",
    "In short, OOP tries to model our problem by splitting it into smaller components that interact with each other. Usually, these \"components\" represent concrete ideas (e.g. a person, a car, a bank) and their relationships (e.g. an insurance, a loan, an owner...)."
   ]
  },
  {
   "cell_type": "markdown",
   "metadata": {},
   "source": [
    "## Classes and Instances (Objects)\n",
    "\n",
    "At the core of OOP we have classes and instances (a.k.a. objects). You can see a class as a \"blueprint\" that defines how something behaves and what properties it has. For instance, we could have a class \"Person\", that contains properties \"name\" and \"age\", and that has the method \"say_hello\". Note that at this point, this is just a general definition, there's no concrete \"person\" yet. In contrast, an **instance** or **object** is a concrete instantiation of a class. So, you could have a class \"Person\", and an instance of the person class representing \"John Doe\", and another instance representing \"Jane Doe\".\n",
    "\n",
    "In Python, you define classes with the ```class``` reserved keyword, like this:\n",
    "\n",
    "```python\n",
    "class Person:\n",
    "    pass\n",
    "```\n",
    "\n",
    "This creates an empty \"blueprint\", but this still doesn't have any properties or methods. We will first learn how to define attributes for your class.\n",
    "\n",
    "## Initializing your class: the ```__init__``` method\n",
    "\n",
    "In Python, you initialize the properties of your instance in a special method, named ```__init__```. In software development, this method is called a **constructor**. For our ```Person``` class, where we want to have a ```name``` and ```age``` attributes, it would look like this:\n",
    "\n",
    "```python\n",
    "class Person:\n",
    "    def __init__(self, name, age):\n",
    "        self.name = name\n",
    "        self.age = age\n",
    "```\n",
    "\n",
    "One thing that's specific to Python is the first argument you see in this method, the ```self``` method, which must be the first argument of any instance method (we'll cover this more in detail below). The other two variables passed to the ```__init__``` method, ```name``` and ```age``` are just values that will be provided when creating an instance.\n",
    "\n",
    "Finally, inside the method you see statements like ```self.name = name```. This is adding a \"name\" attribute to the instance, so that you can access it later.\n",
    "\n",
    "From the class we just defined, we can create instances like this:\n",
    "\n",
    "```python\n",
    "john = Person(name=\"John\", age=30)\n",
    "jane = Person(name=\"Jane\", age=35)\n",
    "\n",
    "print(f\"Hi there, I'm {john.name} and I'm {john.age}\")\n",
    "print(f\"Hi there, I'm {jane.name} and I'm {jane.age}\")\n",
    "```\n",
    "\n",
    "The attributes we just created here are called **instance attributes**, because they are specific to each instance of the Person class; the value is not shared between instances.\n",
    "\n",
    "## Attributes: Class and instance attributes\n",
    "\n",
    "Sometimes, you want to have a value that's shared among all the instances of a class. Suppose that you want to have an attribute to know how many Person instances you have created. You could do something like this:"
   ]
  },
  {
   "cell_type": "code",
   "execution_count": 13,
   "metadata": {},
   "outputs": [
    {
     "name": "stdout",
     "output_type": "stream",
     "text": [
      "Population: 0\n",
      "Population: 1\n",
      "Population: 2\n"
     ]
    }
   ],
   "source": [
    "class Person:\n",
    "    # This is a class attribute, and is shared across all instances\n",
    "    population = 0\n",
    "    \n",
    "    def __init__(self, name, age):\n",
    "        Person.population = Person.population + 1\n",
    "        \n",
    "        self.name = name\n",
    "        self.age = age\n",
    "        \n",
    "print(f\"Population: {Person.population}\")\n",
    "john = Person(name=\"John\", age=\"40\")\n",
    "print(f\"Population: {Person.population}\")\n",
    "jane = Person(name=\"Jane\", age=\"20\")\n",
    "print(f\"Population: {Person.population}\")"
   ]
  },
  {
   "cell_type": "markdown",
   "metadata": {},
   "source": [
    "### Accessing class attributes\n",
    "\n",
    "You probably noticed that the main difference is that we define class attributes after the ```class``` statement, rather than inside the ```__init__``` method. Besides, when we access it, we use the class name (```Person```) instead of ```self```. You will still be able to use ```self``` in other methods, but if you do it inside the ```__init__```, a new instance attribute would be created, so it is advisable to use the class name when accessing class attributes.\n",
    "\n",
    "In practice, Python keeps a \"namespace\" for class attributes and one for instance attributes, and when you try to access them, the instance attributes are checked first.\n",
    "\n"
   ]
  },
  {
   "cell_type": "markdown",
   "metadata": {
    "solution2": "shown",
    "solution2_first": true
   },
   "source": [
    "### Exercise\n",
    "\n",
    "Check the following code.\n",
    "\n",
    "```python\n",
    "class Dog:\n",
    "    species = \"mammal\"\n",
    "    \n",
    "    def __init__(self, name, species):\n",
    "        self.name = name\n",
    "        self.species = species\n",
    "\n",
    "kora = Dog(name=\"Kora\", species=\"Husky\")\n",
    "\n",
    "print(f\"{kora.name} is a {kora.species}\")\n",
    "print(f\"Dogs are {Dog.species}\")\n",
    "```\n",
    "\n",
    "What will be the output of this code?\n",
    "\n",
    "a.\n",
    "```\n",
    "Kora is a Husky\n",
    "Dogs are Husky\n",
    "```\n",
    "b.\n",
    "```\n",
    "Kora is a mammal\n",
    "Dogs are mammal\n",
    "```\n",
    "c.\n",
    "```\n",
    "Kora is a Husky\n",
    "Dogs are mammal\n",
    "```\n",
    "d.\n",
    "```\n",
    "Kora is a mammal\n",
    "Dogs are Husky\n",
    "```\n",
    "e. The code will fail"
   ]
  },
  {
   "cell_type": "markdown",
   "metadata": {
    "solution2": "shown"
   },
   "source": [
    "Answer ```c``` is correct. The reason, as we just mentioned, is that the way the class is defined, we are creating a \"species\" attribute in the instance namespace, and one in the class namespace. When we create an instance of the ```Dog``` class and access the ```species``` attribute, the instance namespcae is checked first, which is why ```kora.species``` returns \"Husky\". However, when we access ```Dog.species```, there is no instance namespace to be checked, so \"mammal\" is returned.\n",
    "\n",
    "You can verify what we just said with the code below."
   ]
  },
  {
   "cell_type": "code",
   "execution_count": 2,
   "metadata": {
    "solution2": "shown"
   },
   "outputs": [
    {
     "name": "stdout",
     "output_type": "stream",
     "text": [
      "Kora is a Husky\n",
      "Dogs are mammal\n"
     ]
    }
   ],
   "source": [
    "class Dog:\n",
    "    species = \"mammal\"\n",
    "\n",
    "    def __init__(self, name, species):\n",
    "        self.name = name\n",
    "        self.species = species\n",
    "\n",
    "kora = Dog(name=\"Kora\", species=\"Husky\")\n",
    "\n",
    "print(f\"{kora.name} is a {kora.species}\")\n",
    "print(f\"Dogs are {Dog.species}\")"
   ]
  },
  {
   "cell_type": "markdown",
   "metadata": {},
   "source": [
    "### When to use class vs instance attributes?\n",
    "\n",
    "There is no rule for this, but in general, class attributes are a better fit anything that will not change between instances, such as constants or values that will be the same accross instances (e.g. all dogs are \"mammals\")."
   ]
  },
  {
   "cell_type": "markdown",
   "metadata": {},
   "source": [
    "## Methods: Instance/class/static methods, properties\n",
    "\n",
    "Similar to class vs instance attributes, we also have three types of methods, that we'll cover in this section.\n",
    "\n",
    "### Instance methods\n",
    "\n",
    "Instance methods are specific to (as the name says) instances. This means that they have access to the instance variables, unlike the other two types of methods. Consider the following class:\n",
    "\n",
    "```python\n",
    "class Person:\n",
    "    def __init__(self, name, age):\n",
    "        self.name = name\n",
    "        self.age = age\n",
    "    \n",
    "    def say_hello(self):\n",
    "        print(f\"Hello, I'm {self.name}\")\n",
    "```\n",
    "\n",
    "The ```say_hello``` is an example of an instance method. It gets access to the instance attributes via the ```self``` argument, and it is required to include that ```self``` argument in the definition of any instance method. If you don't include it, your code will fail.\n",
    "\n",
    "### Exercise\n",
    "\n",
    "Add another instance method that prints the age of a person. "
   ]
  },
  {
   "cell_type": "code",
   "execution_count": 17,
   "metadata": {
    "solution2": "shown",
    "solution2_first": true
   },
   "outputs": [
    {
     "name": "stdout",
     "output_type": "stream",
     "text": [
      "Jane's age is 36\n",
      "John's age is 41\n"
     ]
    }
   ],
   "source": [
    "class Person:\n",
    "    def __init__(self, name, age):\n",
    "        self.name = name\n",
    "        self.age = age\n",
    "    \n",
    "    def say_hello(self):\n",
    "        print(f\"Hello, I'm {self.name}\")\n",
    "    \n",
    "    def tell_age(self):\n",
    "        print(f\"{self.name}'s age is {self.age}\")\n",
    "\n",
    "# You can test with this code:\n",
    "jane = Person(name=\"Jane\", age=36)\n",
    "jane.tell_age()\n",
    "john = Person(name=\"John\", age=41)\n",
    "john.tell_age()"
   ]
  },
  {
   "cell_type": "code",
   "execution_count": 4,
   "metadata": {
    "solution2": "shown"
   },
   "outputs": [
    {
     "name": "stdout",
     "output_type": "stream",
     "text": [
      "I'm Jane, and I'm 36 years old!\n",
      "I'm John, and I'm 36 years old!\n"
     ]
    }
   ],
   "source": [
    "class Person:\n",
    "    def __init__(self, name, age):\n",
    "        self.name = name\n",
    "        self.age = age\n",
    "    \n",
    "    def say_hello(self):\n",
    "        print(f\"Hello, I'm {self.name}\")\n",
    "    \n",
    "    def tell_age(self):\n",
    "        if self.age > 40:\n",
    "            print(f\"I'm {self.name}, and I'm {self.age - 5} years old!\")\n",
    "        else:\n",
    "            print(f\"I'm {self.name}, and I'm {self.age} years old!\")\n",
    "\n",
    "jane = Person(name=\"Jane\", age=36)\n",
    "jane.tell_age()\n",
    "john = Person(name=\"John\", age=41)\n",
    "john.tell_age()"
   ]
  },
  {
   "cell_type": "code",
   "execution_count": null,
   "metadata": {},
   "outputs": [],
   "source": [
    "class Calculator:\n",
    "    def sum(self):\n",
    "        print(\"another sum\")\n",
    "    @staticmethod\n",
    "    def sum(x, y):\n",
    "        return x + y\n",
    "calc = Calculator()\n",
    "calc.sum(2, 3)"
   ]
  },
  {
   "cell_type": "markdown",
   "metadata": {
    "solution2": "hidden",
    "solution2_first": true
   },
   "source": [
    "### Static methods\n",
    "\n",
    "A static method is basically a function that knows nothing about instances or about the class itself. You could just take it out of the class, unchanged, into a function, and it should still work. Suppose you have this class:\n",
    "\n",
    "```python\n",
    "class Calculator:\n",
    "    def sum(self):\n",
    "        print(\"another sum\")\n",
    "    @staticmethod\n",
    "    def sum(x, y):\n",
    "        return x + y\n",
    "\n",
    "calc = Calculator()\n",
    "calc.sum(2, 3)\n",
    "\n",
    "# You could also do:\n",
    "Calculator.sum(4, 5)\n",
    "```\n",
    "\n",
    "The ```sum``` function is part of the ```Calculator``` class, but it doesn't really use any instance or class attributes. It's important to note that the static vs instance methods follows the same rules as for variables: when you invoke a method, first the instance namespace is checked, and then the class namespace is checked. This means that this code is syntactically correct, but won't behave consistently:\n",
    "\n",
    "```python\n",
    "class Person:\n",
    "    def __init__(self, name):\n",
    "        self.name = name\n",
    "\n",
    "    def say_hello(self, to):\n",
    "        print(f\"Hey {to}, this is {self.name}\")\n",
    "\n",
    "    @staticmethod\n",
    "    def say_hello(to):\n",
    "        print(f\"Hey there, {to}\")\n",
    "\n",
    "p = Person(name=\"John\")\n",
    "p.say_hello(to=\"Jane\")\n",
    "Person.say_hello(to=\"Jane\")\n",
    "```\n",
    "\n",
    "#### Exercise\n",
    "\n",
    "What will be the output of the code above?\n",
    "\n",
    "a.\n",
    "```\n",
    "Hey Jane, this is John\n",
    "Hey there, Jane\n",
    "```\n",
    "b.\n",
    "```\n",
    "Hey there, Jane\n",
    "Hey there, Jane\n",
    "```\n",
    "c.\n",
    "```\n",
    "Hey John, this is Jane\n",
    "Hey there, Jane\n",
    "```\n",
    "d.\n",
    "```\n",
    "Hey Jane, this is John\n",
    "Hey Jane, this is John\n",
    "```\n"
   ]
  },
  {
   "cell_type": "code",
   "execution_count": 20,
   "metadata": {
    "solution2": "hidden"
   },
   "outputs": [
    {
     "name": "stdout",
     "output_type": "stream",
     "text": [
      "Hey there, Jane\n",
      "Hey there, Jane\n"
     ]
    }
   ],
   "source": [
    "class Person:\n",
    "    def __init__(self, name):\n",
    "        self.name = name\n",
    "\n",
    "    def say_hello(self, to):\n",
    "        print(f\"Hey {to}, this is {self.name}\")\n",
    "\n",
    "    @staticmethod\n",
    "    def say_hello(to):\n",
    "        print(f\"Hey there, {to}\")\n",
    "\n",
    "p = Person(name=\"John\")\n",
    "p.say_hello(to=\"Jane\")\n",
    "Person.say_hello(to=\"Jane\")"
   ]
  },
  {
   "cell_type": "markdown",
   "metadata": {},
   "source": [
    "### Class methods\n",
    "\n",
    "Class methods are pretty much the same as static methods, with a difference: they receive the class they belong to as an argument too. This is useful in cases of inheritance (we'll cover inheritance below). This example should help to illustrate where class methods can be useful:"
   ]
  },
  {
   "cell_type": "code",
   "execution_count": 24,
   "metadata": {},
   "outputs": [
    {
     "name": "stdout",
     "output_type": "stream",
     "text": [
      "My species is animal\n",
      "My species is reptile\n"
     ]
    }
   ],
   "source": [
    "class Animal:\n",
    "    species = \"animal\"\n",
    "    \n",
    "    @classmethod\n",
    "    def print_species(cls):\n",
    "        print(f\"My species is {cls.species}\")\n",
    "\n",
    "class Reptile(Animal):\n",
    "    species = \"reptile\"\n",
    "    \n",
    "Animal.print_species()\n",
    "Reptile.print_species()"
   ]
  },
  {
   "cell_type": "markdown",
   "metadata": {},
   "source": [
    "So, in short, the ```classmethod``` allows us to have static methods that can use the right value from the right class. If there's no inheritance involved, then there's little difference between the two, other than the ```classmethod``` gets the class as an argument to the function and the ```staticmethod``` doesn't receive any extra arguments."
   ]
  },
  {
   "cell_type": "markdown",
   "metadata": {},
   "source": [
    "### Properties\n",
    "\n",
    "Finally, the last type of method we'll see are properties. Properties are usually instance methods, and are accessed like attributes rather than as methods (i.e. you call them like ```x.my_property``` rather than ```x.my_property()```. Some use cases for properties are:\n",
    "\n",
    "- To have full control about what is returned in an attribute / what can be set on it. You can create read-only or write-only attributes, or decide if a certain value is valid before changing the attribute\n",
    "- You can easily implement lazy evaluation through properties. This comes in handy when you have to do \"slow\" operations to populate attributes, but you want to make sure you only do them when they are actually needed.\n",
    "\n",
    "#### Declaring properties\n",
    "\n",
    "To declare a property, you have to use the ```@property``` decorator, like this:"
   ]
  },
  {
   "cell_type": "code",
   "execution_count": 28,
   "metadata": {},
   "outputs": [
    {
     "name": "stdout",
     "output_type": "stream",
     "text": [
      "a.name:  Something\n"
     ]
    }
   ],
   "source": [
    "class A:\n",
    "    def __init__(self):\n",
    "        self._name = \"Something\"\n",
    "\n",
    "    @property\n",
    "    def name(self):\n",
    "        return self._name\n",
    "\n",
    "a = A()\n",
    "print(\"a.name: \", a.name)"
   ]
  },
  {
   "cell_type": "markdown",
   "metadata": {},
   "source": [
    "This creates a read-only property, so the following code will fail:"
   ]
  },
  {
   "cell_type": "markdown",
   "metadata": {},
   "source": [
    "This is because the ```@property``` decorator defines the property, but only allows reading from it (this is called a \"getter\" in most languages). If you want to also be able to set the value of a property, you need to create a \"setter\" too, which you can do with the special decorator ```@[PROPERTY_NAME].setter```. In general, the common way to use this involves having a private attribute that is accessed only by the getter/setter, like this:"
   ]
  },
  {
   "cell_type": "code",
   "execution_count": 33,
   "metadata": {},
   "outputs": [
    {
     "name": "stdout",
     "output_type": "stream",
     "text": [
      "a.name - before:  Something\n",
      "a.name - after:  New name\n"
     ]
    }
   ],
   "source": [
    "class A:\n",
    "    def __init__(self):\n",
    "        self._name = \"Something\"\n",
    "\n",
    "    @property\n",
    "    def name(self):\n",
    "        return self._name\n",
    "    \n",
    "    @name.setter\n",
    "    def name(self, new_name):\n",
    "        assert new_name != \"\", \"Name cannot be empty!\"\n",
    "        self._name = new_name\n",
    "\n",
    "a = A()\n",
    "print(\"a.name - before: \", a.name)\n",
    "a.name = \"New name\"\n",
    "print(\"a.name - after: \", a.name)\n"
   ]
  },
  {
   "cell_type": "markdown",
   "metadata": {},
   "source": []
  },
  {
   "cell_type": "markdown",
   "metadata": {},
   "source": [
    "### Using the setter to validate values\n",
    "\n",
    "Once you have a setter, it's pretty easy to add checks on what values are acceptable and what values are not, for instance, try running the following code and make sure you understand why it raises an exception:"
   ]
  },
  {
   "cell_type": "code",
   "execution_count": null,
   "metadata": {},
   "outputs": [],
   "source": [
    "class Person:\n",
    "    def __init__(self, name, age):\n",
    "        self.age = age\n",
    "    \n",
    "    @property\n",
    "    def age(self):\n",
    "        return self._age\n",
    "    \n",
    "    @age.setter\n",
    "    def age(self, age):\n",
    "        if age < 0:\n",
    "            raise ValueError(\"Age should be >= 0!\")\n",
    "        \n",
    "        self._age = age\n",
    "\n",
    "p = Person(name=\"John\", age=30)\n",
    "print(\"Age: \", p.age)\n",
    "p.age = -1"
   ]
  },
  {
   "cell_type": "markdown",
   "metadata": {},
   "source": [
    "## Inheritance\n",
    "\n",
    "Inheritance is a common mechanism to extend and customize the behavior of a class. The basic syntax is as follows:\n",
    "\n",
    "```python\n",
    "\n",
    "class A:\n",
    "    pass\n",
    "\n",
    "# Class B extends class A\n",
    "class B(A):\n",
    "    pass\n",
    "```\n",
    "\n",
    "With this, instances of ```B``` will have access to the methods and attributes of ```A```. You can test it with the following code:"
   ]
  },
  {
   "cell_type": "code",
   "execution_count": 34,
   "metadata": {},
   "outputs": [
    {
     "name": "stdout",
     "output_type": "stream",
     "text": [
      "I'm A\n"
     ]
    }
   ],
   "source": [
    "class A:\n",
    "    def test(self):\n",
    "        print(\"I'm A\")\n",
    "\n",
    "# Class B extends class A\n",
    "class B(A):\n",
    "    pass\n",
    "\n",
    "b = B()\n",
    "b.test()"
   ]
  },
  {
   "cell_type": "markdown",
   "metadata": {},
   "source": [
    "Python also supports multiple inheritance, so you can actually extend from multiple classes"
   ]
  },
  {
   "cell_type": "code",
   "execution_count": 38,
   "metadata": {},
   "outputs": [
    {
     "name": "stdout",
     "output_type": "stream",
     "text": [
      "I'm A\n",
      "I'm C\n"
     ]
    }
   ],
   "source": [
    "class A:\n",
    "    def test(self):\n",
    "        print(\"I'm A\")\n",
    "\n",
    "# Class B extends class A\n",
    "class B(A):\n",
    "    pass\n",
    "\n",
    "class C:\n",
    "    def another_test(self):\n",
    "        print(\"I'm C\")\n",
    "\n",
    "class D(C, A):\n",
    "    pass\n",
    "\n",
    "d = D()\n",
    "d.test()\n",
    "d.another_test()"
   ]
  },
  {
   "cell_type": "markdown",
   "metadata": {},
   "source": [
    "Multiple inheritance is a very powerful mechanism, but you need to be careful with it, or you can very easily fall into the problem known as [The Diamond Problem](https://en.wikipedia.org/wiki/Multiple_inheritance#The_diamond_problem), which basically means that when you extend from multiple classes, you might introduce ambiguity with regards to what is the method you should use."
   ]
  },
  {
   "cell_type": "code",
   "execution_count": null,
   "metadata": {},
   "outputs": [],
   "source": [
    "class A:\n",
    "    def test(self):\n",
    "        print(\"I'm A\")\n",
    "\n",
    "# Class B extends class A\n",
    "class B(A):\n",
    "    pass\n",
    "\n",
    "class C(A):\n",
    "    def test(self):\n",
    "        print(\"I'm C\")\n",
    "\n",
    "class D(A, C):\n",
    "    pass\n",
    "\n",
    "d = D()\n",
    "d.test()"
   ]
  },
  {
   "cell_type": "markdown",
   "metadata": {
    "solution2": "hidden",
    "solution2_first": true
   },
   "source": [
    "### Exercise\n",
    "\n",
    "What do you think will be the output of the following code and why?\n",
    "\n",
    "```python\n",
    "class A:\n",
    "    def test(self):\n",
    "        print(\"I'm A\")\n",
    "\n",
    "class B:\n",
    "    def test(self):\n",
    "        print(\"I'm B\")\n",
    "\n",
    "class C(B, A):\n",
    "    pass\n",
    "\n",
    "class D(A, B):\n",
    "    pass\n",
    "\n",
    "c = C()\n",
    "c.test()\n",
    "d = D()\n",
    "d.test()\n",
    "```\n",
    "\n",
    "a.\n",
    "```\n",
    "I'm A\n",
    "I'm B\n",
    "```\n",
    "b.\n",
    "```\n",
    "I'm B\n",
    "I'm A\n",
    "```\n",
    "c.\n",
    "```\n",
    "I'm A\n",
    "I'm A\n",
    "```\n",
    "d.\n",
    "```\n",
    "I'm B\n",
    "I'm B\n",
    "```\n",
    "e. The code will fail, because both A and B define the same method"
   ]
  },
  {
   "cell_type": "markdown",
   "metadata": {
    "solution2": "hidden"
   },
   "source": [
    "The answer is ```b```.\n",
    "\n",
    "Why is it like that? Well, the solution that Python has in place for multiple inheritance and issues like the diamond problem is called MRO (Method Order Resolution).\n",
    "\n",
    "In short, when a class inherits from multiple classes, the order in what the methods are resolved goes left to right, meaning that in the case of class ```C```, defined as ```class C(B, A)```, when you call C().test(), the method in ```B``` gets called, but in the case of class ```D```, defined as ```class D(A, B)```, it's the method in ```A``` that's called first."
   ]
  },
  {
   "cell_type": "code",
   "execution_count": 40,
   "metadata": {
    "solution2": "hidden"
   },
   "outputs": [
    {
     "name": "stdout",
     "output_type": "stream",
     "text": [
      "I'm B\n",
      "I'm A\n"
     ]
    }
   ],
   "source": [
    "class A:\n",
    "    def test(self):\n",
    "        print(\"I'm A\")\n",
    "\n",
    "class B:\n",
    "    def test(self):\n",
    "        print(\"I'm B\")\n",
    "\n",
    "class C(B, A):\n",
    "    pass\n",
    "\n",
    "class D(A, B):\n",
    "    pass\n",
    "\n",
    "c = C()\n",
    "c.test()\n",
    "d = D()\n",
    "d.test()"
   ]
  },
  {
   "cell_type": "markdown",
   "metadata": {
    "solution2": "hidden"
   },
   "source": [
    "### MRO\n",
    "\n",
    "When in doubt, you can always verify the order in which methods are resolved for a specific class by calling the ```mro``` method on the class itself. You can find the full documentation of MRO [here](https://www.python.org/download/releases/2.3/mro/), but we'll show it from with examples"
   ]
  },
  {
   "cell_type": "code",
   "execution_count": 41,
   "metadata": {},
   "outputs": [
    {
     "name": "stdout",
     "output_type": "stream",
     "text": [
      "MRO for class C:\n",
      "[<class '__main__.C'>, <class '__main__.B'>, <class '__main__.A'>, <class 'object'>]\n",
      "MRO for class D:\n",
      "[<class '__main__.D'>, <class '__main__.A'>, <class '__main__.B'>, <class 'object'>]\n"
     ]
    }
   ],
   "source": [
    "print(\"MRO for class C:\")\n",
    "print(C.mro())\n",
    "print(\"MRO for class D:\")\n",
    "print(D.mro())"
   ]
  },
  {
   "cell_type": "markdown",
   "metadata": {},
   "source": [
    "In the example above we knew the class name, so we just called the ```mro``` method on the class. Sometimes you just have a instance, and you might not know the class it belongs to. You can also get the mro from an instance via the ```__class__``` special property"
   ]
  },
  {
   "cell_type": "code",
   "execution_count": 49,
   "metadata": {},
   "outputs": [
    {
     "name": "stdout",
     "output_type": "stream",
     "text": [
      "MRO for instance c:\n",
      "[<class '__main__.C'>, <class '__main__.B'>, <class '__main__.A'>, <class 'object'>]\n",
      "MRO for instance d:\n",
      "[<class '__main__.D'>, <class '__main__.A'>, <class '__main__.B'>, <class 'object'>]\n"
     ]
    }
   ],
   "source": [
    "print(\"MRO for instance c:\")\n",
    "print(c.__class__.mro())\n",
    "print(\"MRO for instance d:\")\n",
    "print(d.__class__.mro())"
   ]
  },
  {
   "cell_type": "markdown",
   "metadata": {},
   "source": [
    "### Mixins\n",
    "\n",
    "Mixins are just classes, but you might see them quite often in some projects. The idea is to break behaviour in very small pieces, that sometimes might not even be very useful on their own, but that allow you to create classes by just *mixing* a few mixins into another class (here's where the name comes from).\n",
    "\n",
    "The main benefit of mixins is that they allow you to reuse the code with no duplication, amd they make it very easy to have a new combination of mixins. In Software engineering, this is called \"Composition\", and although there's some debate about it, in many cases composition is preferred over inheritance. You can find a more detailed example and explanation on [this article](https://medium.com/humans-create-software/composition-over-inheritance-cb6f88070205)\n",
    "\n",
    "Suppose that we have a class ```Publisher```, that can generate some text, via the ```write``` method, and that can also print it, via the ```print``` method. It might look like this:"
   ]
  },
  {
   "cell_type": "code",
   "execution_count": null,
   "metadata": {},
   "outputs": [],
   "source": [
    "class Publisher:\n",
    "    def write(self):\n",
    "        return \"In theory, practice is simple\"\n",
    "    \n",
    "    def print(self, text):\n",
    "        print(text)"
   ]
  },
  {
   "cell_type": "markdown",
   "metadata": {},
   "source": [
    "Now, suppose we have a new type of publisher, that likes to print everything in uppercase. To model it, we extend the ```Publisher``` class, like this:"
   ]
  },
  {
   "cell_type": "code",
   "execution_count": null,
   "metadata": {},
   "outputs": [],
   "source": [
    "class UppercasePublisher(Publisher):\n",
    "    def print(self, text):\n",
    "        print(text.upper())\n",
    "\n",
    "class AnotherWriter(Publisher):\n",
    "    def write(self):\n",
    "        return \"foo\""
   ]
  },
  {
   "cell_type": "markdown",
   "metadata": {},
   "source": [
    "Everything fine, right? Now, it turns out that a new class is needed, ```Writer```, that is able to generate text, but not to print it. So, how do we fix it? We can abstract the write method to a new class, and have Publisher extend from it. That's ok, but as we keep extending functionality, the class hierarchy will get messy. Instead, we can define smaller pieces of behavior, and just combine them as we need them:"
   ]
  },
  {
   "cell_type": "code",
   "execution_count": null,
   "metadata": {},
   "outputs": [],
   "source": [
    "class Writer:\n",
    "    def write(self):\n",
    "        return \"In theory, practice is simple\"\n",
    "\n",
    "class Printer:\n",
    "    def print(self, text):\n",
    "        print(text)"
   ]
  },
  {
   "cell_type": "markdown",
   "metadata": {},
   "source": [
    "And our ```Publisher``` class just becomes this:"
   ]
  },
  {
   "cell_type": "code",
   "execution_count": null,
   "metadata": {},
   "outputs": [],
   "source": [
    "class Publisher(Writer, Printer):\n",
    "    pass"
   ]
  },
  {
   "cell_type": "markdown",
   "metadata": {},
   "source": [
    "Now, for the case of the ```UppercasePublisher```, we define a new printer:"
   ]
  },
  {
   "cell_type": "code",
   "execution_count": null,
   "metadata": {},
   "outputs": [],
   "source": [
    "class UppercasePrinter:\n",
    "    def print(self, text):\n",
    "        print(text.upper())\n",
    "\n",
    "class UppercasePublisher(Writer, UppercasePrinter):\n",
    "    pass"
   ]
  },
  {
   "cell_type": "markdown",
   "metadata": {},
   "source": [
    "This might look a bit more complex than plain inheritance (and it is, conceptually). Now, consider there's a new type of writer too:"
   ]
  },
  {
   "cell_type": "code",
   "execution_count": null,
   "metadata": {},
   "outputs": [],
   "source": [
    "class SmartWriter:\n",
    "    def write(self):\n",
    "        return \"In theory, theory and practice are the same. In practice, they are not.\""
   ]
  },
  {
   "cell_type": "markdown",
   "metadata": {},
   "source": [
    "How would you create ```Publisher``` classes that use the ```SmartWriter``` and ```Printer```, and ```SmartWriter``` with ```UppercasePrinter``` by using inheritance? That would start to get complex very fast. With mixins, it's just a matter of creating new combinations:"
   ]
  },
  {
   "cell_type": "code",
   "execution_count": null,
   "metadata": {},
   "outputs": [],
   "source": [
    "class SmartPublisher(SmartWriter, Printer):\n",
    "    pass\n",
    "class SmartUppercasePublisher(SmartWriter, UppercasePrinter):\n",
    "    pass"
   ]
  },
  {
   "cell_type": "markdown",
   "metadata": {},
   "source": [
    "## Abstract classes\n",
    "\n",
    "The next type of classes we'll see are abstract classes. Abstract classes allow you do define methods that any children must implement. This is specially handy since you can define a \"contract\" that child classes should follow, so anyone using these classes knows what methods to expect and how to call them.\n",
    "\n",
    "Let's see how you can define an abstract class:"
   ]
  },
  {
   "cell_type": "code",
   "execution_count": 50,
   "metadata": {},
   "outputs": [],
   "source": [
    "from abc import ABC, abstractmethod\n",
    "\n",
    "class Vehicle(ABC):\n",
    "    @abstractmethod\n",
    "    def start(self):\n",
    "        pass\n",
    "    \n",
    "    @abstractmethod\n",
    "    def stop(self):\n",
    "        pass\n",
    "    \n",
    "    @abstractmethod\n",
    "    def forward(self):\n",
    "        pass\n",
    "\n",
    "    @abstractmethod\n",
    "    def backwards(self):\n",
    "        pass"
   ]
  },
  {
   "cell_type": "markdown",
   "metadata": {},
   "source": [
    "Note that there's no actual code in any of the methods. In this case, this abstract class is what other languages call an *Interface*, so basically you only define how the methods will look like, but no real code.\n",
    "\n",
    "Now, any class extending the Vehicle class will have to implement the four methods we defined. Let's see what happens if we don't:"
   ]
  },
  {
   "cell_type": "code",
   "execution_count": 51,
   "metadata": {},
   "outputs": [
    {
     "ename": "TypeError",
     "evalue": "Can't instantiate abstract class Car with abstract methods backwards, forward, start, stop",
     "output_type": "error",
     "traceback": [
      "\u001b[0;31m---------------------------------------------------------------------------\u001b[0m",
      "\u001b[0;31mTypeError\u001b[0m                                 Traceback (most recent call last)",
      "\u001b[0;32m<ipython-input-51-60a4a3ce4031>\u001b[0m in \u001b[0;36m<module>\u001b[0;34m\u001b[0m\n\u001b[1;32m      2\u001b[0m     \u001b[0;32mpass\u001b[0m\u001b[0;34m\u001b[0m\u001b[0;34m\u001b[0m\u001b[0m\n\u001b[1;32m      3\u001b[0m \u001b[0;34m\u001b[0m\u001b[0m\n\u001b[0;32m----> 4\u001b[0;31m \u001b[0mcar\u001b[0m \u001b[0;34m=\u001b[0m \u001b[0mCar\u001b[0m\u001b[0;34m(\u001b[0m\u001b[0;34m)\u001b[0m\u001b[0;34m\u001b[0m\u001b[0;34m\u001b[0m\u001b[0m\n\u001b[0m",
      "\u001b[0;31mTypeError\u001b[0m: Can't instantiate abstract class Car with abstract methods backwards, forward, start, stop"
     ]
    }
   ],
   "source": [
    "class Car(Vehicle):\n",
    "    pass\n",
    "\n",
    "car = Car()"
   ]
  },
  {
   "cell_type": "markdown",
   "metadata": {},
   "source": [
    "The error stats that the ```Car``` class doesn't have all abstract methods implemented, so you can't instantiate it. To fix it, you need to implement the four missing methods in the Car class:"
   ]
  },
  {
   "cell_type": "code",
   "execution_count": 53,
   "metadata": {},
   "outputs": [],
   "source": [
    "class Car(Vehicle):\n",
    "    def __init__(self, **kwargs):\n",
    "        super().__init__(**kwargs)\n",
    "    \n",
    "    def start(self):\n",
    "        print(\"Starting the car...\")\n",
    "\n",
    "    def stop(self):\n",
    "        print(\"Stopping the car\")\n",
    "\n",
    "    def forward(self):\n",
    "        print(\"Going forward with the car\")\n",
    "    \n",
    "    def backwards(self):\n",
    "        print(\"Going backwards with the car!\")\n",
    "\n",
    "car = Car()\n",
    "\n",
    "class Motorbike(Vehicle):\n",
    "    def __init__(self, **kwargs):\n",
    "        super().__init__(**kwargs)\n",
    "    \n",
    "    def start(self):\n",
    "        print(\"Starting the motorbike...\")\n",
    "\n",
    "    def stop(self):\n",
    "        print(\"Stopping the motorbike\")\n",
    "\n",
    "    def forward(self):\n",
    "        print(\"Going forward with the bike\")\n",
    "    \n",
    "    def backwards(self):\n",
    "        print(\"Going backwards with the bike!\")\n",
    "\n",
    "motorbike = Motorbike()"
   ]
  },
  {
   "cell_type": "markdown",
   "metadata": {},
   "source": [
    "We'll see more about how this is useful later, but if we had a ```Driver``` class, we could now have one that works with any ```Vehicle```:"
   ]
  },
  {
   "cell_type": "code",
   "execution_count": 54,
   "metadata": {},
   "outputs": [
    {
     "name": "stdout",
     "output_type": "stream",
     "text": [
      "Starting the car...\n",
      "Going forward with the car\n",
      "Stopping the car\n",
      "\n",
      "\n",
      "Taking a break...\n",
      "\n",
      "\n",
      "Starting the motorbike...\n",
      "Going forward with the bike\n",
      "Stopping the motorbike\n"
     ]
    }
   ],
   "source": [
    "class Driver:\n",
    "    def drive(self, vehicle: Vehicle):\n",
    "        vehicle.start()\n",
    "        vehicle.forward()\n",
    "        vehicle.stop()\n",
    "\n",
    "driver = Driver()\n",
    "car = Car()\n",
    "motorbike = Motorbike()\n",
    "driver.drive(car)\n",
    "print(\"\\n\\nTaking a break...\\n\\n\")\n",
    "driver.drive(motorbike)"
   ]
  },
  {
   "cell_type": "code",
   "execution_count": null,
   "metadata": {},
   "outputs": [],
   "source": []
  }
 ],
 "metadata": {
  "kernelspec": {
   "display_name": "Python 3",
   "language": "python",
   "name": "python3"
  },
  "language_info": {
   "codemirror_mode": {
    "name": "ipython",
    "version": 3
   },
   "file_extension": ".py",
   "mimetype": "text/x-python",
   "name": "python",
   "nbconvert_exporter": "python",
   "pygments_lexer": "ipython3",
   "version": "3.7.3"
  },
  "toc": {
   "base_numbering": 1,
   "nav_menu": {},
   "number_sections": true,
   "sideBar": true,
   "skip_h1_title": false,
   "title_cell": "Table of Contents",
   "title_sidebar": "Contents",
   "toc_cell": false,
   "toc_position": {
    "height": "calc(100% - 180px)",
    "left": "10px",
    "top": "150px",
    "width": "165px"
   },
   "toc_section_display": true,
   "toc_window_display": false
  },
  "varInspector": {
   "cols": {
    "lenName": 16,
    "lenType": 16,
    "lenVar": 40
   },
   "kernels_config": {
    "python": {
     "delete_cmd_postfix": "",
     "delete_cmd_prefix": "del ",
     "library": "var_list.py",
     "varRefreshCmd": "print(var_dic_list())"
    },
    "r": {
     "delete_cmd_postfix": ") ",
     "delete_cmd_prefix": "rm(",
     "library": "var_list.r",
     "varRefreshCmd": "cat(var_dic_list()) "
    }
   },
   "types_to_exclude": [
    "module",
    "function",
    "builtin_function_or_method",
    "instance",
    "_Feature"
   ],
   "window_display": false
  }
 },
 "nbformat": 4,
 "nbformat_minor": 2
}
