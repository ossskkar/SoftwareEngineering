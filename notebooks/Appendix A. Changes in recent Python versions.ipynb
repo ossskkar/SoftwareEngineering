{
 "cells": [
  {
   "cell_type": "markdown",
   "metadata": {},
   "source": [
    "## Changes in recent Python versions\n",
    "\n",
    "### 3.5\n",
    "\n",
    "- Full release notes: https://docs.python.org/3/whatsnew/3.5.html\n",
    "- (Basic) Type hints were introduced. We'll see them later.\n",
    "- ```async``` and ```await``` operators. These are not in scope, but are useful if you ever want to start with [asynchronous programming](https://en.wikipedia.org/wiki/Asynchrony_(computer_programming)), which can be useful in some contexts (e.g. web applications, streaming applications)\n",
    "\n",
    "\n",
    "### 3.6\n",
    "\n",
    "You can find the full release notes: https://docs.python.org/3/whatsnew/3.6.html\n",
    "\n",
    "#### f-strings\n",
    "These are quite handy to improve readability. You can find some nice examples in [this article](https://medium.com/@NirantK/best-of-python3-6-f-strings-41f9154983e)"
   ]
  },
  {
   "cell_type": "code",
   "execution_count": 1,
   "metadata": {},
   "outputs": [
    {
     "name": "stdout",
     "output_type": "stream",
     "text": [
      "Hello, Foo!\n",
      "Decimals, rounded: 1.99\n",
      "Salary, padded to 5 numbers: 00100\n",
      "There are 3 numbers: [1, 3, 5]\n",
      "'hello world!' as bits: \n",
      " 01101000 01100101 01101100 01101100 01101111 00100000 01110111 01101111 01110010 01101100 01100100 00100001\n"
     ]
    }
   ],
   "source": [
    "name = \"Foo\"\n",
    "\n",
    "# You can just have your variables in the string\n",
    "message = f\"Hello, {name}!\"\n",
    "print(message)\n",
    "\n",
    "# Decimal numbers can be rounded.\n",
    "# In this case, the \".2f\" rounds to 2 decimals. If you want 3, you can use \".3f\" \n",
    "decimals = 1.9876543\n",
    "print(f\"Decimals, rounded: {decimals:.2f}\")\n",
    "\n",
    "# You can also add padding\n",
    "salary = 100\n",
    "print(f\"Salary, padded to 5 numbers: {salary:05}\")\n",
    "\n",
    "# You can even use full expressions\n",
    "numbers = [1, 3, 5]\n",
    "print(f\"There are {len(numbers)} numbers: {numbers}\")\n",
    "\n",
    "# Even convert something to bits if you like:\n",
    "\n",
    "sentence = \"hello world!\"\n",
    "my_bytes = sentence.encode(\"latin-1\")\n",
    "\n",
    "print(f\"'{sentence}' as bits: \\n\", \" \".join([f\"{b:08b}\" for b in my_bytes]))"
   ]
  },
  {
   "cell_type": "markdown",
   "metadata": {},
   "source": [
    "#### underscores for numeric literals\n",
    "\n",
    "You can use underscores to improve readability of numeric literals. The underscores have no impact at all."
   ]
  },
  {
   "cell_type": "code",
   "execution_count": 2,
   "metadata": {},
   "outputs": [
    {
     "name": "stdout",
     "output_type": "stream",
     "text": [
      "True\n"
     ]
    }
   ],
   "source": [
    "my_salary = 1000000000\n",
    "my_readable_salary = 1_000_000_000\n",
    "\n",
    "print(my_salary == my_readable_salary)"
   ]
  },
  {
   "cell_type": "markdown",
   "metadata": {},
   "source": [
    "### 3.7\n",
    "\n",
    "There are several changes introduced, e.g. to improve type hinting, but one of the main features added are data classes.\n",
    "Full release notes: https://docs.python.org/3/whatsnew/3.7.html\n",
    "\n",
    "#### Data classes\n",
    "\n",
    "Data classes try to simplify the creation of classes that are basically created to contain values. In other languages, there are similar constructs (often called Value Objects / Value Classes, or [Case Classes](https://ivanyu.me/blog/2014/12/14/value-classes-in-scala/) in Scala).\n",
    "\n",
    "Most often, you'll want to use data classes when you have lots of parameters to initialize your class. Let's see it with an example. This is how you could define a ```Transaction``` class to represent a transaction between to accounts:"
   ]
  },
  {
   "cell_type": "code",
   "execution_count": 3,
   "metadata": {},
   "outputs": [
    {
     "name": "stdout",
     "output_type": "stream",
     "text": [
      "Transfering 1000000.0EUR from your account to my account\n"
     ]
    }
   ],
   "source": [
    "class Transaction:\n",
    "    def __init__(\n",
    "        self,\n",
    "        id: int,\n",
    "        src: str,\n",
    "        dest: str,\n",
    "        amount: float\n",
    "    ):\n",
    "        self.id = id\n",
    "        self.src = src\n",
    "        self.dest = dest\n",
    "        self.amount = amount\n",
    "\n",
    "trans = Transaction(id=1, src=\"your account\", dest=\"my account\", amount=1e6)\n",
    "\n",
    "print(f\"Transfering {trans.amount}EUR from {trans.src} to {trans.dest}\")"
   ]
  },
  {
   "cell_type": "markdown",
   "metadata": {},
   "source": [
    "And this is how you could do the same with data classes:"
   ]
  },
  {
   "cell_type": "code",
   "execution_count": 4,
   "metadata": {},
   "outputs": [
    {
     "name": "stdout",
     "output_type": "stream",
     "text": [
      "Transfering 1000000.0EUR from your account to my_account\n"
     ]
    }
   ],
   "source": [
    "from dataclasses import dataclass\n",
    "\n",
    "@dataclass\n",
    "class TransactionDataClass:\n",
    "    id: int\n",
    "    src: str\n",
    "    dest: str\n",
    "    amount: float\n",
    "\n",
    "trans_dc = TransactionDataClass(id=1, src=\"your account\", dest=\"my_account\", amount=1e6)\n",
    "\n",
    "print(f\"Transfering {trans_dc.amount}EUR from {trans_dc.src} to {trans_dc.dest}\")"
   ]
  },
  {
   "cell_type": "markdown",
   "metadata": {},
   "source": [
    "## Python 3.8\n",
    "\n",
    "(Note that our environment is Python 3.7, so these things will not work)\n",
    "\n",
    "Full changes: https://docs.python.org/3/whatsnew/3.8.html\n",
    "\n",
    "### Assignment expressions\n",
    "\n",
    "You can now assign a variable at the same time that you compare it, e.g.:\n",
    "\n",
    "```python\n",
    "a = [False, True, False]\n",
    "if (n:= any(a)):\n",
    "    print(\"Something's True!\")\n",
    "\n",
    "print(n)\n",
    "```\n",
    "\n",
    "### Positional-only parameters\n",
    "\n",
    "You can define parameters that can not be passed as keywords, for instance:\n",
    "\n",
    "```\n",
    "def f(a, b, /, c, d, *, e, f):\n",
    "    print(a, b, c, d, e, f)\n",
    "```\n",
    "\n",
    "Everything before the \"/\" can only be passed positionally (i.e. you can not call the function like ```f(a=1, b=2, ...)```. Everything after the \"/\" but before the \"\\*\" can be passed either positionally or as a keyword, and all the rest are expected to be passed as keywords.\n",
    "\n",
    "One thing that might be strange at first is that if you are using the keyword arguments (*kwargs*) in your function, you can still pass a keyword with the same name as a positional parameter, e.g.:\n",
    "\n",
    "```python\n",
    "def my_function(a, b, /, **kwargs):\n",
    "    print(\"a: \", a)\n",
    "    print(\"b: \", b)\n",
    "    print(\"kwargs: \", kwargs)\n",
    "\n",
    "my_function(1, 2, a=3, b=4)\n",
    "```\n",
    "\n"
   ]
  },
  {
   "cell_type": "code",
   "execution_count": null,
   "metadata": {},
   "outputs": [],
   "source": []
  }
 ],
 "metadata": {
  "kernelspec": {
   "display_name": "Python 3",
   "language": "python",
   "name": "python3"
  },
  "language_info": {
   "codemirror_mode": {
    "name": "ipython",
    "version": 3
   },
   "file_extension": ".py",
   "mimetype": "text/x-python",
   "name": "python",
   "nbconvert_exporter": "python",
   "pygments_lexer": "ipython3",
   "version": "3.7.3"
  },
  "toc": {
   "base_numbering": 1,
   "nav_menu": {},
   "number_sections": true,
   "sideBar": true,
   "skip_h1_title": false,
   "title_cell": "Table of Contents",
   "title_sidebar": "Contents",
   "toc_cell": false,
   "toc_position": {},
   "toc_section_display": true,
   "toc_window_display": true
  }
 },
 "nbformat": 4,
 "nbformat_minor": 2
}
