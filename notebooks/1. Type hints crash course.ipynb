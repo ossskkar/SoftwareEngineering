{
 "cells": [
  {
   "cell_type": "markdown",
   "metadata": {},
   "source": [
    "# Introduction\n",
    "\n",
    "## What are type hints?\n",
    "\n",
    "A way for you to indicate the types of variables, function parameters and return types in your code.\n",
    "\n",
    "## What do they look like?\n",
    "\n",
    "In general, you use a colon (:) to indicate the type of a variable or function argument, like this:\n",
    "\n",
    "```python\n",
    "# Simple types\n",
    "age: int = 23\n",
    "name: str = \"John Doe\"\n",
    "\n",
    "# There are also more complex types\n",
    "from typing import List\n",
    "scores: List[double] = [0.5, 0.3, 1.0]\n",
    "```\n",
    "\n",
    "For return types, you use an arrow (i.e. a dash + a greather than sign: ```->```) to indicate the return type of a function:\n",
    "\n",
    "```python\n",
    "def get_salary(name: str) -> double:\n",
    "    return 1000.0\n",
    "```\n",
    "\n",
    "\n",
    "## Why typehints?\n",
    "\n",
    "Pros:\n",
    "- They increase readability of the code, provide clarity on the different arguments and the return types of functions.\n",
    "- Self-document the code: you can just look at the signature of a function rather than having to go to the documentation.\n",
    "- Allows for type-checking (e.g. packages like [mypy](http://mypy-lang.org/)).\n",
    "\n",
    "Cons:\n",
    "- Takes a bit more time to write your code, until you're used to them.\n",
    "- In some specific cases, they might decrease readability.\n",
    "\n",
    "## References\n",
    "\n",
    "- [Official docs](https://docs.python.org/3/library/typing.html)\n",
    "- [mypy home page](http://mypy-lang.org/)\n"
   ]
  },
  {
   "cell_type": "markdown",
   "metadata": {},
   "source": [
    "# Common type hints:\n",
    "\n",
    "## Basic types\n",
    "\n",
    "When using type hints, you can use all the basic types, with no extra imports required:\n",
    "\n",
    "- ```str``` (Strings), ```int``` (Integers), ```float```/```double``` (floating point numbers), ```bool``` (boolean).\n",
    "\n",
    "### Exercise\n",
    "\n",
    "Complete the function ```check_salary``` you have below. This function takes two arguments: ```hours``` (integer) and ```hourly_rate``` (float), and that returns a boolean. The function should return True if the salary (i.e. ```hours * hourly_rate```) is greater than 100."
   ]
  },
  {
   "cell_type": "code",
   "execution_count": null,
   "metadata": {
    "solution2": "hidden",
    "solution2_first": true
   },
   "outputs": [],
   "source": [
    "def check_salary(hours, hourly_rate):\n",
    "    pass"
   ]
  },
  {
   "cell_type": "code",
   "execution_count": 11,
   "metadata": {
    "solution2": "hidden"
   },
   "outputs": [],
   "source": [
    "def check_salary(hours: int, hourly_rate: float) -> bool:\n",
    "    return hours * hourly_rate > 100"
   ]
  },
  {
   "cell_type": "markdown",
   "metadata": {},
   "source": [
    "## Type hints for classes\n",
    "\n",
    "If a class is defined, you can just add a type hint for it:\n",
    "\n",
    "```python\n",
    "class Foo:\n",
    "    pass\n",
    "\n",
    "def a_processor(myparam: Foo):\n",
    "    pass\n",
    "```\n",
    "\n",
    "One thing that can cause errors is when you have a situation like this:\n",
    "\n",
    "```python\n",
    "class Foo:\n",
    "    def do_something(self) -> Foo:\n",
    "        # do stuff\n",
    "        return self\n",
    "```\n",
    "\n",
    "If you do this, you might get an error on the line where ```do_something``` is, saying that ```Foo``` is not defined. To solve it, you can define your type hint like this:\n",
    "\n",
    "```python\n",
    "class Foo:\n",
    "    def do_something(self) -> \"Foo\":\n",
    "        # do stuff\n",
    "        return self\n",
    "```"
   ]
  },
  {
   "cell_type": "markdown",
   "metadata": {},
   "source": [
    "## Any\n",
    "\n",
    "As the name says, any variable type will match this type. If possible it's better to avoid it, but in some cases (e.g. with dictionaries) it might be good to use it, e.g. to indicate that you have a mix of different types of values. To use it, you need to import it first:\n",
    "\n",
    "```python\n",
    "from typing import Any\n",
    "```\n",
    "\n",
    "### Exercise\n",
    "\n",
    "Complete the code below to add the proper type hints. You will need to add a typehint everywhere where you see a ```?```\n"
   ]
  },
  {
   "cell_type": "code",
   "execution_count": 1,
   "metadata": {
    "solution2": "hidden",
    "solution2_first": true
   },
   "outputs": [],
   "source": [
    "from typing import Any\n",
    "\n",
    "class Config:\n",
    "    def __init__(self):\n",
    "        # Complete the type hints below. We haven't seen the Dict type yet,\n",
    "        # so here's a hint: the first \"?\" is the type for the keys, and the\n",
    "        # second one, the type for the values.\n",
    "        self._config: Dict[str, Any] = {\n",
    "            \"a\": 1,\n",
    "            \"b\": False,\n",
    "            \"c\": \"hello\"\n",
    "        }\n",
    "\n",
    "    def get(self, key: str) -> Any:\n",
    "        return self._config.get(key)"
   ]
  },
  {
   "cell_type": "code",
   "execution_count": 13,
   "metadata": {
    "solution2": "hidden"
   },
   "outputs": [],
   "source": [
    "from typing import Any\n",
    "\n",
    "\n",
    "class Config:\n",
    "    def __init__(self):\n",
    "        # The keys are always strings, so we can use the str type\n",
    "        # For the values, as far as we know, they could hold any type of\n",
    "        # variable, so we can use Any here.\n",
    "        self._config: Dict[str, Any] = {\n",
    "            \"a\": 1,\n",
    "            \"b\": False,\n",
    "            \"c\": \"hello\"\n",
    "        }\n",
    "\n",
    "    # Since we return elements from _config, the return type hint is the\n",
    "    # same as the type hint for the values in the dictionary.\n",
    "    def get(self, key: str) -> Any:\n",
    "        return self._config.get(key)"
   ]
  },
  {
   "cell_type": "markdown",
   "metadata": {},
   "source": [
    "## Optional\n",
    "\n",
    "The ```Optional``` type is used to indicate that one or more arguments can be skipped (e.g. because it's ok to pass ```None``` or because it has a default value), or also to indicate that a method might either return the indicated type or ```None```. To use it, you have to import it:\n",
    "\n",
    "```python\n",
    "from typing import Optional\n",
    "\n",
    "maybe_number: Optional[int] = None\n",
    "```\n",
    "\n",
    "### Exercise 1\n",
    "\n",
    "Complete the function below. This function that takes an optional argument ```name``` (a string) with a default value of \"World\", and doesn't return anything."
   ]
  },
  {
   "cell_type": "code",
   "execution_count": 23,
   "metadata": {
    "solution2": "hidden",
    "solution2_first": true
   },
   "outputs": [
    {
     "name": "stdout",
     "output_type": "stream",
     "text": [
      "Hello, Data Scientist!\n"
     ]
    }
   ],
   "source": [
    "from typing import Optional\n",
    "\n",
    "# Your code here\n",
    "def say_hello(name: Optional[str] = ''):\n",
    "    print(f\"Hello, {name}!\")\n",
    "    \n",
    "say_hello('Data Scientist')"
   ]
  },
  {
   "cell_type": "code",
   "execution_count": 24,
   "metadata": {
    "solution2": "hidden"
   },
   "outputs": [],
   "source": [
    "from typing import Optional\n",
    "\n",
    "def say_hello(name: str = \"World\") -> None:\n",
    "    print(f\"Hello, {name}!\")  "
   ]
  },
  {
   "cell_type": "markdown",
   "metadata": {},
   "source": [
    "### Exercise 2\n",
    "\n",
    "Next, write a function ```get_salary```, that takes a ```worker_id``` (an integer). The function will not always return the salary, here's how it should work:\n",
    "\n",
    "- If ```worker_id``` is 1 (the id of the big boss!), then no salary is returned (i.e. the function returns ```None```)\n",
    "- Otherwise, it will return 1000.0 (a float).\n"
   ]
  },
  {
   "cell_type": "code",
   "execution_count": 28,
   "metadata": {
    "solution2": "hidden",
    "solution2_first": true
   },
   "outputs": [],
   "source": [
    "# Your code here\n",
    "BOSS_ID: int = 1\n",
    "\n",
    "def get_salary(worker_id: int) -> Optional[float]:\n",
    "    pass\n",
    "\n",
    "get_salary"
   ]
  },
  {
   "cell_type": "code",
   "execution_count": null,
   "metadata": {
    "solution2": "hidden"
   },
   "outputs": [],
   "source": [
    "from typing import Optional\n",
    "BOSS_ID: int = 1\n",
    "    \n",
    "def get_salary(worker_id: int) -> Optional[float]:\n",
    "    if BOSS_ID == worker_id:\n",
    "        # You can't know the salary of the boss!!\n",
    "        return None\n",
    "    else:\n",
    "        return 1000.\n"
   ]
  },
  {
   "cell_type": "markdown",
   "metadata": {},
   "source": [
    "## List\n",
    "\n",
    "The ```List``` type is used to indicate lists of elements\n",
    "\n",
    "```python\n",
    "from typing import List\n",
    "\n",
    "numbers: List[int] = [1, 2, 3]\n",
    "```\n",
    "\n",
    "### Exercise:\n",
    "\n",
    "Complete the function ```write_lines``` below. It takes two arguments: ```text``` (a string) and ```repeat``` (int), and returns a list of strings, which should contain the text repeated ```repeat``` times. Here's how it would be used:\n",
    "\n",
    "```python\n",
    "lines = write_lines(text=\"lorem ipsum\", repeat=3)\n",
    "print(lines)\n",
    "# ['lorem ipsum', 'lorem ipsum', 'lorem ipsum']\n",
    "```"
   ]
  },
  {
   "cell_type": "code",
   "execution_count": 32,
   "metadata": {
    "solution2": "hidden",
    "solution2_first": true
   },
   "outputs": [
    {
     "name": "stdout",
     "output_type": "stream",
     "text": [
      "['lorem ipsum', 'lorem ipsum', 'lorem ipsum']\n"
     ]
    }
   ],
   "source": [
    "from typing import List\n",
    "\n",
    "# Your code here\n",
    "\n",
    "def write_lines(text: str, repeat: int) -> List[str]:\n",
    "    return [text] * repeat\n",
    "\n",
    "\n",
    "lines = write_lines(text=\"lorem ipsum\", repeat=3)\n",
    "print(lines)"
   ]
  },
  {
   "cell_type": "code",
   "execution_count": null,
   "metadata": {
    "solution2": "hidden"
   },
   "outputs": [],
   "source": [
    "from typing import List\n",
    "\n",
    "def write_lines(text: str, repeat: int) -> List[str]:\n",
    "    return [text] * repeat"
   ]
  },
  {
   "cell_type": "markdown",
   "metadata": {},
   "source": [
    "## Dict\n",
    "\n",
    "The ```Dict``` type is the type hint for dictionaries, and it takes two parameters: the type for the keys and the type for the values:\n",
    "\n",
    "```python\n",
    "from typing import Dict\n",
    "\n",
    "my_dict: Dict[str, int] = {\n",
    "    \"foo\": 123,\n",
    "    \"bar\": 987,\n",
    "}\n",
    "```"
   ]
  },
  {
   "cell_type": "markdown",
   "metadata": {},
   "source": [
    "### Exercise 1\n",
    "\n",
    "Complete the type hints for the code below:"
   ]
  },
  {
   "cell_type": "code",
   "execution_count": 33,
   "metadata": {
    "solution2": "shown",
    "solution2_first": true
   },
   "outputs": [],
   "source": [
    "from typing import Any, Dict\n",
    "\n",
    "myconfig: Dict[str, Any] = {\n",
    "    \"num_samples\": 1000,\n",
    "    \"training\": False,\n",
    "    \"ids_to_skip\": [1, 2, 3],\n",
    "}"
   ]
  },
  {
   "cell_type": "code",
   "execution_count": 34,
   "metadata": {
    "solution2": "shown"
   },
   "outputs": [],
   "source": [
    "from typing import Any, Dict\n",
    "\n",
    "myconfig: Dict[str, Any] = {\n",
    "    \"num_samples\": 1000,\n",
    "    \"training\": False,\n",
    "    \"ids_to_skip\": [1, 2, 3],\n",
    "}"
   ]
  },
  {
   "cell_type": "markdown",
   "metadata": {},
   "source": [
    "What do you think will happen if you run this code?\n",
    "\n",
    "```python\n",
    "my_other_config: Xxx[aaa, bbb] = {\n",
    "   \"a\": 1,\n",
    "    \"b\": False\n",
    "}\n",
    "```"
   ]
  },
  {
   "cell_type": "markdown",
   "metadata": {},
   "source": [
    "### Exercise 2\n",
    "\n",
    "Given the ```Customer``` class:"
   ]
  },
  {
   "cell_type": "code",
   "execution_count": 40,
   "metadata": {},
   "outputs": [],
   "source": [
    "from dataclasses import dataclass\n",
    "\n",
    "@dataclass\n",
    "class Customer:\n",
    "    id: int\n",
    "    name: str"
   ]
  },
  {
   "cell_type": "markdown",
   "metadata": {},
   "source": [
    "And the following list of customers:"
   ]
  },
  {
   "cell_type": "code",
   "execution_count": 41,
   "metadata": {},
   "outputs": [],
   "source": [
    "from typing import List\n",
    "\n",
    "customers: List[Customer] = [\n",
    "    Customer(id=1, name=\"John Doe\"),\n",
    "    Customer(id=2, name=\"Jane Doe\"),\n",
    "    Customer(id=3, name=\"Foo Bar\"),\n",
    "]"
   ]
  },
  {
   "cell_type": "markdown",
   "metadata": {},
   "source": [
    "Note that for dataclasses, adding an ```__init__``` method will fail. If you need one, you'll have to extend the class:\n",
    "\n",
    "```ptyhon\n",
    "class CustomerWithInit(Customer):\n",
    "    def __init__(self, age: int, **kwargs):\n",
    "        super().__init__(**kwargs)\n",
    "        self.age = age\n",
    "\n",
    "c = CustomerWithInit(age=10, id=1, first_name=\"aaa\", last_name=\"xxx\")\n",
    "```"
   ]
  },
  {
   "cell_type": "markdown",
   "metadata": {},
   "source": [
    "Write a function ```create_customers_lookup```that takes a input a list of customers, and returns a dictionary, where the keys are the customer ids, and the values are the customers themselves."
   ]
  },
  {
   "cell_type": "code",
   "execution_count": 43,
   "metadata": {
    "solution2": "hidden",
    "solution2_first": true
   },
   "outputs": [],
   "source": [
    "from typing import List, Dict\n",
    "\n",
    "def create_customers_lookup(customer: List[Customer]) -> Dict[int, Customer]:\n",
    "    return {customer.id: customer for customer in customers}"
   ]
  },
  {
   "cell_type": "code",
   "execution_count": null,
   "metadata": {
    "solution2": "hidden"
   },
   "outputs": [],
   "source": [
    "from typing import List, Dict\n",
    "\n",
    "def create_customers_lookup(customers: List[Customer]) -> Dict[int, Customer]:\n",
    "    return {customer.id: customer for customer in customers}\n",
    "\n",
    "# The function above is equivalent to this one:\n",
    "def create_customers_lookup_for_loop(customers: List[Customer]) -> Dict[int, Customer]:\n",
    "    customers_dict = dict()\n",
    "    \n",
    "    for customer in customers:\n",
    "        customers_dict[customer.id] = customer\n",
    "    \n",
    "    return customers_dict\n"
   ]
  },
  {
   "cell_type": "markdown",
   "metadata": {},
   "source": [
    "## Callable\n",
    "\n",
    "You might use this less often, but ```Callable``` is what you'd use when a method takes a function as an argument, or has a function as its return type. It also takes two parameters: The first one is a list with the types for the arguments, and the second one is the return type. So, for a function that takes two arguments (let's say a string and an int) and returns a float, the type hint would be like this:\n",
    "\n",
    "```python\n",
    "from typing import Callable\n",
    "\n",
    "def my_function(name: string, age: int) -> float:\n",
    "    pass\n",
    "\n",
    "def my_higher_order_function(x: str, y: int, f: Callable[[str, int], float]) -> bool:\n",
    "    return f(name=x, age=y) > 100.\n",
    "```\n",
    "\n",
    "For more complex scenarios, you can also omit the arguments part with an ellipsis (```...```). For instance, let's say that you want a higher-order function that will accept as argument any function, as long as it returns a boolean. You could have something like this:\n",
    "\n",
    "```python\n",
    "def my_higher_order_function(x: int, f: Callable[..., bool], **kwargs) -> bool:\n",
    "    return x > 1 and f(**kwargs) == False\n",
    "```\n",
    "\n",
    "### Exercise\n",
    "\n",
    "Complete the type hint for the ```decode``` function. This function will (as the name says) decode a sequence of numbers, replacing them by the appropriate letters in the dictionary."
   ]
  },
  {
   "cell_type": "code",
   "execution_count": null,
   "metadata": {},
   "outputs": [],
   "source": [
    "my_params = dict(a=1, b=2)\n",
    "\n",
    "def my_func(**kwargs):\n",
    "    kwargs.get(\"a\", 2)\n",
    "\n",
    "my_func(a=1, b=2)"
   ]
  },
  {
   "cell_type": "code",
   "execution_count": null,
   "metadata": {
    "solution2": "hidden",
    "solution2_first": true
   },
   "outputs": [],
   "source": [
    "from typing import Callable, Dict, List\n",
    "number_to_letter: Dict[int, str] = {\n",
    "    1: \"A\",\n",
    "    2: \"B\",\n",
    "    3: \"C\",\n",
    "}\n",
    "\n",
    "    \n",
    "def decode_number(number: int) -> str:\n",
    "    return number_to_letter.get(number, \"?\")\n",
    "\n",
    "def decode(numbers: List[int], decoder: Callable[?, ?]) -> str:\n",
    "    decoded = [decoder(n) for n in numbers]\n",
    "    return \"\".join(decoded)\n",
    "\n",
    "seq1 = [1, 3, 2, 1, 1, 3, 2, 2]\n",
    "print(f\"Encoded: {seq1}\")\n",
    "print(f\"Decoded: {decode(numbers=seq1, decoder=decode_number)}\")\n",
    "\n",
    "seq2 = [1, 5, 2, 1, 1, 3, 7, 2]\n",
    "print(f\"Encoded: {seq2}\")\n",
    "print(f\"Decoded: {decode(numbers=seq2, decoder=decode_number)}\")"
   ]
  },
  {
   "cell_type": "code",
   "execution_count": null,
   "metadata": {
    "solution2": "hidden"
   },
   "outputs": [],
   "source": [
    "from typing import Callable, Dict, List\n",
    "number_to_letter: Dict[int, str] = {\n",
    "    1: \"A\",\n",
    "    2: \"B\",\n",
    "    3: \"C\",\n",
    "}\n",
    "\n",
    "    \n",
    "def decode_number(number: int) -> str:\n",
    "    return number_to_letter.get(number, \"?\")\n",
    "\n",
    "def decode(numbers: List[int], decoder: Callable[[int], str]) -> str:\n",
    "    decoded = [decoder(n) for n in numbers]\n",
    "    return \"\".join(decoded)\n",
    "\n",
    "seq1 = [1, 3, 2, 1, 1, 3, 2, 2]\n",
    "print(f\"Encoded: {seq1}\")\n",
    "print(f\"Decoded: {decode(numbers=seq1, decoder=decode_number)}\")\n",
    "\n",
    "seq2 = [1, 5, 2, 1, 1, 3, 7, 2]\n",
    "print(f\"Encoded: {seq2}\")\n",
    "print(f\"Decoded: {decode(numbers=seq2, decoder=decode_number)}\")"
   ]
  },
  {
   "cell_type": "markdown",
   "metadata": {},
   "source": [
    "## Union\n",
    "\n",
    "You can use the ```Union``` type to indicate that multiple types of variables are accepted (or returned). Union takes two arguments, which are the two types you want to \"group together\".\n",
    "So, if you have a function that accepts a file name either as a string or as a ```pathlib.Path```, its signature could look like this:\n",
    "\n",
    "```python\n",
    "from typing import Union\n",
    "from pathlib import Path\n",
    "\n",
    "def do_stuff(file: Union[str, Path]) -> ...:\n",
    "    # ...\n",
    "```\n",
    "\n",
    "### Exercise\n",
    "\n",
    "Write the signature of a function ```count_unique``` that accepts as input either an ```int``` or a list of ints, and that returns another int (the number of unique values). If you have extra time, you can write the function too :)"
   ]
  },
  {
   "cell_type": "code",
   "execution_count": 45,
   "metadata": {},
   "outputs": [],
   "source": [
    "from typing import Union\n",
    "\n",
    "def count_unique(numbers: Union[int, List[int]]) -> int:\n",
    "    pass"
   ]
  },
  {
   "cell_type": "markdown",
   "metadata": {
    "solution2": "hidden",
    "solution2_first": true
   },
   "source": [
    "Can you rewrite the same function so that it **requires** at least one number?"
   ]
  },
  {
   "cell_type": "code",
   "execution_count": 57,
   "metadata": {
    "solution2": "hidden"
   },
   "outputs": [
    {
     "name": "stdout",
     "output_type": "stream",
     "text": [
      "1\n",
      "3\n",
      "3\n"
     ]
    }
   ],
   "source": [
    "def count_unique(number: int, *more_numbers: List[int]) -> int:\n",
    "    return len(set([number] + list(more_numbers)))\n",
    "\n",
    "print(count_unique(1))\n",
    "print(count_unique(1, 2, 3))\n",
    "print(count_unique(1, 1, 2, 2, 3))"
   ]
  },
  {
   "cell_type": "markdown",
   "metadata": {},
   "source": [
    "### Tuple"
   ]
  },
  {
   "cell_type": "markdown",
   "metadata": {},
   "source": [
    "For tuples, you can use the ```typing.Tuple``` type hint. There, for every element, you should specify its type hint, e.g. like this:"
   ]
  },
  {
   "cell_type": "code",
   "execution_count": null,
   "metadata": {},
   "outputs": [],
   "source": [
    "from typing import Tuple\n",
    "\n",
    "def foo() -> Tuple[str, int, bool]:\n",
    "    return (\"a\", 1, False)"
   ]
  },
  {
   "cell_type": "markdown",
   "metadata": {},
   "source": [
    "In some cases, creating your own types might make more clear what each element in the tuple is (although it might make it harder to know exactly what *type* they are)."
   ]
  },
  {
   "cell_type": "code",
   "execution_count": null,
   "metadata": {},
   "outputs": [],
   "source": [
    "from typing import Tuple\n",
    "\n",
    "Name = str\n",
    "Age = int\n",
    "IsActive = bool\n",
    "def foo() -> Tuple[Name, Age, IsActive]:\n",
    "    return (\"a\", 1, False)"
   ]
  },
  {
   "cell_type": "markdown",
   "metadata": {},
   "source": [
    "In this example, it's quite easy to know what every element of the tuple is, but if the type definitions are not in the same place as the function, you will need an extra step to know e.g. whether \"IsActive\" is a boolean, a string, etc.."
   ]
  },
  {
   "cell_type": "markdown",
   "metadata": {},
   "source": [
    "## Iterable\n",
    "\n",
    "The ```Iterable``` type represents anything you can iterate on (i.e. objects that implement the ```__iter__``` method). It is similar to the ```List``` type, but more generic. For instance, you could use it with ```yield``` statements:\n",
    "\n",
    "```python\n",
    "from typing import Iterable\n",
    "from dataclasses import dataclass\n",
    "\n",
    "@dataclass\n",
    "class Customer:\n",
    "    id: int\n",
    "    name: str\n",
    "\n",
    "def list_customers() -> Iterable[Customer]:\n",
    "    for i in range(10):\n",
    "        yield Customer(id=i, name=\"Foo Bar\")\n",
    "\n",
    "for c in list_customers():\n",
    "    print(c.name)\n",
    "```"
   ]
  },
  {
   "cell_type": "markdown",
   "metadata": {},
   "source": [
    "## Generic types\n",
    "\n",
    "Introduced with Python 3.7, generic types allow you to define classes that can handle different types. Suppose that you want to implement a ```Stack``` class, that allows you to push elements into it, and allows you to retrieve the last element that was pushed. This behaviour doesn't depend on the type of the elements inside the stack, so you can use generic types for that:\n",
    "\n",
    "```python\n",
    "from typing import TypeVar, Generic, List\n",
    "T = TypeVar('T')\n",
    "\n",
    "class Stack(Generic[T]):\n",
    "    def __init__(self) -> None:\n",
    "        self._elements: List[T] = []\n",
    "\n",
    "    def push(self, item: T) -> None:\n",
    "        self._elements.append(item)\n",
    "\n",
    "    def pop(self) -> T:\n",
    "        return self._elements.pop()\n",
    "\n",
    "    def __repr__(self) -> str:\n",
    "        return repr(self._elements)\n",
    "```\n",
    "\n",
    "This allows us to have \"stacks\" of different types without redefining the class:\n",
    "\n",
    "```python\n",
    "names: Stack[str] = Stack()\n",
    "names.push(\"Jane\")\n",
    "names.push(\"John\")\n",
    "names.pop()\n",
    "\n",
    "numbers: Stack[int] = Stack()\n",
    "numbers.push(1)\n",
    "numbers.push(3)\n",
    "numbers.push(2)\n",
    "```"
   ]
  },
  {
   "cell_type": "markdown",
   "metadata": {},
   "source": [
    "## Creating your own types\n",
    "\n",
    "You can also create your own types, which can help to improve readability a bit more. This comes often as a trade-off between how readable the function becomes in \"natural\" language vs how readable it still is technically (e.g. to know the exact underlying type).\n",
    "\n",
    "In this example, the function signature is very clear conceptually (it's very easy to understand what every argument is and what it returns), but at the same time, if the definitions of ```Salary```/```Hours```/```Rate``` are not close by, someone reading the code might wonder what exactly these types are: are they integer/floats? Are they classes?"
   ]
  },
  {
   "cell_type": "code",
   "execution_count": null,
   "metadata": {},
   "outputs": [],
   "source": [
    "Salary = float\n",
    "Hours = int\n",
    "Rate = float\n",
    "\n",
    "def calculate_payroll(length: Meters, hourly_rate: Rate) -> Tuple[Salary, Hours, Rate]:\n",
    "    return hours * hourly_rate\n",
    "\n",
    "calculate_payroll(hours=10, hourly_rate=5.)\n"
   ]
  },
  {
   "cell_type": "markdown",
   "metadata": {},
   "source": [
    "This can be specially handy to increase readability for more complex types"
   ]
  },
  {
   "cell_type": "code",
   "execution_count": null,
   "metadata": {},
   "outputs": [],
   "source": [
    "from dataclasses import dataclass\n",
    "from typing import List, Tuple\n",
    "\n",
    "@dataclass\n",
    "class Student:\n",
    "    id: str\n",
    "    name: str\n",
    "\n",
    "Students = List[Student]\n",
    "\n",
    "def list_students(students: Students):\n",
    "    [print(s.name) for s in students]\n",
    "\n",
    "students = [\n",
    "    Student(id=1, name=\"foo\"),\n",
    "    Student(id=2, name=\"bar\"),\n",
    "]\n",
    "\n",
    "list_students(students)"
   ]
  },
  {
   "cell_type": "code",
   "execution_count": null,
   "metadata": {},
   "outputs": [],
   "source": []
  }
 ],
 "metadata": {
  "kernelspec": {
   "display_name": "Python 3",
   "language": "python",
   "name": "python3"
  },
  "language_info": {
   "codemirror_mode": {
    "name": "ipython",
    "version": 3
   },
   "file_extension": ".py",
   "mimetype": "text/x-python",
   "name": "python",
   "nbconvert_exporter": "python",
   "pygments_lexer": "ipython3",
   "version": "3.7.3"
  },
  "toc": {
   "base_numbering": 1,
   "nav_menu": {},
   "number_sections": true,
   "sideBar": true,
   "skip_h1_title": false,
   "title_cell": "Table of Contents",
   "title_sidebar": "Contents",
   "toc_cell": false,
   "toc_position": {},
   "toc_section_display": true,
   "toc_window_display": false
  }
 },
 "nbformat": 4,
 "nbformat_minor": 2
}
