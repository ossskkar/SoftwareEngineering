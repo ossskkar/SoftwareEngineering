{
 "cells": [
  {
   "cell_type": "markdown",
   "metadata": {},
   "source": [
    "# Initial implementation\n",
    "\n",
    "Following up on the previous notebook, we'll start with the implementation of the Hanoi class:"
   ]
  },
  {
   "cell_type": "code",
   "execution_count": 149,
   "metadata": {},
   "outputs": [],
   "source": [
    "from typing import Dict, List\n",
    "from abc import ABC, abstractmethod\n",
    "\n",
    "class Drawer(ABC):\n",
    "    @abstractmethod\n",
    "    def draw(self):\n",
    "        pass\n",
    "    \n",
    "class Solver(ABC):\n",
    "    @abstractmethod\n",
    "    def solve(self):\n",
    "        pass\n",
    "\n",
    "class Tower(ABC):\n",
    "    def __init__(self):\n",
    "        self._discs: List[int] = []\n",
    "            \n",
    "    def push(self, disc: int) -> None:\n",
    "        self._discs.append(disc)\n",
    "        \n",
    "    def pop(self) -> int:\n",
    "        return self._discs.pop()\n",
    "    \n",
    "    def __contains__(self, disc: int) -> bool:\n",
    "        return disc in self._discs\n",
    "    \n",
    "    @abstractmethod\n",
    "    def draw(self, num_discs: int):\n",
    "        pass\n",
    "    \n",
    "class DefaultTower(Tower):\n",
    "    def draw(self, num_discs: int):\n",
    "        empty_level: str = \"|\"\n",
    "        tower_base: str = \"=\"\n",
    "\n",
    "        print(empty_level)\n",
    "        for disc in range(1, num_discs + 1):\n",
    "            if disc in self._discs:\n",
    "                print(\"X\" * disc)\n",
    "            else:\n",
    "                print(empty_level)\n",
    "        print(tower_base * num_discs + \"\\n\")\n",
    "    \n",
    "class CircleTower(Tower):\n",
    "    def draw(self, num_discs: int):\n",
    "        empty_level: str = \"|\"\n",
    "        tower_base: str = \"_\"\n",
    "\n",
    "        print(empty_level)\n",
    "        for disc in range(1, num_discs + 1):\n",
    "            if disc in self._discs:\n",
    "                print(\"O\" * disc)\n",
    "            else:\n",
    "                print(empty_level)\n",
    "        print(tower_base * num_discs + \"\\n\")\n",
    "\n",
    "class AtentionTower(Tower):\n",
    "    def draw(self, num_discs: int):\n",
    "        empty_level: str = \"!\"\n",
    "        tower_base: str = \"$\"\n",
    "\n",
    "        print(empty_level)\n",
    "        for disc in range(1, num_discs + 1):\n",
    "            if disc in self._discs:\n",
    "                print(\"O\" * disc)\n",
    "            else:\n",
    "                print(empty_level)\n",
    "        print(tower_base * num_discs + \"\\n\")\n",
    "\n",
    "class Hanoi:\n",
    "    num_discs: int\n",
    "    source: Tower\n",
    "    temporary: Tower\n",
    "    destination: Tower\n",
    "        \n",
    "    def __init__(self, num_discs: int):\n",
    "        self.num_discs = num_discs\n",
    "        self.source = DefaultTower()\n",
    "        self.temporary = AtentionTower()\n",
    "        self.destination = CircleTower()\n",
    "        \n",
    "        for i in range(self.num_discs, 0, -1):\n",
    "            self.source.push(i)   \n",
    "        \n",
    "class HanoiDrawer(Drawer):\n",
    "    @staticmethod\n",
    "    def draw(hanoi: Hanoi):\n",
    "        towers: Dict[str, Tower] = {\n",
    "            \"SOURCE\": hanoi.source,\n",
    "            \"TEMPORARY\": hanoi.temporary,\n",
    "            \"DESTINATION\": hanoi.destination,\n",
    "        }\n",
    "            \n",
    "        for name, tower in towers.items():\n",
    "            title = f\"{name} Tower\"\n",
    "            print(title)\n",
    "            print(\"=\" * len(title) + \"\\n\")\n",
    "\n",
    "            tower.draw(hanoi.num_discs)\n",
    "\n",
    "class HanoiSolver(Solver):\n",
    "    def solve(self, source: List[int], destination: List[int], temporary: List[int], num_discs: int):\n",
    "        if num_discs == 1:\n",
    "            # Just move disc from source to destination\n",
    "            destination.push(source.pop())\n",
    "        else:\n",
    "            # Move N - 1 discs from the source to the temporary tower.\n",
    "            # This means we \"swap\" destination and temporary\n",
    "            self.solve(\n",
    "                source=source,\n",
    "                destination=temporary,\n",
    "                temporary=destination,\n",
    "                num_discs=num_discs - 1,\n",
    "            )\n",
    "            # Move the remaining disc from the source to the destination\n",
    "            self.solve(\n",
    "                source=source,\n",
    "                destination=destination,\n",
    "                temporary=temporary,\n",
    "                num_discs=1,\n",
    "            )\n",
    "            # Finally, move the N - 1 discs from the first step to the destination.\n",
    "            # This means that we are swapping the source and the temporary towers.\n",
    "            self.solve(\n",
    "                source=temporary,\n",
    "                destination=destination,\n",
    "                temporary=source,\n",
    "                num_discs=num_discs - 1,\n",
    "            )\n",
    "            \n",
    "class HanoiManager:\n",
    "    def __init__(self, num_discs: int):\n",
    "        self._hanoi=Hanoi(num_discs)\n",
    "        self._drawer=HanoiDrawer()\n",
    "        self._solver=HanoiSolver()\n",
    "    \n",
    "    def draw_and_solve(self):\n",
    "        print(\"Initial State:\\n\")\n",
    "        self._drawer.draw(self._hanoi)\n",
    "        \n",
    "        self._solver.solve(source=self._hanoi.source,\n",
    "            destination=self._hanoi.destination,\n",
    "            temporary=self._hanoi.temporary,\n",
    "            num_discs=self._hanoi.num_discs)\n",
    "        \n",
    "        print(\"\\n\\nFinal State:\\n\")\n",
    "        self._drawer.draw(self._hanoi)\n",
    "        "
   ]
  },
  {
   "cell_type": "code",
   "execution_count": 150,
   "metadata": {},
   "outputs": [
    {
     "name": "stdout",
     "output_type": "stream",
     "text": [
      "Initial State:\n",
      "\n",
      "SOURCE Tower\n",
      "============\n",
      "\n",
      "|\n",
      "X\n",
      "XX\n",
      "XXX\n",
      "===\n",
      "\n",
      "TEMPORARY Tower\n",
      "===============\n",
      "\n",
      "!\n",
      "!\n",
      "!\n",
      "!\n",
      "$$$\n",
      "\n",
      "DESTINATION Tower\n",
      "=================\n",
      "\n",
      "|\n",
      "|\n",
      "|\n",
      "|\n",
      "___\n",
      "\n",
      "\n",
      "\n",
      "Final State:\n",
      "\n",
      "SOURCE Tower\n",
      "============\n",
      "\n",
      "|\n",
      "|\n",
      "|\n",
      "|\n",
      "===\n",
      "\n",
      "TEMPORARY Tower\n",
      "===============\n",
      "\n",
      "!\n",
      "!\n",
      "!\n",
      "!\n",
      "$$$\n",
      "\n",
      "DESTINATION Tower\n",
      "=================\n",
      "\n",
      "|\n",
      "O\n",
      "OO\n",
      "OOO\n",
      "___\n",
      "\n"
     ]
    }
   ],
   "source": [
    "hanoi = HanoiManager(num_discs=3)\n",
    "hanoi.draw_and_solve()"
   ]
  },
  {
   "cell_type": "markdown",
   "metadata": {},
   "source": [
    "# How SOLID is this implementation?\n",
    "\n",
    "Let's check each of the five principles, and see if this implementation follows them:"
   ]
  },
  {
   "cell_type": "markdown",
   "metadata": {
    "solution2": "hidden",
    "solution2_first": true
   },
   "source": [
    "## S: Single Responsibility Principle\n",
    "\n",
    "By quickly inspecting the class, we can see that it's doing at least the following things:\n",
    "\n",
    "- Creating and populating the towers\n",
    "- Displaying the towers\n",
    "- Solving the problem\n",
    "\n",
    "In short, we're not following the single responsibility principle.\n",
    "\n",
    "### Exercise - Plan your changes\n",
    "\n",
    "What changes would you do in order to follow the SRP?"
   ]
  },
  {
   "cell_type": "markdown",
   "metadata": {
    "solution2": "hidden"
   },
   "source": [
    "As with most problems in Software Engineering, there's not a single correct answer to this. There's always a tradeoff between how strictly you want to apply the principle and other factors like how much work it will take you to apply it, how easy will it be for new people to understand the code, etc.\n",
    "\n",
    "We could start by making the following changes:\n",
    "- Create a Tower class\n",
    "- Create a HanoiTowers class, that will manage the source/destination/temporary towers\n",
    "- Create a class to display the towers\n",
    "- Create a class to solve the problem\n",
    "- The Hanoi class should be responsible only for \"coordinating\" the previous.\n",
    "\n",
    "One could argue that we need even more classes, for instance a ```Disc``` class could make sense."
   ]
  },
  {
   "cell_type": "markdown",
   "metadata": {},
   "source": [
    "### Exercise - Make the changes\n",
    "\n",
    "Now, apply the changes that you planned!\n",
    "\n",
    "We haven't included the solution here, since it's too large. You can instead find a step-by-step (proposed) solution in this notebook: [SOLUTIONS - Single Responsibility Principle](4.b%20SOLUTIONS%20-%20Single%20Responsibility%20Principle.ipynb)"
   ]
  },
  {
   "cell_type": "markdown",
   "metadata": {
    "solution2": "hidden",
    "solution2_first": true
   },
   "source": [
    "## O: Open/Closed principle\n",
    "\n",
    "This one can be a tricky one for this problem. How do we know if we're adhering to this principle?\n",
    "\n",
    "Here are a few questions that might help you think of it:\n",
    "\n",
    "- What would you need to do if, for instance, you each tower to be printed differently?\n",
    "\n",
    "### Exercise\n",
    "\n",
    "Adapt the code coming from point 2.1 to comply with the Open/Closed principle."
   ]
  },
  {
   "cell_type": "markdown",
   "metadata": {
    "solution2": "hidden"
   },
   "source": [
    "Currently, there's no easy way to *extend* the behaviour for the towers while keeping the *HanoiPrinter* class closed for modification.\n",
    "\n",
    "So in the [SOLUTIONS - Open/Closed Principle](4.c%20SOLUTIONS%20-%20Open-Closed%20principle.ipynb), we'll be making the necessary changes to comply with the Open/Closed principle."
   ]
  },
  {
   "cell_type": "markdown",
   "metadata": {
    "solution2": "hidden",
    "solution2_first": true
   },
   "source": [
    "## L: Liskov's Substituion Principle\n",
    "\n",
    "Remember what the Liskov's Substitution Principle stated:\n",
    "\n",
    "```\n",
    "Functions using base classes must be able to use derived classes without knowing it.\n",
    "```\n",
    "\n",
    "### Exercise\n",
    "\n",
    "Is the current implementation complying with LSP? Why/why not?"
   ]
  },
  {
   "cell_type": "markdown",
   "metadata": {
    "solution2": "hidden"
   },
   "source": [
    "Currently, there's little to no inheritance in our project, so we're complying with LSP. There are a few ways that we could be breaking this principle. For instance, imagine you get a requirement for a new type of tower, that you can only use to take discs from, but where you can not put any discs. Translated to code, this means that the *pop* method should work as usual, but the *push* method should raise an error, so you decide to implement a new class, ```PopOnlyTower```. This (far-fetched) example would violate LSP, since we can't just substitute a ```Tower``` instance by a ```PopOnlyTower``` instance."
   ]
  },
  {
   "cell_type": "markdown",
   "metadata": {},
   "source": [
    "## I: Interface Segregation Principle\n",
    "\n",
    "```Many client specific interfaces are better than one general interface```\n",
    "\n",
    "We don't have \"interfaces\" in our code, so we're probably good here. Although there's no formal interfaces in Python, you can implement them using abstract classes, which define the methods that child classes need to implement, but with the different that these abstract classes might have code of their own, whereas pure interfaces shouldn't (or in many languages, simply can't) have any code other than the one needed to declare signatures (and sometimes, constants).\n",
    "\n",
    "We might come back to this principle after we work on the Dependency Inversion Principle."
   ]
  },
  {
   "cell_type": "markdown",
   "metadata": {},
   "source": [
    "## D: Dependency Inversion Principle\n",
    "\n",
    "```Classes should depend on an abstraction rather than on a concretion```\n",
    "\n",
    "What does it actually mean for us? Well, most of our classes depend on other classes. However, all of these dependencies are hardly coupled (they depend on the exact classes). This increases the risk that you start to \"know\" too much of your dependency, increasing coupling.\n",
    "\n",
    "Instead, if your dependency is against an abstraction (i.e. an interface), all your class needs to know is \"the contract\" it should adhere to (and the \"contract\" it can expect from the other side).\n",
    "\n",
    "### Exercise\n",
    "\n",
    "How would you apply the Dependency Inversion Principle to the code we have?"
   ]
  },
  {
   "cell_type": "markdown",
   "metadata": {},
   "source": [
    "Check [SOLUTIONS - Dependency Inversion Principle](4.d%20SOLUTIONS%20-%20Dependency%20Inversion%20Principle.ipynb#) for a discussion on changes we might want to do for this principle"
   ]
  },
  {
   "cell_type": "markdown",
   "metadata": {},
   "source": [
    "# Final thoughts\n",
    "\n",
    "If you reached this point, congratulations!\n",
    "\n",
    "In case you wonder, the code we have shown through this course is definitely not perfect, and there are still lots of things that could be improved. The main goal was to introduce the different concepts in a hands-on way, while emphasizing that often there's a trade-off that you will need to balance between staying theoretically correct and staying pragmatic.\n",
    "\n",
    "At a first glance, anyone a bit experienced with the SOLID principles would tell you, for instance, that the Tower class we have is not compliant with the principles. Although it knows *nothing* about other classes, the fact that we have the characters we use to print the tower in the Tower class itself is (indirectly) keeping the class coupled with how it is displayed in a specific medium (the console). Imagine, what would happen if you need to represent the towers also in HTML, JSON, etc?"
   ]
  },
  {
   "cell_type": "code",
   "execution_count": null,
   "metadata": {},
   "outputs": [],
   "source": []
  }
 ],
 "metadata": {
  "kernelspec": {
   "display_name": "Python 3",
   "language": "python",
   "name": "python3"
  },
  "language_info": {
   "codemirror_mode": {
    "name": "ipython",
    "version": 3
   },
   "file_extension": ".py",
   "mimetype": "text/x-python",
   "name": "python",
   "nbconvert_exporter": "python",
   "pygments_lexer": "ipython3",
   "version": "3.7.3"
  },
  "toc": {
   "base_numbering": 1,
   "nav_menu": {},
   "number_sections": true,
   "sideBar": true,
   "skip_h1_title": false,
   "title_cell": "Table of Contents",
   "title_sidebar": "Contents",
   "toc_cell": false,
   "toc_position": {
    "height": "calc(100% - 180px)",
    "left": "10px",
    "top": "150px",
    "width": "318.385px"
   },
   "toc_section_display": true,
   "toc_window_display": false
  }
 },
 "nbformat": 4,
 "nbformat_minor": 2
}
