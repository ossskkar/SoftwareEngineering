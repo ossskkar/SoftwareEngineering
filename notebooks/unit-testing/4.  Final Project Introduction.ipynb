{
 "cells": [
  {
   "cell_type": "markdown",
   "metadata": {},
   "source": [
    "# Final project intro\n",
    "\n",
    "For this last notebook, we've created a small project, and you'll be asked to write the tests for it using what you've learned in the course.\n",
    "\n",
    "You will find the whole project inside the ```final-project``` folder, and you will be asked to complete or implement some tests inside the ```tests``` folder. You also have the solutions inside the ```tests_solved``` folder, but it is strongly advised not to look at these until you have solved the problem by yourself, even if you think your solution is not optimal.\n",
    "\n",
    "## questING\n",
    "\n",
    "The project we have created is called ```questING```. What is this package about? It's actually a mini-game, where the player will control a Hero through a small dungeon and fight different enemies.\n",
    "\n",
    "## Installing the questing package in your virtual environment\n",
    "\n",
    "The first thing to do is to install the ```questing``` package into the workshop's virtual environment. From the project's root directory (e.g. ```software-engineering-workshop```, run this:\n",
    "\n",
    "```bash\n",
    "conda activate se-workshop\n",
    "\n",
    "cd final-project\n",
    "pip install -e .\n",
    "```\n",
    "\n",
    "\n",
    "## Let's test the game\n",
    "\n",
    "First, run the cell below. don't worry too much about what the code does for now, it's just creating the game client."
   ]
  },
  {
   "cell_type": "code",
   "execution_count": 1,
   "metadata": {},
   "outputs": [
    {
     "name": "stdout",
     "output_type": "stream",
     "text": [
      "[board] Placed Albert - Warrior at position Position(x=0, y=0)\n",
      "[board] Placed Exit portal at position Position(x=3, y=3)\n",
      "[board] Placed Archer 1 at position Position(x=3, y=1)\n",
      "[board] Placed Swordsman 1 at position Position(x=1, y=0)\n",
      "[board] Placed Apprentice 1 at position Position(x=0, y=3)\n",
      "=============================\n",
      "| M(1) |      |      | EXIT |\n",
      "-----------------------------\n",
      "|      |      |      |      |\n",
      "-----------------------------\n",
      "|      |      |      | A(2) |\n",
      "-----------------------------\n",
      "| H    | S(2) |      |      |\n",
      "-----------------------------\n",
      "=============================\n",
      "Available actions:\n",
      "[board] Positions with enemies in attack range: [Position(x=1, y=0)]\n",
      "['Move up', 'Move right', 'Attack']\n"
     ]
    }
   ],
   "source": [
    "import numpy as np\n",
    "np.random.seed(0)\n",
    "\n",
    "from game_client import GameClient\n",
    "\n",
    "# Hero classes: Warrior, Rogue, Mage\n",
    "from questing import Warrior, Rogue, Mage\n",
    "from questing import Position\n",
    "hero = Warrior('Albert')\n",
    "board_width = 4\n",
    "board_height = 4\n",
    "num_enemies = 3\n",
    "\n",
    "game = GameClient(hero=hero, board_width=board_width, board_height=board_height, num_enemies=num_enemies)\n",
    "# To start, this will just show the board and the available actions\n",
    "game.play()"
   ]
  },
  {
   "cell_type": "markdown",
   "metadata": {},
   "source": [
    "And this is how you \"play\". **HINT**: Look what happens with the Hero (```H``` cell) in the output."
   ]
  },
  {
   "cell_type": "code",
   "execution_count": 2,
   "metadata": {
    "scrolled": true
   },
   "outputs": [
    {
     "name": "stdout",
     "output_type": "stream",
     "text": [
      "Taking action Move up\n",
      "[board] Positions with enemies in attack range: [Position(x=1, y=0)]\n",
      "[Albert - Warrior] Moving to new position (Position(x=0, y=1))\n",
      "[board] Moved Albert - Warrior from Position(x=0, y=0) to position Position(x=0, y=1)\n",
      "=============================\n",
      "| M(1) |      |      | EXIT |\n",
      "-----------------------------\n",
      "|      |      |      |      |\n",
      "-----------------------------\n",
      "| H    |      |      | A(2) |\n",
      "-----------------------------\n",
      "|      | S(2) |      |      |\n",
      "-----------------------------\n",
      "=============================\n",
      "Available actions:\n",
      "[board] Positions with enemies in attack range: []\n",
      "['Move up', 'Move down', 'Move right']\n"
     ]
    }
   ],
   "source": [
    "game.play(\"Move up\")"
   ]
  },
  {
   "cell_type": "code",
   "execution_count": 3,
   "metadata": {},
   "outputs": [
    {
     "name": "stdout",
     "output_type": "stream",
     "text": [
      "Taking action Move right\n",
      "[board] Positions with enemies in attack range: []\n",
      "[Albert - Warrior] Moving to new position (Position(x=1, y=1))\n",
      "[board] Moved Albert - Warrior from Position(x=0, y=1) to position Position(x=1, y=1)\n",
      "Taking action Move right\n",
      "[board] Positions with enemies in attack range: [Position(x=1, y=0)]\n",
      "[Albert - Warrior] Moving to new position (Position(x=2, y=1))\n",
      "[board] Moved Albert - Warrior from Position(x=1, y=1) to position Position(x=2, y=1)\n",
      "=============================\n",
      "| M(1) |      |      | EXIT |\n",
      "-----------------------------\n",
      "|      |      |      |      |\n",
      "-----------------------------\n",
      "|      |      | H    | A(2) |\n",
      "-----------------------------\n",
      "|      | S(2) |      |      |\n",
      "-----------------------------\n",
      "=============================\n",
      "Available actions:\n",
      "[board] Positions with enemies in attack range: [Position(x=3, y=1)]\n",
      "['Move up', 'Move down', 'Move left', 'Move right', 'Attack']\n"
     ]
    }
   ],
   "source": [
    "game.play(\"Move right\", show=False) ; game.play(\"Move right\")"
   ]
  },
  {
   "cell_type": "code",
   "execution_count": 4,
   "metadata": {},
   "outputs": [
    {
     "name": "stdout",
     "output_type": "stream",
     "text": [
      "Taking action Attack\n",
      "[board] Positions with enemies in attack range: [Position(x=3, y=1)]\n",
      "[Albert - Warrior] Attacking Archer 1!\n",
      "[Archer 1] I took 4 damage, I have 2 health points left\n",
      "[game] Enemy Archer 1 is retaliating against the hero!\n",
      "[Archer 1] Target is too close, will attack with half power\n",
      "[Archer 1] Attacking Albert - Warrior with power 3\n",
      "[Albert - Warrior] Armor absorved 1 damage, taking 2 damage instead of 3\n",
      "[Albert - Warrior] I took 2 damage, I have 8 health points left\n",
      "=============================\n",
      "| M(1) |      |      | EXIT |\n",
      "-----------------------------\n",
      "|      |      |      |      |\n",
      "-----------------------------\n",
      "|      |      | H    | A(2) |\n",
      "-----------------------------\n",
      "|      | S(2) |      |      |\n",
      "-----------------------------\n",
      "=============================\n",
      "Available actions:\n",
      "[board] Positions with enemies in attack range: [Position(x=3, y=1)]\n",
      "['Move up', 'Move down', 'Move left', 'Move right', 'Attack']\n"
     ]
    }
   ],
   "source": [
    "game.play(\"Attack\", target=Position(3, 1))"
   ]
  },
  {
   "cell_type": "code",
   "execution_count": 5,
   "metadata": {},
   "outputs": [
    {
     "name": "stdout",
     "output_type": "stream",
     "text": [
      "Taking action Attack\n",
      "[board] Positions with enemies in attack range: [Position(x=3, y=1)]\n",
      "[Albert - Warrior] Attacking Archer 1!\n",
      "[Archer 1] I took 4 damage, and I've been destroyed!\n",
      "[Albert - Warrior] Restoring to full health (10 points)\n",
      "[Albert - Warrior] Moving to new position (Position(x=3, y=1))\n",
      "[board] Moved Albert - Warrior from Position(x=2, y=1) to position Position(x=3, y=1)\n",
      "=============================\n",
      "| M(1) |      |      | EXIT |\n",
      "-----------------------------\n",
      "|      |      |      |      |\n",
      "-----------------------------\n",
      "|      |      |      | H    |\n",
      "-----------------------------\n",
      "|      | S(2) |      |      |\n",
      "-----------------------------\n",
      "=============================\n",
      "Available actions:\n",
      "[board] Positions with enemies in attack range: []\n",
      "['Move up', 'Move down', 'Move left']\n"
     ]
    }
   ],
   "source": [
    "game.play(\"Attack\", target=Position(3, 1))"
   ]
  },
  {
   "cell_type": "code",
   "execution_count": 6,
   "metadata": {},
   "outputs": [
    {
     "name": "stdout",
     "output_type": "stream",
     "text": [
      "Taking action Move up\n",
      "[board] Positions with enemies in attack range: []\n",
      "[Albert - Warrior] Moving to new position (Position(x=3, y=2))\n",
      "[board] Moved Albert - Warrior from Position(x=3, y=1) to position Position(x=3, y=2)\n",
      "=============================\n",
      "| M(1) |      |      | EXIT |\n",
      "-----------------------------\n",
      "|      |      |      | H    |\n",
      "-----------------------------\n",
      "|      |      |      |      |\n",
      "-----------------------------\n",
      "|      | S(2) |      |      |\n",
      "-----------------------------\n",
      "=============================\n",
      "Available actions:\n",
      "[board] Positions with enemies in attack range: []\n",
      "['Move up', 'Move down', 'Move left', 'Exit']\n"
     ]
    }
   ],
   "source": [
    "game.play(\"Move up\")"
   ]
  },
  {
   "cell_type": "code",
   "execution_count": 7,
   "metadata": {},
   "outputs": [
    {
     "name": "stdout",
     "output_type": "stream",
     "text": [
      "Taking action Exit\n",
      "[board] Positions with enemies in attack range: []\n",
      "[game] You won!\n",
      "=============================\n",
      "| M(1) |      |      | EXIT |\n",
      "-----------------------------\n",
      "|      |      |      | H    |\n",
      "-----------------------------\n",
      "|      |      |      |      |\n",
      "-----------------------------\n",
      "|      | S(2) |      |      |\n",
      "-----------------------------\n",
      "=============================\n",
      "Available actions:\n",
      "[]\n"
     ]
    }
   ],
   "source": [
    "game.play(\"Exit\")"
   ]
  },
  {
   "cell_type": "code",
   "execution_count": null,
   "metadata": {},
   "outputs": [],
   "source": []
  }
 ],
 "metadata": {
  "kernelspec": {
   "display_name": "Python 3",
   "language": "python",
   "name": "python3"
  },
  "language_info": {
   "codemirror_mode": {
    "name": "ipython",
    "version": 3
   },
   "file_extension": ".py",
   "mimetype": "text/x-python",
   "name": "python",
   "nbconvert_exporter": "python",
   "pygments_lexer": "ipython3",
   "version": "3.7.3"
  },
  "toc": {
   "base_numbering": 1,
   "nav_menu": {},
   "number_sections": true,
   "sideBar": true,
   "skip_h1_title": false,
   "title_cell": "Table of Contents",
   "title_sidebar": "Contents",
   "toc_cell": false,
   "toc_position": {},
   "toc_section_display": true,
   "toc_window_display": true
  }
 },
 "nbformat": 4,
 "nbformat_minor": 2
}
