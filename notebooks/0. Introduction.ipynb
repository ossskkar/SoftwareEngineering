{
 "cells": [
  {
   "cell_type": "markdown",
   "metadata": {},
   "source": [
    "# Notebooks\n",
    "\n",
    "1. [OOP Crash Course](1.%20OOP%20Crash%20Course.ipynb)\n",
    "1. [Type Hints crash course](1.%20Type%20hints%20crash%20course.ipynb)\n",
    "\n",
    "## Software engineering course\n",
    "\n",
    "1. [Software Engineering Principles](2.%20Software%20Engineering%20Principles.ipynb)\n",
    "1. [Guiding problem introduction - Hanoi Towers](3.%20Intro%20to%20Hanoi%20Towers.ipynb)\n",
    "1. [Making the towers SOLID](4.%20Making%20the%20Hanoi%20Towers%20SOLID.ipynb)\n",
    "\n",
    "## Unit testing course\n",
    "\n",
    "1. [Introduction to Testing](#)\n",
    "1. [Testing methodologies (TDD, BDD, DDD)](#)\n",
    "1. [Unit Testing in Python: unittest and pytest](#)\n",
    "1. [Project](#)\n",
    "\n",
    "## Appendixes\n",
    "1. [Appendix A. Changes in recent Python versions](Appendix%20A.%20Changes%20in%20recent%20Python%20versions.ipynb)\n"
   ]
  },
  {
   "cell_type": "markdown",
   "metadata": {},
   "source": [
    "# Software Engineering course\n",
    "\n",
    "## Intro\n",
    "The idea for this course is to provide an introduction to some Software Engineering principles and best practices, which should give you an extra perspective to the code you write. Although the concepts can be applied in any language, we'll be using Python.\n",
    "\n",
    "### Target audience\n",
    "\n",
    "The course was designed with Data Scientists in mind. Very often, DS are comfortable with coding already, but sometimes struggle a bit in terms of structuring it or applying best practices from the Software Engineering world, which become important when you want to have robust, reliable models.\n",
    "\n",
    "That said, anyone who wants to get an introduction to some software engineering principles and good practices could benefit from this course.\n",
    "\n",
    "### Requirements\n",
    "\n",
    "There are no big requirements for the course. However, it assumes that you are already somewhat comfortable with programming, and specifically with Python (i.e. you know at least the basics, such as functions, variables, control structures, etc).\n",
    "\n",
    "Ideally, you also know the basics of Object Oriented Programming and know how to write and use a class. If you're not, make sure to follow the [OOP Crash Course](1.%20OOP%20Crash%20Course.ipynb) notebook before starting the course, as it will make it easier to follow the examples that use classes.\n",
    "\n",
    "## Course Contents\n",
    "\n",
    "### Type hints crash course\n",
    "\n",
    "Introduction to type hints in Python, since we'll be using them heavily througout the course.\n",
    "\n",
    "### Software Engineering Principles: SOLID + Others (DRY, YAGNI, KISS..)\n",
    "\n",
    "We'll focus in the SOLID principles, but we also introduce other well known principles, such as DRY.\n",
    "\n",
    "### Practical problem Intro - The Towers of Hanoi\n",
    "\n",
    "In this part we'll present a classical problem in computer science, the Towers of Hanoi, and provide a first implementation to solve it.\n",
    "\n",
    "### Making the towers SOLID\n",
    "\n",
    "In the last section, we go step by step over our implementation, and make sure it complies with the SOLID principles\n",
    "\n",
    "## Planning\n",
    "\n",
    "This is a rough estimate, but we'll probably need two days for the course:\n",
    "\n",
    "- Day 1: OOP and Type hints crash courses, Software Engineering principles and Hanoi towers introduction\n",
    "- Day 2: Applying the principles to the Towers of Hanoi implementation\n",
    "\n",
    "Day 2 could easily be done as \"homework\"\n"
   ]
  },
  {
   "cell_type": "code",
   "execution_count": null,
   "metadata": {},
   "outputs": [],
   "source": []
  }
 ],
 "metadata": {
  "kernelspec": {
   "display_name": "Python 3",
   "language": "python",
   "name": "python3"
  },
  "language_info": {
   "codemirror_mode": {
    "name": "ipython",
    "version": 3
   },
   "file_extension": ".py",
   "mimetype": "text/x-python",
   "name": "python",
   "nbconvert_exporter": "python",
   "pygments_lexer": "ipython3",
   "version": "3.7.3"
  },
  "toc": {
   "base_numbering": 1,
   "nav_menu": {},
   "number_sections": true,
   "sideBar": true,
   "skip_h1_title": false,
   "title_cell": "Table of Contents",
   "title_sidebar": "Contents",
   "toc_cell": false,
   "toc_position": {},
   "toc_section_display": true,
   "toc_window_display": false
  },
  "varInspector": {
   "cols": {
    "lenName": 16,
    "lenType": 16,
    "lenVar": 40
   },
   "kernels_config": {
    "python": {
     "delete_cmd_postfix": "",
     "delete_cmd_prefix": "del ",
     "library": "var_list.py",
     "varRefreshCmd": "print(var_dic_list())"
    },
    "r": {
     "delete_cmd_postfix": ") ",
     "delete_cmd_prefix": "rm(",
     "library": "var_list.r",
     "varRefreshCmd": "cat(var_dic_list()) "
    }
   },
   "types_to_exclude": [
    "module",
    "function",
    "builtin_function_or_method",
    "instance",
    "_Feature"
   ],
   "window_display": false
  }
 },
 "nbformat": 4,
 "nbformat_minor": 2
}
