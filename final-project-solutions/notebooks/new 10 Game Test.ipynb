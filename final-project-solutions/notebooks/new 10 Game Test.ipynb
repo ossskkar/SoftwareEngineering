{
 "cells": [
  {
   "cell_type": "code",
   "execution_count": 1,
   "metadata": {},
   "outputs": [
    {
     "name": "stdout",
     "output_type": "stream",
     "text": [
      "Base path: C:\\Users\\kr99tud\\projects\\ml-engineer\\se-project\n"
     ]
    }
   ],
   "source": [
    "import sys\n",
    "from pathlib import Path\n",
    "base_path = Path.cwd().parent\n",
    "print(f\"Base path: {base_path}\")\n",
    "\n",
    "import numpy as np\n",
    "np.random.seed(15)"
   ]
  },
  {
   "cell_type": "code",
   "execution_count": 2,
   "metadata": {},
   "outputs": [],
   "source": [
    "from questing import Game, GameActions\n",
    "from questing import Hero, Warrior, Rogue, Mage\n",
    "from questing import Archer, Swordsman, Apprentice, ExitPortal, Army\n",
    "from questing import Position\n",
    "\n",
    "action_to_str = {a: a.value for a in GameActions}\n",
    "str_to_action = {a.value: a for a in GameActions}"
   ]
  },
  {
   "cell_type": "code",
   "execution_count": 3,
   "metadata": {},
   "outputs": [],
   "source": [
    "hero = Warrior('Albert')\n",
    "board_width = 8\n",
    "board_height = 8\n",
    "num_enemies = 5"
   ]
  },
  {
   "cell_type": "code",
   "execution_count": 4,
   "metadata": {},
   "outputs": [],
   "source": [
    "from typing import Optional\n",
    "\n",
    "def unit_to_symbol(unit):\n",
    "    if unit is None:\n",
    "        return \" \" * 4\n",
    "    elif isinstance(unit, ExitPortal):\n",
    "        return \"EXIT\"\n",
    "    else:\n",
    "        return str(unit).ljust(4)\n",
    "\n",
    "def print_board():\n",
    "    print(\"=\" * (board_width * 7 + 1))\n",
    "    for y in range(board_height):\n",
    "        \n",
    "        row_idx = board_height - 1 - y\n",
    "        str_row = []\n",
    "        for x in range(board_width):\n",
    "            str_row.append(unit_to_symbol(game.board[x][row_idx]))\n",
    "        str_row = \"| \" + \" | \".join(str_row) + \" |\"\n",
    "        print(str_row)\n",
    "        print(\"-\" * (board_width * 7 + 1))\n",
    "    print(\"=\" * (board_width * 7 + 1))\n",
    "\n",
    "def play(action: Optional[str] = None, target: Optional[Position] = None, show: bool = True):\n",
    "    if action:\n",
    "        print(f\"Taking action {action}\")\n",
    "        game.do(str_to_action[action], target)\n",
    "    \n",
    "    if show:\n",
    "        print_board()\n",
    "        print(\"Available actions:\")\n",
    "        available_actions = game.available_actions()\n",
    "        print([v for k, v in action_to_str.items() if k in available_actions])"
   ]
  },
  {
   "cell_type": "code",
   "execution_count": 5,
   "metadata": {},
   "outputs": [
    {
     "name": "stdout",
     "output_type": "stream",
     "text": [
      "[board] Placed Albert - Warrior at position Position(x=0, y=0)\n",
      "[board] Placed Exit portal at position Position(x=7, y=7)\n",
      "[board] Placed Archer 1 at position Position(x=1, y=1)\n",
      "[board] Placed Archer 2 at position Position(x=0, y=6)\n",
      "[board] Placed Apprentice 1 at position Position(x=3, y=6)\n",
      "[board] Placed Swordsman 1 at position Position(x=6, y=3)\n",
      "[board] Placed Apprentice 2 at position Position(x=6, y=1)\n"
     ]
    }
   ],
   "source": [
    "game = Game(hero=hero, width=board_width, height=board_height, num_enemies=num_enemies)"
   ]
  },
  {
   "cell_type": "code",
   "execution_count": 6,
   "metadata": {},
   "outputs": [
    {
     "name": "stdout",
     "output_type": "stream",
     "text": [
      "=========================================================\n",
      "|      |      |      |      |      |      |      | EXIT |\n",
      "---------------------------------------------------------\n",
      "| A(1) |      |      | M(2) |      |      |      |      |\n",
      "---------------------------------------------------------\n",
      "|      |      |      |      |      |      |      |      |\n",
      "---------------------------------------------------------\n",
      "|      |      |      |      |      |      |      |      |\n",
      "---------------------------------------------------------\n",
      "|      |      |      |      |      |      | S(2) |      |\n",
      "---------------------------------------------------------\n",
      "|      |      |      |      |      |      |      |      |\n",
      "---------------------------------------------------------\n",
      "|      | A(2) |      |      |      |      | M(1) |      |\n",
      "---------------------------------------------------------\n",
      "| H    |      |      |      |      |      |      |      |\n",
      "---------------------------------------------------------\n",
      "=========================================================\n",
      "Available actions:\n",
      "[board] Positions with enemies in attack range: []\n",
      "['Move up', 'Move right']\n"
     ]
    }
   ],
   "source": [
    "play()"
   ]
  },
  {
   "cell_type": "code",
   "execution_count": 7,
   "metadata": {},
   "outputs": [
    {
     "name": "stdout",
     "output_type": "stream",
     "text": [
      "[board] Positions with enemies: []\n",
      "[Albert - Warrior] Moving to new position (Position(x=1, y=0))\n",
      "[board] Moved to Albert - Warrior to position Position(x=1, y=0)\n",
      "=========================================================\n",
      "|      |      | M(3) |      | M(1) |      |      | EXIT |\n",
      "---------------------------------------------------------\n",
      "|      |      |      |      |      |      |      |      |\n",
      "---------------------------------------------------------\n",
      "|      |      |      |      |      |      |      |      |\n",
      "---------------------------------------------------------\n",
      "|      |      |      |      |      | A(1) |      |      |\n",
      "---------------------------------------------------------\n",
      "|      |      |      |      |      |      |      |      |\n",
      "---------------------------------------------------------\n",
      "|      |      |      |      |      |      |      |      |\n",
      "---------------------------------------------------------\n",
      "|      |      |      | M(1) |      |      |      |      |\n",
      "---------------------------------------------------------\n",
      "|      | H    |      |      |      | M(2) |      |      |\n",
      "---------------------------------------------------------\n",
      "=========================================================\n",
      "Available actions:\n",
      "[board] Positions with enemies: []\n",
      "['Move up', 'Move left', 'Move right']\n"
     ]
    }
   ],
   "source": [
    "play(\"Move right\")"
   ]
  },
  {
   "cell_type": "code",
   "execution_count": 8,
   "metadata": {},
   "outputs": [
    {
     "name": "stdout",
     "output_type": "stream",
     "text": [
      "[board] Positions with enemies: []\n",
      "[Albert - Warrior] Moving to new position (Position(x=2, y=0))\n",
      "[board] Moved to Albert - Warrior to position Position(x=2, y=0)\n",
      "=========================================================\n",
      "|      |      | M(3) |      | M(1) |      |      | EXIT |\n",
      "---------------------------------------------------------\n",
      "|      |      |      |      |      |      |      |      |\n",
      "---------------------------------------------------------\n",
      "|      |      |      |      |      |      |      |      |\n",
      "---------------------------------------------------------\n",
      "|      |      |      |      |      | A(1) |      |      |\n",
      "---------------------------------------------------------\n",
      "|      |      |      |      |      |      |      |      |\n",
      "---------------------------------------------------------\n",
      "|      |      |      |      |      |      |      |      |\n",
      "---------------------------------------------------------\n",
      "|      |      |      | M(1) |      |      |      |      |\n",
      "---------------------------------------------------------\n",
      "|      |      | H    |      |      | M(2) |      |      |\n",
      "---------------------------------------------------------\n",
      "=========================================================\n",
      "Available actions:\n",
      "[board] Positions with enemies: []\n",
      "['Move up', 'Move left', 'Move right']\n"
     ]
    }
   ],
   "source": [
    "play(\"Move right\")"
   ]
  },
  {
   "cell_type": "code",
   "execution_count": 9,
   "metadata": {},
   "outputs": [
    {
     "name": "stdout",
     "output_type": "stream",
     "text": [
      "[board] Positions with enemies: []\n",
      "[Albert - Warrior] Moving to new position (Position(x=2, y=1))\n",
      "[board] Moved to Albert - Warrior to position Position(x=2, y=1)\n",
      "=========================================================\n",
      "|      |      | M(3) |      | M(1) |      |      | EXIT |\n",
      "---------------------------------------------------------\n",
      "|      |      |      |      |      |      |      |      |\n",
      "---------------------------------------------------------\n",
      "|      |      |      |      |      |      |      |      |\n",
      "---------------------------------------------------------\n",
      "|      |      |      |      |      | A(1) |      |      |\n",
      "---------------------------------------------------------\n",
      "|      |      |      |      |      |      |      |      |\n",
      "---------------------------------------------------------\n",
      "|      |      |      |      |      |      |      |      |\n",
      "---------------------------------------------------------\n",
      "|      |      | H    | M(1) |      |      |      |      |\n",
      "---------------------------------------------------------\n",
      "|      |      |      |      |      | M(2) |      |      |\n",
      "---------------------------------------------------------\n",
      "=========================================================\n",
      "Available actions:\n",
      "[board] Positions with enemies: [Position(x=3, y=1)]\n",
      "['Move up', 'Move down', 'Move left', 'Move right', 'Attack']\n"
     ]
    }
   ],
   "source": [
    "play(\"Move up\")"
   ]
  },
  {
   "cell_type": "code",
   "execution_count": 11,
   "metadata": {},
   "outputs": [
    {
     "name": "stdout",
     "output_type": "stream",
     "text": [
      "[board] Positions with enemies: [Position(x=3, y=1)]\n",
      "[Albert - Warrior] Attacking Apprentice 4!\n",
      "[Apprentice 4] Armor absorved 1 damage, taking 3 instead of 4\n",
      "[Apprentice 4] My armor has been broken!\n",
      "[Apprentice 4] I took 3 damage, I have 1 health points left\n",
      "[game] Enemy Apprentice 4 is retaliating against the hero!\n",
      "[Apprentice 4] Attacking Albert - Warrior with power 4.1\n",
      "[Albert - Warrior] Armor absorved 1 damage, taking 3.0999999999999996 instead of 4.1\n",
      "[Albert - Warrior] I took 3.0999999999999996 damage, I have 6.9 health points left\n",
      "=========================================================\n",
      "|      |      | M(3) |      | M(1) |      |      | EXIT |\n",
      "---------------------------------------------------------\n",
      "|      |      |      |      |      |      |      |      |\n",
      "---------------------------------------------------------\n",
      "|      |      |      |      |      |      |      |      |\n",
      "---------------------------------------------------------\n",
      "|      |      |      |      |      | A(1) |      |      |\n",
      "---------------------------------------------------------\n",
      "|      |      |      |      |      |      |      |      |\n",
      "---------------------------------------------------------\n",
      "|      |      |      |      |      |      |      |      |\n",
      "---------------------------------------------------------\n",
      "|      |      | H    | M(1) |      |      |      |      |\n",
      "---------------------------------------------------------\n",
      "|      |      |      |      |      | M(2) |      |      |\n",
      "---------------------------------------------------------\n",
      "=========================================================\n",
      "Available actions:\n",
      "[board] Positions with enemies: [Position(x=3, y=1)]\n",
      "['Move up', 'Move down', 'Move left', 'Move right', 'Attack']\n"
     ]
    }
   ],
   "source": [
    "play(\"Attack\", target=Position(3, 1))"
   ]
  },
  {
   "cell_type": "code",
   "execution_count": 12,
   "metadata": {},
   "outputs": [
    {
     "name": "stdout",
     "output_type": "stream",
     "text": [
      "[board] Positions with enemies: [Position(x=3, y=1)]\n",
      "[Albert - Warrior] Attacking Apprentice 4!\n",
      "[Apprentice 4] I took 4 damage, and I've been destroyed!\n",
      "[Albert - Warrior] Moving to new position (Position(x=3, y=1))\n",
      "[board] Moved to Albert - Warrior to position Position(x=3, y=1)\n",
      "=========================================================\n",
      "|      |      | M(3) |      | M(1) |      |      | EXIT |\n",
      "---------------------------------------------------------\n",
      "|      |      |      |      |      |      |      |      |\n",
      "---------------------------------------------------------\n",
      "|      |      |      |      |      |      |      |      |\n",
      "---------------------------------------------------------\n",
      "|      |      |      |      |      | A(1) |      |      |\n",
      "---------------------------------------------------------\n",
      "|      |      |      |      |      |      |      |      |\n",
      "---------------------------------------------------------\n",
      "|      |      |      |      |      |      |      |      |\n",
      "---------------------------------------------------------\n",
      "|      |      |      | H    |      |      |      |      |\n",
      "---------------------------------------------------------\n",
      "|      |      |      |      |      | M(2) |      |      |\n",
      "---------------------------------------------------------\n",
      "=========================================================\n",
      "Available actions:\n",
      "[board] Positions with enemies: []\n",
      "['Move up', 'Move down', 'Move left', 'Move right']\n"
     ]
    }
   ],
   "source": [
    "play(\"Attack\", target=Position(3, 1))"
   ]
  },
  {
   "cell_type": "code",
   "execution_count": 13,
   "metadata": {},
   "outputs": [
    {
     "name": "stdout",
     "output_type": "stream",
     "text": [
      "[board] Positions with enemies: []\n",
      "[Albert - Warrior] Moving to new position (Position(x=3, y=2))\n",
      "[board] Moved to Albert - Warrior to position Position(x=3, y=2)\n",
      "=========================================================\n",
      "|      |      | M(3) |      | M(1) |      |      | EXIT |\n",
      "---------------------------------------------------------\n",
      "|      |      |      |      |      |      |      |      |\n",
      "---------------------------------------------------------\n",
      "|      |      |      |      |      |      |      |      |\n",
      "---------------------------------------------------------\n",
      "|      |      |      |      |      | A(1) |      |      |\n",
      "---------------------------------------------------------\n",
      "|      |      |      |      |      |      |      |      |\n",
      "---------------------------------------------------------\n",
      "|      |      |      | H    |      |      |      |      |\n",
      "---------------------------------------------------------\n",
      "|      |      |      |      |      |      |      |      |\n",
      "---------------------------------------------------------\n",
      "|      |      |      |      |      | M(2) |      |      |\n",
      "---------------------------------------------------------\n",
      "=========================================================\n",
      "Available actions:\n",
      "[board] Positions with enemies: []\n",
      "['Move up', 'Move down', 'Move left', 'Move right']\n",
      "[board] Positions with enemies: []\n",
      "[Albert - Warrior] Moving to new position (Position(x=3, y=3))\n",
      "[board] Moved to Albert - Warrior to position Position(x=3, y=3)\n",
      "=========================================================\n",
      "|      |      | M(3) |      | M(1) |      |      | EXIT |\n",
      "---------------------------------------------------------\n",
      "|      |      |      |      |      |      |      |      |\n",
      "---------------------------------------------------------\n",
      "|      |      |      |      |      |      |      |      |\n",
      "---------------------------------------------------------\n",
      "|      |      |      |      |      | A(1) |      |      |\n",
      "---------------------------------------------------------\n",
      "|      |      |      | H    |      |      |      |      |\n",
      "---------------------------------------------------------\n",
      "|      |      |      |      |      |      |      |      |\n",
      "---------------------------------------------------------\n",
      "|      |      |      |      |      |      |      |      |\n",
      "---------------------------------------------------------\n",
      "|      |      |      |      |      | M(2) |      |      |\n",
      "---------------------------------------------------------\n",
      "=========================================================\n",
      "Available actions:\n",
      "[board] Positions with enemies: []\n",
      "['Move up', 'Move down', 'Move left', 'Move right']\n",
      "[board] Positions with enemies: []\n",
      "[Albert - Warrior] Moving to new position (Position(x=3, y=4))\n",
      "[board] Moved to Albert - Warrior to position Position(x=3, y=4)\n",
      "=========================================================\n",
      "|      |      | M(3) |      | M(1) |      |      | EXIT |\n",
      "---------------------------------------------------------\n",
      "|      |      |      |      |      |      |      |      |\n",
      "---------------------------------------------------------\n",
      "|      |      |      |      |      |      |      |      |\n",
      "---------------------------------------------------------\n",
      "|      |      |      | H    |      | A(1) |      |      |\n",
      "---------------------------------------------------------\n",
      "|      |      |      |      |      |      |      |      |\n",
      "---------------------------------------------------------\n",
      "|      |      |      |      |      |      |      |      |\n",
      "---------------------------------------------------------\n",
      "|      |      |      |      |      |      |      |      |\n",
      "---------------------------------------------------------\n",
      "|      |      |      |      |      | M(2) |      |      |\n",
      "---------------------------------------------------------\n",
      "=========================================================\n",
      "Available actions:\n",
      "[board] Positions with enemies: []\n",
      "['Move up', 'Move down', 'Move left', 'Move right']\n",
      "[board] Positions with enemies: []\n",
      "[Albert - Warrior] Moving to new position (Position(x=4, y=4))\n",
      "[board] Moved to Albert - Warrior to position Position(x=4, y=4)\n",
      "=========================================================\n",
      "|      |      | M(3) |      | M(1) |      |      | EXIT |\n",
      "---------------------------------------------------------\n",
      "|      |      |      |      |      |      |      |      |\n",
      "---------------------------------------------------------\n",
      "|      |      |      |      |      |      |      |      |\n",
      "---------------------------------------------------------\n",
      "|      |      |      |      | H    | A(1) |      |      |\n",
      "---------------------------------------------------------\n",
      "|      |      |      |      |      |      |      |      |\n",
      "---------------------------------------------------------\n",
      "|      |      |      |      |      |      |      |      |\n",
      "---------------------------------------------------------\n",
      "|      |      |      |      |      |      |      |      |\n",
      "---------------------------------------------------------\n",
      "|      |      |      |      |      | M(2) |      |      |\n",
      "---------------------------------------------------------\n",
      "=========================================================\n",
      "Available actions:\n",
      "[board] Positions with enemies: [Position(x=5, y=4)]\n",
      "['Move up', 'Move down', 'Move left', 'Move right', 'Attack']\n"
     ]
    }
   ],
   "source": [
    "play(\"Move up\")\n",
    "play(\"Move up\")\n",
    "play(\"Move up\")\n",
    "play(\"Move right\")"
   ]
  },
  {
   "cell_type": "code",
   "execution_count": 14,
   "metadata": {},
   "outputs": [
    {
     "name": "stdout",
     "output_type": "stream",
     "text": [
      "[board] Positions with enemies: [Position(x=5, y=4)]\n",
      "[Albert - Warrior] Attacking Archer 1!\n",
      "[Archer 1] I took 4 damage, and I've been destroyed!\n",
      "[Albert - Warrior] Moving to new position (Position(x=5, y=4))\n",
      "[board] Moved to Albert - Warrior to position Position(x=5, y=4)\n",
      "=========================================================\n",
      "|      |      | M(3) |      | M(1) |      |      | EXIT |\n",
      "---------------------------------------------------------\n",
      "|      |      |      |      |      |      |      |      |\n",
      "---------------------------------------------------------\n",
      "|      |      |      |      |      |      |      |      |\n",
      "---------------------------------------------------------\n",
      "|      |      |      |      |      | H    |      |      |\n",
      "---------------------------------------------------------\n",
      "|      |      |      |      |      |      |      |      |\n",
      "---------------------------------------------------------\n",
      "|      |      |      |      |      |      |      |      |\n",
      "---------------------------------------------------------\n",
      "|      |      |      |      |      |      |      |      |\n",
      "---------------------------------------------------------\n",
      "|      |      |      |      |      | M(2) |      |      |\n",
      "---------------------------------------------------------\n",
      "=========================================================\n",
      "Available actions:\n",
      "[board] Positions with enemies: []\n",
      "['Move up', 'Move down', 'Move left', 'Move right']\n"
     ]
    }
   ],
   "source": [
    "play(\"Attack\", target=Position(5, 4))"
   ]
  },
  {
   "cell_type": "code",
   "execution_count": 15,
   "metadata": {},
   "outputs": [
    {
     "name": "stdout",
     "output_type": "stream",
     "text": [
      "[board] Positions with enemies: []\n",
      "[Albert - Warrior] Moving to new position (Position(x=5, y=5))\n",
      "[board] Moved to Albert - Warrior to position Position(x=5, y=5)\n",
      "=========================================================\n",
      "|      |      | M(3) |      | M(1) |      |      | EXIT |\n",
      "---------------------------------------------------------\n",
      "|      |      |      |      |      |      |      |      |\n",
      "---------------------------------------------------------\n",
      "|      |      |      |      |      | H    |      |      |\n",
      "---------------------------------------------------------\n",
      "|      |      |      |      |      |      |      |      |\n",
      "---------------------------------------------------------\n",
      "|      |      |      |      |      |      |      |      |\n",
      "---------------------------------------------------------\n",
      "|      |      |      |      |      |      |      |      |\n",
      "---------------------------------------------------------\n",
      "|      |      |      |      |      |      |      |      |\n",
      "---------------------------------------------------------\n",
      "|      |      |      |      |      | M(2) |      |      |\n",
      "---------------------------------------------------------\n",
      "=========================================================\n",
      "Available actions:\n",
      "[board] Positions with enemies: []\n",
      "['Move up', 'Move down', 'Move left', 'Move right']\n",
      "[board] Positions with enemies: []\n",
      "[Albert - Warrior] Moving to new position (Position(x=5, y=6))\n",
      "[board] Moved to Albert - Warrior to position Position(x=5, y=6)\n",
      "=========================================================\n",
      "|      |      | M(3) |      | M(1) |      |      | EXIT |\n",
      "---------------------------------------------------------\n",
      "|      |      |      |      |      | H    |      |      |\n",
      "---------------------------------------------------------\n",
      "|      |      |      |      |      |      |      |      |\n",
      "---------------------------------------------------------\n",
      "|      |      |      |      |      |      |      |      |\n",
      "---------------------------------------------------------\n",
      "|      |      |      |      |      |      |      |      |\n",
      "---------------------------------------------------------\n",
      "|      |      |      |      |      |      |      |      |\n",
      "---------------------------------------------------------\n",
      "|      |      |      |      |      |      |      |      |\n",
      "---------------------------------------------------------\n",
      "|      |      |      |      |      | M(2) |      |      |\n",
      "---------------------------------------------------------\n",
      "=========================================================\n",
      "Available actions:\n",
      "[board] Positions with enemies: []\n",
      "['Move up', 'Move down', 'Move left', 'Move right']\n",
      "[board] Positions with enemies: []\n",
      "[Albert - Warrior] Moving to new position (Position(x=5, y=7))\n",
      "[board] Moved to Albert - Warrior to position Position(x=5, y=7)\n",
      "=========================================================\n",
      "|      |      | M(3) |      | M(1) | H    |      | EXIT |\n",
      "---------------------------------------------------------\n",
      "|      |      |      |      |      |      |      |      |\n",
      "---------------------------------------------------------\n",
      "|      |      |      |      |      |      |      |      |\n",
      "---------------------------------------------------------\n",
      "|      |      |      |      |      |      |      |      |\n",
      "---------------------------------------------------------\n",
      "|      |      |      |      |      |      |      |      |\n",
      "---------------------------------------------------------\n",
      "|      |      |      |      |      |      |      |      |\n",
      "---------------------------------------------------------\n",
      "|      |      |      |      |      |      |      |      |\n",
      "---------------------------------------------------------\n",
      "|      |      |      |      |      | M(2) |      |      |\n",
      "---------------------------------------------------------\n",
      "=========================================================\n",
      "Available actions:\n",
      "[board] Positions with enemies: [Position(x=4, y=7)]\n",
      "['Move down', 'Move left', 'Move right', 'Attack']\n",
      "[board] Positions with enemies: [Position(x=4, y=7)]\n",
      "[Albert - Warrior] Moving to new position (Position(x=6, y=7))\n",
      "[board] Moved to Albert - Warrior to position Position(x=6, y=7)\n",
      "=========================================================\n",
      "|      |      | M(3) |      | M(1) |      | H    | EXIT |\n",
      "---------------------------------------------------------\n",
      "|      |      |      |      |      |      |      |      |\n",
      "---------------------------------------------------------\n",
      "|      |      |      |      |      |      |      |      |\n",
      "---------------------------------------------------------\n",
      "|      |      |      |      |      |      |      |      |\n",
      "---------------------------------------------------------\n",
      "|      |      |      |      |      |      |      |      |\n",
      "---------------------------------------------------------\n",
      "|      |      |      |      |      |      |      |      |\n",
      "---------------------------------------------------------\n",
      "|      |      |      |      |      |      |      |      |\n",
      "---------------------------------------------------------\n",
      "|      |      |      |      |      | M(2) |      |      |\n",
      "---------------------------------------------------------\n",
      "=========================================================\n",
      "Available actions:\n",
      "[board] Positions with enemies: []\n",
      "['Move down', 'Move left', 'Move right', 'Exit']\n"
     ]
    }
   ],
   "source": [
    "play(\"Move up\") ; play(\"Move up\") ; play(\"Move up\") ; play(\"Move right\")"
   ]
  },
  {
   "cell_type": "code",
   "execution_count": 16,
   "metadata": {},
   "outputs": [
    {
     "name": "stdout",
     "output_type": "stream",
     "text": [
      "[board] Positions with enemies: []\n",
      "[game] You won!\n",
      "=========================================================\n",
      "|      |      | M(3) |      | M(1) |      | H    | EXIT |\n",
      "---------------------------------------------------------\n",
      "|      |      |      |      |      |      |      |      |\n",
      "---------------------------------------------------------\n",
      "|      |      |      |      |      |      |      |      |\n",
      "---------------------------------------------------------\n",
      "|      |      |      |      |      |      |      |      |\n",
      "---------------------------------------------------------\n",
      "|      |      |      |      |      |      |      |      |\n",
      "---------------------------------------------------------\n",
      "|      |      |      |      |      |      |      |      |\n",
      "---------------------------------------------------------\n",
      "|      |      |      |      |      |      |      |      |\n",
      "---------------------------------------------------------\n",
      "|      |      |      |      |      | M(2) |      |      |\n",
      "---------------------------------------------------------\n",
      "=========================================================\n",
      "Available actions:\n",
      "[board] Positions with enemies: []\n",
      "['Move down', 'Move left', 'Move right', 'Exit']\n"
     ]
    }
   ],
   "source": [
    "play(\"Exit\")"
   ]
  },
  {
   "cell_type": "code",
   "execution_count": 17,
   "metadata": {},
   "outputs": [
    {
     "name": "stdout",
     "output_type": "stream",
     "text": [
      "[game] The game has already finished, you can't keep playing!\n",
      "=========================================================\n",
      "|      |      | M(3) |      | M(1) |      | H    | EXIT |\n",
      "---------------------------------------------------------\n",
      "|      |      |      |      |      |      |      |      |\n",
      "---------------------------------------------------------\n",
      "|      |      |      |      |      |      |      |      |\n",
      "---------------------------------------------------------\n",
      "|      |      |      |      |      |      |      |      |\n",
      "---------------------------------------------------------\n",
      "|      |      |      |      |      |      |      |      |\n",
      "---------------------------------------------------------\n",
      "|      |      |      |      |      |      |      |      |\n",
      "---------------------------------------------------------\n",
      "|      |      |      |      |      |      |      |      |\n",
      "---------------------------------------------------------\n",
      "|      |      |      |      |      | M(2) |      |      |\n",
      "---------------------------------------------------------\n",
      "=========================================================\n",
      "Available actions:\n",
      "[board] Positions with enemies: []\n",
      "['Move down', 'Move left', 'Move right', 'Exit']\n"
     ]
    }
   ],
   "source": [
    "play(\"Exit\")"
   ]
  },
  {
   "cell_type": "code",
   "execution_count": null,
   "metadata": {},
   "outputs": [],
   "source": []
  }
 ],
 "metadata": {
  "kernelspec": {
   "display_name": "Python 3",
   "language": "python",
   "name": "python3"
  },
  "language_info": {
   "codemirror_mode": {
    "name": "ipython",
    "version": 3
   },
   "file_extension": ".py",
   "mimetype": "text/x-python",
   "name": "python",
   "nbconvert_exporter": "python",
   "pygments_lexer": "ipython3",
   "version": "3.7.3"
  },
  "toc": {
   "base_numbering": 1,
   "nav_menu": {},
   "number_sections": true,
   "sideBar": true,
   "skip_h1_title": false,
   "title_cell": "Table of Contents",
   "title_sidebar": "Contents",
   "toc_cell": false,
   "toc_position": {},
   "toc_section_display": true,
   "toc_window_display": true
  }
 },
 "nbformat": 4,
 "nbformat_minor": 2
}
