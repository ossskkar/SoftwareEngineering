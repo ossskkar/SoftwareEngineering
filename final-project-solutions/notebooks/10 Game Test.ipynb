{
 "cells": [
  {
   "cell_type": "code",
   "execution_count": 1,
   "metadata": {},
   "outputs": [
    {
     "name": "stdout",
     "output_type": "stream",
     "text": [
      "Base path: /media/albert/data/projects/ing/se-capstone\n"
     ]
    }
   ],
   "source": [
    "import sys\n",
    "from pathlib import Path\n",
    "base_path = Path.cwd().parent\n",
    "print(f\"Base path: {base_path}\")\n",
    "#sys.path.append(str(base_path / 'questing'))"
   ]
  },
  {
   "cell_type": "code",
   "execution_count": 3,
   "metadata": {},
   "outputs": [
    {
     "ename": "ModuleNotFoundError",
     "evalue": "No module named 'common'",
     "output_type": "error",
     "traceback": [
      "\u001b[0;31m---------------------------------------------------------------------------\u001b[0m",
      "\u001b[0;31mModuleNotFoundError\u001b[0m                       Traceback (most recent call last)",
      "\u001b[0;32m<ipython-input-3-b852e12dd19e>\u001b[0m in \u001b[0;36m<module>\u001b[0;34m()\u001b[0m\n\u001b[0;32m----> 1\u001b[0;31m \u001b[0;32mfrom\u001b[0m \u001b[0mquesting\u001b[0m \u001b[0;32mimport\u001b[0m \u001b[0mGame\u001b[0m\u001b[0;34m\u001b[0m\u001b[0m\n\u001b[0m\u001b[1;32m      2\u001b[0m \u001b[0;32mfrom\u001b[0m \u001b[0mquesting\u001b[0m \u001b[0;32mimport\u001b[0m \u001b[0mHero\u001b[0m\u001b[0;34m,\u001b[0m \u001b[0mWarrior\u001b[0m\u001b[0;34m,\u001b[0m \u001b[0mRogue\u001b[0m\u001b[0;34m,\u001b[0m \u001b[0mMage\u001b[0m\u001b[0;34m\u001b[0m\u001b[0m\n\u001b[1;32m      3\u001b[0m \u001b[0;32mfrom\u001b[0m \u001b[0mquesting\u001b[0m \u001b[0;32mimport\u001b[0m \u001b[0mArcher\u001b[0m\u001b[0;34m,\u001b[0m \u001b[0mSwordsman\u001b[0m\u001b[0;34m,\u001b[0m \u001b[0mApprentice\u001b[0m\u001b[0;34m,\u001b[0m \u001b[0mExitPortal\u001b[0m\u001b[0;34m,\u001b[0m \u001b[0mArmy\u001b[0m\u001b[0;34m\u001b[0m\u001b[0m\n\u001b[1;32m      4\u001b[0m \u001b[0;32mfrom\u001b[0m \u001b[0mquesting\u001b[0m \u001b[0;32mimport\u001b[0m \u001b[0mPosition\u001b[0m\u001b[0;34m\u001b[0m\u001b[0m\n",
      "\u001b[0;32m/media/albert/data/projects/ing/se-capstone/questing/__init__.py\u001b[0m in \u001b[0;36m<module>\u001b[0;34m()\u001b[0m\n\u001b[1;32m     11\u001b[0m \u001b[0;32mimport\u001b[0m \u001b[0mquesting\u001b[0m\u001b[0;34m.\u001b[0m\u001b[0mcommon\u001b[0m\u001b[0;34m\u001b[0m\u001b[0m\n\u001b[1;32m     12\u001b[0m \u001b[0;34m\u001b[0m\u001b[0m\n\u001b[0;32m---> 13\u001b[0;31m \u001b[0;32mfrom\u001b[0m \u001b[0mcommon\u001b[0m \u001b[0;32mimport\u001b[0m \u001b[0mISay\u001b[0m\u001b[0;34m\u001b[0m\u001b[0m\n\u001b[0m\u001b[1;32m     14\u001b[0m \u001b[0;32mfrom\u001b[0m \u001b[0mcommon\u001b[0m \u001b[0;32mimport\u001b[0m \u001b[0mPosition\u001b[0m\u001b[0;34m\u001b[0m\u001b[0m\n\u001b[1;32m     15\u001b[0m \u001b[0;32mfrom\u001b[0m \u001b[0mcommon\u001b[0m \u001b[0;32mimport\u001b[0m \u001b[0mIPositioned\u001b[0m\u001b[0;34m\u001b[0m\u001b[0m\n",
      "\u001b[0;31mModuleNotFoundError\u001b[0m: No module named 'common'"
     ]
    }
   ],
   "source": [
    "from questing import Game\n",
    "from questing import Hero, Warrior, Rogue, Mage\n",
    "from questing import Archer, Swordsman, Apprentice, ExitPortal, Army\n",
    "from questing import Position"
   ]
  },
  {
   "cell_type": "code",
   "execution_count": 3,
   "metadata": {},
   "outputs": [],
   "source": [
    "def unit_to_symbol(unit):\n",
    "    if unit is None:\n",
    "        return \" \" * 4\n",
    "    elif isinstance(unit, ExitPortal):\n",
    "        return \"EXIT\"\n",
    "    else:\n",
    "        return unit.to_text()\n",
    "\n",
    "def print_board():\n",
    "    print(\"=\" * (board_width * 7 + 1))\n",
    "    for y in range(board_height):\n",
    "        \n",
    "        row_idx = board_height - 1 - y\n",
    "        str_row = []\n",
    "        for x in range(board_width):\n",
    "            str_row.append(unit_to_symbol(game.board[x][row_idx]))\n",
    "        str_row = \"| \" + \" | \".join(str_row) + \" |\"\n",
    "        print(str_row)\n",
    "        print(\"-\" * (board_width * 7 + 1))\n",
    "    print(\"=\" * (board_width * 7 + 1))"
   ]
  },
  {
   "cell_type": "code",
   "execution_count": 4,
   "metadata": {},
   "outputs": [],
   "source": [
    "hero = Warrior('Albert')\n",
    "board_width = 8\n",
    "board_height = 8\n",
    "num_enemies = 5"
   ]
  },
  {
   "cell_type": "code",
   "execution_count": 9,
   "metadata": {},
   "outputs": [],
   "source": [
    "game = Game(hero=hero, width=board_width, height=board_height, num_enemies=num_enemies)"
   ]
  },
  {
   "cell_type": "code",
   "execution_count": 10,
   "metadata": {},
   "outputs": [
    {
     "name": "stdout",
     "output_type": "stream",
     "text": [
      "=========================================================\n",
      "| M(1) |      |      |      |      |      |      | EXIT |\n",
      "---------------------------------------------------------\n",
      "|      |      |      |      |      |      | M(1) |      |\n",
      "---------------------------------------------------------\n",
      "|      |      |      |      |      |      |      |      |\n",
      "---------------------------------------------------------\n",
      "|      |      |      |      |      |      |      |      |\n",
      "---------------------------------------------------------\n",
      "|      |      |      |      |      |      |      |      |\n",
      "---------------------------------------------------------\n",
      "|      |      |      |      |      |      |      |      |\n",
      "---------------------------------------------------------\n",
      "|      |      | R(2) |      | S(1) |      |      | A(3) |\n",
      "---------------------------------------------------------\n",
      "| H(1) |      |      |      |      |      |      |      |\n",
      "---------------------------------------------------------\n",
      "=========================================================\n"
     ]
    }
   ],
   "source": [
    "print_board()"
   ]
  },
  {
   "cell_type": "code",
   "execution_count": 7,
   "metadata": {},
   "outputs": [
    {
     "name": "stdout",
     "output_type": "stream",
     "text": [
      "['move up', 'move right']\n"
     ]
    }
   ],
   "source": [
    "print(game.available_actions())"
   ]
  },
  {
   "cell_type": "code",
   "execution_count": 13,
   "metadata": {},
   "outputs": [
    {
     "name": "stdout",
     "output_type": "stream",
     "text": [
      "[Albert - Warrior]            Moving to new position (2, 0)\n",
      "[board]                       Moved to position (2, 0)\n",
      "=========================================================\n",
      "| M(1) |      |      |      |      |      |      | EXIT |\n",
      "---------------------------------------------------------\n",
      "|      |      |      |      |      |      | M(1) |      |\n",
      "---------------------------------------------------------\n",
      "|      |      |      |      |      |      |      |      |\n",
      "---------------------------------------------------------\n",
      "|      |      |      |      |      |      |      |      |\n",
      "---------------------------------------------------------\n",
      "|      |      |      |      |      |      |      |      |\n",
      "---------------------------------------------------------\n",
      "|      |      |      |      |      |      |      |      |\n",
      "---------------------------------------------------------\n",
      "|      |      | R(2) |      | S(1) |      |      | A(3) |\n",
      "---------------------------------------------------------\n",
      "|      |      | H(1) |      |      |      |      |      |\n",
      "---------------------------------------------------------\n",
      "=========================================================\n",
      "['move up', 'move left', 'move right', 'attack']\n"
     ]
    }
   ],
   "source": [
    "game.do('move right')\n",
    "print_board()\n",
    "print(game.available_actions())"
   ]
  },
  {
   "cell_type": "code",
   "execution_count": 14,
   "metadata": {},
   "outputs": [
    {
     "name": "stdout",
     "output_type": "stream",
     "text": [
      "[Albert - Warrior]            Attacking Army!\n",
      "[Archer 1]                    I took 4 damage, and I've been destroyed!\n",
      "[Army]                        I'm alive, I have 2 health points left!\n",
      "[game]                        Enemy Army is retaliating against the hero!\n",
      "[Archer 1]                    Target is too close, attacking with half power\n",
      "[Albert - Warrior]            Armor absorbs 1 damage, will take 1 damage instead of 2\n",
      "[Albert - Warrior]            I took 1 damage, I have 9 health points left\n",
      "[Archer 2]                    Target is too close, attacking with half power\n",
      "[Albert - Warrior]            Armor absorbs 1 damage, will take 1 damage instead of 2\n",
      "[Albert - Warrior]            I took 1 damage, I have 8 health points left\n",
      "[Albert - Warrior]            I'm alive, I have 8 health points left!\n",
      "=========================================================\n",
      "| M(1) |      |      |      |      |      |      | EXIT |\n",
      "---------------------------------------------------------\n",
      "|      |      |      |      |      |      | M(1) |      |\n",
      "---------------------------------------------------------\n",
      "|      |      |      |      |      |      |      |      |\n",
      "---------------------------------------------------------\n",
      "|      |      |      |      |      |      |      |      |\n",
      "---------------------------------------------------------\n",
      "|      |      |      |      |      |      |      |      |\n",
      "---------------------------------------------------------\n",
      "|      |      |      |      |      |      |      |      |\n",
      "---------------------------------------------------------\n",
      "|      |      | R(2) |      | S(1) |      |      | A(3) |\n",
      "---------------------------------------------------------\n",
      "|      |      | H(1) |      |      |      |      |      |\n",
      "---------------------------------------------------------\n",
      "=========================================================\n",
      "['move up', 'move left', 'move right', 'attack']\n"
     ]
    }
   ],
   "source": [
    "game.do('attack', Position(x=2, y=1))\n",
    "print_board()\n",
    "print(game.available_actions())"
   ]
  },
  {
   "cell_type": "code",
   "execution_count": 9,
   "metadata": {},
   "outputs": [
    {
     "name": "stdout",
     "output_type": "stream",
     "text": [
      "[Albert - Warrior]            Moving to new position (0, 2)\n",
      "[board]                       Moved to position (0, 2)\n",
      "=================================\n",
      "|   | S |   |   |   |   |   | E |\n",
      "---------------------------------\n",
      "| A |   |   |   |   |   |   |   |\n",
      "---------------------------------\n",
      "| M |   |   |   |   |   |   |   |\n",
      "---------------------------------\n",
      "|   |   |   |   |   |   |   |   |\n",
      "---------------------------------\n",
      "|   |   |   |   |   |   |   |   |\n",
      "---------------------------------\n",
      "| H |   |   | A | M |   |   |   |\n",
      "---------------------------------\n",
      "|   |   |   |   |   |   |   |   |\n",
      "---------------------------------\n",
      "|   |   |   |   |   |   |   |   |\n",
      "---------------------------------\n",
      "=================================\n",
      "['move up', 'move down', 'move right']\n"
     ]
    }
   ],
   "source": [
    "game.do('move up')\n",
    "print_board()\n",
    "print(game.available_actions())"
   ]
  },
  {
   "cell_type": "code",
   "execution_count": 10,
   "metadata": {},
   "outputs": [
    {
     "name": "stdout",
     "output_type": "stream",
     "text": [
      "[Albert - Warrior]            Moving to new position (1, 2)\n",
      "[board]                       Moved to position (1, 2)\n",
      "=================================\n",
      "|   | S |   |   |   |   |   | E |\n",
      "---------------------------------\n",
      "| A |   |   |   |   |   |   |   |\n",
      "---------------------------------\n",
      "| M |   |   |   |   |   |   |   |\n",
      "---------------------------------\n",
      "|   |   |   |   |   |   |   |   |\n",
      "---------------------------------\n",
      "|   |   |   |   |   |   |   |   |\n",
      "---------------------------------\n",
      "|   | H |   | A | M |   |   |   |\n",
      "---------------------------------\n",
      "|   |   |   |   |   |   |   |   |\n",
      "---------------------------------\n",
      "|   |   |   |   |   |   |   |   |\n",
      "---------------------------------\n",
      "=================================\n",
      "['move up', 'move down', 'move left', 'move right']\n"
     ]
    }
   ],
   "source": [
    "game.do('move right')\n",
    "print_board()\n",
    "print(game.available_actions())"
   ]
  },
  {
   "cell_type": "code",
   "execution_count": 11,
   "metadata": {},
   "outputs": [
    {
     "name": "stdout",
     "output_type": "stream",
     "text": [
      "[Albert - Warrior]            Moving to new position (2, 2)\n",
      "[board]                       Moved to position (2, 2)\n",
      "=================================\n",
      "|   | S |   |   |   |   |   | E |\n",
      "---------------------------------\n",
      "| A |   |   |   |   |   |   |   |\n",
      "---------------------------------\n",
      "| M |   |   |   |   |   |   |   |\n",
      "---------------------------------\n",
      "|   |   |   |   |   |   |   |   |\n",
      "---------------------------------\n",
      "|   |   |   |   |   |   |   |   |\n",
      "---------------------------------\n",
      "|   |   | H | A | M |   |   |   |\n",
      "---------------------------------\n",
      "|   |   |   |   |   |   |   |   |\n",
      "---------------------------------\n",
      "|   |   |   |   |   |   |   |   |\n",
      "---------------------------------\n",
      "=================================\n",
      "['move up', 'move down', 'move left', 'move right', 'attack']\n"
     ]
    }
   ],
   "source": [
    "game.do('move right')\n",
    "print_board()\n",
    "print(game.available_actions())"
   ]
  },
  {
   "cell_type": "code",
   "execution_count": 12,
   "metadata": {},
   "outputs": [
    {
     "name": "stdout",
     "output_type": "stream",
     "text": [
      "[Albert - Warrior]            Attacking Archer 2!\n",
      "[Archer 2]                    I took 4 damage, I have 2 health points left\n",
      "[Archer 2]                    I'm alive, I have 2 health points left!\n",
      "[game]                        Enemy Archer 2 is retaliating against the hero!\n",
      "[Archer 2]                    Target is too close, attacking with half power\n",
      "[Albert - Warrior]            Armor absorbs 1 damage, will take 1 damage instead of 2\n",
      "[Albert - Warrior]            I took 1 damage, I have 9 health points left\n",
      "[Albert - Warrior]            I'm alive, I have 9 health points left!\n",
      "=================================\n",
      "|   | S |   |   |   |   |   | E |\n",
      "---------------------------------\n",
      "| A |   |   |   |   |   |   |   |\n",
      "---------------------------------\n",
      "| M |   |   |   |   |   |   |   |\n",
      "---------------------------------\n",
      "|   |   |   |   |   |   |   |   |\n",
      "---------------------------------\n",
      "|   |   |   |   |   |   |   |   |\n",
      "---------------------------------\n",
      "|   |   | H | A | M |   |   |   |\n",
      "---------------------------------\n",
      "|   |   |   |   |   |   |   |   |\n",
      "---------------------------------\n",
      "|   |   |   |   |   |   |   |   |\n",
      "---------------------------------\n",
      "=================================\n",
      "['move up', 'move down', 'move left', 'move right', 'attack']\n"
     ]
    }
   ],
   "source": [
    "game.do('attack', Position(x=3, y=2))\n",
    "print_board()\n",
    "print(game.available_actions())"
   ]
  },
  {
   "cell_type": "code",
   "execution_count": 13,
   "metadata": {},
   "outputs": [
    {
     "name": "stdout",
     "output_type": "stream",
     "text": [
      "[Albert - Warrior]            Attacking Archer 2!\n",
      "[Archer 2]                    I took 4 damage, and I've been destroyed!\n",
      "[Archer 2]                    I'm dead!\n",
      "[Albert - Warrior]            Moving to new position (3, 2)\n",
      "[board]                       Moved to position (3, 2)\n",
      "[Albert - Warrior]            I'm alive, I have 9 health points left!\n",
      "=================================\n",
      "|   | S |   |   |   |   |   | E |\n",
      "---------------------------------\n",
      "| A |   |   |   |   |   |   |   |\n",
      "---------------------------------\n",
      "| M |   |   |   |   |   |   |   |\n",
      "---------------------------------\n",
      "|   |   |   |   |   |   |   |   |\n",
      "---------------------------------\n",
      "|   |   |   |   |   |   |   |   |\n",
      "---------------------------------\n",
      "|   |   |   | H | M |   |   |   |\n",
      "---------------------------------\n",
      "|   |   |   |   |   |   |   |   |\n",
      "---------------------------------\n",
      "|   |   |   |   |   |   |   |   |\n",
      "---------------------------------\n",
      "=================================\n",
      "['move up', 'move down', 'move left', 'move right', 'attack']\n"
     ]
    }
   ],
   "source": [
    "game.do('attack', Position(x=3, y=2))\n",
    "print_board()\n",
    "print(game.available_actions())"
   ]
  },
  {
   "cell_type": "code",
   "execution_count": 15,
   "metadata": {},
   "outputs": [
    {
     "name": "stdout",
     "output_type": "stream",
     "text": [
      "[Albert - Warrior]            Attacking Apprentice 1!\n",
      "[Apprentice 1]                I took 4 damage, and I've been destroyed!\n",
      "[Apprentice 1]                I'm dead!\n",
      "[Albert - Warrior]            Moving to new position (4, 2)\n",
      "[board]                       Moved to position (4, 2)\n",
      "[Albert - Warrior]            I'm alive, I have 9 health points left!\n",
      "=================================\n",
      "|   | S |   |   |   |   |   | E |\n",
      "---------------------------------\n",
      "| A |   |   |   |   |   |   |   |\n",
      "---------------------------------\n",
      "| M |   |   |   |   |   |   |   |\n",
      "---------------------------------\n",
      "|   |   |   |   |   |   |   |   |\n",
      "---------------------------------\n",
      "|   |   |   |   |   |   |   |   |\n",
      "---------------------------------\n",
      "|   |   |   |   | H |   |   |   |\n",
      "---------------------------------\n",
      "|   |   |   |   |   |   |   |   |\n",
      "---------------------------------\n",
      "|   |   |   |   |   |   |   |   |\n",
      "---------------------------------\n",
      "=================================\n",
      "['move up', 'move down', 'move left', 'move right']\n"
     ]
    }
   ],
   "source": [
    "game.do('attack', Position(x=4, y=2))\n",
    "print_board()\n",
    "print(game.available_actions())"
   ]
  },
  {
   "cell_type": "code",
   "execution_count": 16,
   "metadata": {},
   "outputs": [
    {
     "name": "stdout",
     "output_type": "stream",
     "text": [
      "[Albert - Warrior]            Moving to new position (4, 3)\n",
      "[board]                       Moved to position (4, 3)\n",
      "=================================\n",
      "|   | S |   |   |   |   |   | E |\n",
      "---------------------------------\n",
      "| A |   |   |   |   |   |   |   |\n",
      "---------------------------------\n",
      "| M |   |   |   |   |   |   |   |\n",
      "---------------------------------\n",
      "|   |   |   |   |   |   |   |   |\n",
      "---------------------------------\n",
      "|   |   |   |   | H |   |   |   |\n",
      "---------------------------------\n",
      "|   |   |   |   |   |   |   |   |\n",
      "---------------------------------\n",
      "|   |   |   |   |   |   |   |   |\n",
      "---------------------------------\n",
      "|   |   |   |   |   |   |   |   |\n",
      "---------------------------------\n",
      "=================================\n",
      "['move up', 'move down', 'move left', 'move right']\n"
     ]
    }
   ],
   "source": [
    "game.do('move up')\n",
    "print_board()\n",
    "print(game.available_actions())"
   ]
  },
  {
   "cell_type": "code",
   "execution_count": 17,
   "metadata": {},
   "outputs": [
    {
     "name": "stdout",
     "output_type": "stream",
     "text": [
      "[Albert - Warrior]            Moving to new position (5, 3)\n",
      "[board]                       Moved to position (5, 3)\n",
      "=================================\n",
      "|   | S |   |   |   |   |   | E |\n",
      "---------------------------------\n",
      "| A |   |   |   |   |   |   |   |\n",
      "---------------------------------\n",
      "| M |   |   |   |   |   |   |   |\n",
      "---------------------------------\n",
      "|   |   |   |   |   |   |   |   |\n",
      "---------------------------------\n",
      "|   |   |   |   |   | H |   |   |\n",
      "---------------------------------\n",
      "|   |   |   |   |   |   |   |   |\n",
      "---------------------------------\n",
      "|   |   |   |   |   |   |   |   |\n",
      "---------------------------------\n",
      "|   |   |   |   |   |   |   |   |\n",
      "---------------------------------\n",
      "=================================\n",
      "['move up', 'move down', 'move left', 'move right']\n"
     ]
    }
   ],
   "source": [
    "game.do('move right')\n",
    "print_board()\n",
    "print(game.available_actions())"
   ]
  },
  {
   "cell_type": "code",
   "execution_count": 18,
   "metadata": {},
   "outputs": [
    {
     "name": "stdout",
     "output_type": "stream",
     "text": [
      "[Albert - Warrior]            Moving to new position (6, 3)\n",
      "[board]                       Moved to position (6, 3)\n",
      "=================================\n",
      "|   | S |   |   |   |   |   | E |\n",
      "---------------------------------\n",
      "| A |   |   |   |   |   |   |   |\n",
      "---------------------------------\n",
      "| M |   |   |   |   |   |   |   |\n",
      "---------------------------------\n",
      "|   |   |   |   |   |   |   |   |\n",
      "---------------------------------\n",
      "|   |   |   |   |   |   | H |   |\n",
      "---------------------------------\n",
      "|   |   |   |   |   |   |   |   |\n",
      "---------------------------------\n",
      "|   |   |   |   |   |   |   |   |\n",
      "---------------------------------\n",
      "|   |   |   |   |   |   |   |   |\n",
      "---------------------------------\n",
      "=================================\n",
      "['move up', 'move down', 'move left', 'move right']\n"
     ]
    }
   ],
   "source": [
    "game.do('move right')\n",
    "print_board()\n",
    "print(game.available_actions())"
   ]
  },
  {
   "cell_type": "code",
   "execution_count": 19,
   "metadata": {},
   "outputs": [
    {
     "name": "stdout",
     "output_type": "stream",
     "text": [
      "[Albert - Warrior]            Moving to new position (7, 3)\n",
      "[board]                       Moved to position (7, 3)\n",
      "=================================\n",
      "|   | S |   |   |   |   |   | E |\n",
      "---------------------------------\n",
      "| A |   |   |   |   |   |   |   |\n",
      "---------------------------------\n",
      "| M |   |   |   |   |   |   |   |\n",
      "---------------------------------\n",
      "|   |   |   |   |   |   |   |   |\n",
      "---------------------------------\n",
      "|   |   |   |   |   |   |   | H |\n",
      "---------------------------------\n",
      "|   |   |   |   |   |   |   |   |\n",
      "---------------------------------\n",
      "|   |   |   |   |   |   |   |   |\n",
      "---------------------------------\n",
      "|   |   |   |   |   |   |   |   |\n",
      "---------------------------------\n",
      "=================================\n",
      "['move up', 'move down', 'move left']\n"
     ]
    }
   ],
   "source": [
    "game.do('move right')\n",
    "print_board()\n",
    "print(game.available_actions())"
   ]
  },
  {
   "cell_type": "code",
   "execution_count": 20,
   "metadata": {},
   "outputs": [
    {
     "name": "stdout",
     "output_type": "stream",
     "text": [
      "[Albert - Warrior]            Moving to new position (7, 4)\n",
      "[board]                       Moved to position (7, 4)\n",
      "=================================\n",
      "|   | S |   |   |   |   |   | E |\n",
      "---------------------------------\n",
      "| A |   |   |   |   |   |   |   |\n",
      "---------------------------------\n",
      "| M |   |   |   |   |   |   |   |\n",
      "---------------------------------\n",
      "|   |   |   |   |   |   |   | H |\n",
      "---------------------------------\n",
      "|   |   |   |   |   |   |   |   |\n",
      "---------------------------------\n",
      "|   |   |   |   |   |   |   |   |\n",
      "---------------------------------\n",
      "|   |   |   |   |   |   |   |   |\n",
      "---------------------------------\n",
      "|   |   |   |   |   |   |   |   |\n",
      "---------------------------------\n",
      "=================================\n",
      "['move up', 'move down', 'move left']\n"
     ]
    }
   ],
   "source": [
    "game.do('move up')\n",
    "print_board()\n",
    "print(game.available_actions())"
   ]
  },
  {
   "cell_type": "code",
   "execution_count": 21,
   "metadata": {},
   "outputs": [
    {
     "name": "stdout",
     "output_type": "stream",
     "text": [
      "[Albert - Warrior]            Moving to new position (7, 5)\n",
      "[board]                       Moved to position (7, 5)\n",
      "=================================\n",
      "|   | S |   |   |   |   |   | E |\n",
      "---------------------------------\n",
      "| A |   |   |   |   |   |   |   |\n",
      "---------------------------------\n",
      "| M |   |   |   |   |   |   | H |\n",
      "---------------------------------\n",
      "|   |   |   |   |   |   |   |   |\n",
      "---------------------------------\n",
      "|   |   |   |   |   |   |   |   |\n",
      "---------------------------------\n",
      "|   |   |   |   |   |   |   |   |\n",
      "---------------------------------\n",
      "|   |   |   |   |   |   |   |   |\n",
      "---------------------------------\n",
      "|   |   |   |   |   |   |   |   |\n",
      "---------------------------------\n",
      "=================================\n",
      "['move up', 'move down', 'move left']\n"
     ]
    }
   ],
   "source": [
    "game.do('move up')\n",
    "print_board()\n",
    "print(game.available_actions())"
   ]
  },
  {
   "cell_type": "code",
   "execution_count": 22,
   "metadata": {},
   "outputs": [
    {
     "name": "stdout",
     "output_type": "stream",
     "text": [
      "[Albert - Warrior]            Moving to new position (7, 6)\n",
      "[board]                       Moved to position (7, 6)\n",
      "=================================\n",
      "|   | S |   |   |   |   |   | E |\n",
      "---------------------------------\n",
      "| A |   |   |   |   |   |   | H |\n",
      "---------------------------------\n",
      "| M |   |   |   |   |   |   |   |\n",
      "---------------------------------\n",
      "|   |   |   |   |   |   |   |   |\n",
      "---------------------------------\n",
      "|   |   |   |   |   |   |   |   |\n",
      "---------------------------------\n",
      "|   |   |   |   |   |   |   |   |\n",
      "---------------------------------\n",
      "|   |   |   |   |   |   |   |   |\n",
      "---------------------------------\n",
      "|   |   |   |   |   |   |   |   |\n",
      "---------------------------------\n",
      "=================================\n",
      "['move up', 'move down', 'move left', 'exit', 'attack']\n"
     ]
    }
   ],
   "source": [
    "game.do('move up')\n",
    "print_board()\n",
    "print(game.available_actions())"
   ]
  },
  {
   "cell_type": "code",
   "execution_count": 23,
   "metadata": {},
   "outputs": [
    {
     "name": "stdout",
     "output_type": "stream",
     "text": [
      "[game]                        You won!\n",
      "=================================\n",
      "|   | S |   |   |   |   |   | E |\n",
      "---------------------------------\n",
      "| A |   |   |   |   |   |   | H |\n",
      "---------------------------------\n",
      "| M |   |   |   |   |   |   |   |\n",
      "---------------------------------\n",
      "|   |   |   |   |   |   |   |   |\n",
      "---------------------------------\n",
      "|   |   |   |   |   |   |   |   |\n",
      "---------------------------------\n",
      "|   |   |   |   |   |   |   |   |\n",
      "---------------------------------\n",
      "|   |   |   |   |   |   |   |   |\n",
      "---------------------------------\n",
      "|   |   |   |   |   |   |   |   |\n",
      "---------------------------------\n",
      "=================================\n",
      "['move up', 'move down', 'move left', 'exit', 'attack']\n"
     ]
    }
   ],
   "source": [
    "game.do('exit')\n",
    "print_board()\n",
    "print(game.available_actions())"
   ]
  },
  {
   "cell_type": "code",
   "execution_count": 24,
   "metadata": {},
   "outputs": [
    {
     "name": "stdout",
     "output_type": "stream",
     "text": [
      "[game]                        The game has already finished, you can't keep playing!\n",
      "=================================\n",
      "|   | S |   |   |   |   |   | E |\n",
      "---------------------------------\n",
      "| A |   |   |   |   |   |   | H |\n",
      "---------------------------------\n",
      "| M |   |   |   |   |   |   |   |\n",
      "---------------------------------\n",
      "|   |   |   |   |   |   |   |   |\n",
      "---------------------------------\n",
      "|   |   |   |   |   |   |   |   |\n",
      "---------------------------------\n",
      "|   |   |   |   |   |   |   |   |\n",
      "---------------------------------\n",
      "|   |   |   |   |   |   |   |   |\n",
      "---------------------------------\n",
      "|   |   |   |   |   |   |   |   |\n",
      "---------------------------------\n",
      "=================================\n",
      "['move up', 'move down', 'move left', 'exit', 'attack']\n"
     ]
    }
   ],
   "source": [
    "game.do('exit')\n",
    "print_board()\n",
    "print(game.available_actions())"
   ]
  },
  {
   "cell_type": "code",
   "execution_count": 12,
   "metadata": {},
   "outputs": [
    {
     "name": "stdout",
     "output_type": "stream",
     "text": [
      "[Albert - Warrior]            Attacking Swordsman 2!\n",
      "[Swordsman 2]                 Armor absorbs 1 damage, will take 3 damage instead of 4\n",
      "[Swordsman 2]                 I took 3 damage, and I've been destroyed!\n",
      "[Swordsman 2]                 I'm dead!\n",
      "[Albert - Warrior]            Moving to new position (0, 2)\n",
      "[board]                       Moved to position (0, 2)\n",
      "=================================\n",
      "|   |   |   |   |   | M |   |   |\n",
      "---------------------------------\n",
      "|   |   | S |   |   |   |   |   |\n",
      "---------------------------------\n",
      "|   |   |   |   |   |   |   |   |\n",
      "---------------------------------\n",
      "|   |   |   |   |   |   |   |   |\n",
      "---------------------------------\n",
      "|   |   |   |   |   |   |   |   |\n",
      "---------------------------------\n",
      "| H |   |   |   |   |   | A |   |\n",
      "---------------------------------\n",
      "|   |   |   |   |   |   |   |   |\n",
      "---------------------------------\n",
      "|   |   |   |   |   |   |   |   |\n",
      "---------------------------------\n",
      "=================================\n",
      "['move up', 'move down', 'move right', 'attack']\n"
     ]
    }
   ],
   "source": [
    "game.do('attack', Position(x=0, y=2))\n",
    "print_board()\n",
    "print(game.available_actions())"
   ]
  },
  {
   "cell_type": "code",
   "execution_count": 20,
   "metadata": {},
   "outputs": [
    {
     "name": "stdout",
     "output_type": "stream",
     "text": [
      "[Albert - Warrior]            Moving to new position (0, 2)\n",
      "[board]                       Moved to position (0, 2)\n",
      "=================================\n",
      "|   |   |   |   |   |   |   |   |\n",
      "---------------------------------\n",
      "|   |   | A |   |   |   |   |   |\n",
      "---------------------------------\n",
      "|   |   | S | A |   |   |   | S |\n",
      "---------------------------------\n",
      "|   |   |   |   |   |   |   |   |\n",
      "---------------------------------\n",
      "|   |   | A |   |   |   |   |   |\n",
      "---------------------------------\n",
      "| H |   |   |   |   |   |   |   |\n",
      "---------------------------------\n",
      "|   |   |   |   |   |   |   |   |\n",
      "---------------------------------\n",
      "|   |   |   |   |   |   |   |   |\n",
      "---------------------------------\n",
      "=================================\n",
      "['move up', 'move down', 'move right', 'attack']\n"
     ]
    }
   ],
   "source": [
    "game.do('move up')\n",
    "print_board()\n",
    "print(game.available_actions())"
   ]
  },
  {
   "cell_type": "code",
   "execution_count": 21,
   "metadata": {},
   "outputs": [
    {
     "name": "stdout",
     "output_type": "stream",
     "text": [
      "[Albert - Warrior]            Moving to new position (0, 3)\n",
      "[board]                       Moved to position (0, 3)\n",
      "=================================\n",
      "|   |   |   |   |   |   |   |   |\n",
      "---------------------------------\n",
      "|   |   | A |   |   |   |   |   |\n",
      "---------------------------------\n",
      "|   |   | S | A |   |   |   | S |\n",
      "---------------------------------\n",
      "|   |   |   |   |   |   |   |   |\n",
      "---------------------------------\n",
      "| H |   | A |   |   |   |   |   |\n",
      "---------------------------------\n",
      "|   |   |   |   |   |   |   |   |\n",
      "---------------------------------\n",
      "|   |   |   |   |   |   |   |   |\n",
      "---------------------------------\n",
      "|   |   |   |   |   |   |   |   |\n",
      "---------------------------------\n",
      "=================================\n",
      "['move up', 'move down', 'move right', 'attack']\n"
     ]
    }
   ],
   "source": [
    "game.do('move up')\n",
    "print_board()\n",
    "print(game.available_actions())"
   ]
  },
  {
   "cell_type": "code",
   "execution_count": 22,
   "metadata": {},
   "outputs": [
    {
     "name": "stdout",
     "output_type": "stream",
     "text": [
      "[Albert - Warrior]            Moving to new position (1, 3)\n",
      "[board]                       Moved to position (1, 3)\n",
      "=================================\n",
      "|   |   |   |   |   |   |   |   |\n",
      "---------------------------------\n",
      "|   |   | A |   |   |   |   |   |\n",
      "---------------------------------\n",
      "|   |   | S | A |   |   |   | S |\n",
      "---------------------------------\n",
      "|   |   |   |   |   |   |   |   |\n",
      "---------------------------------\n",
      "|   | H | A |   |   |   |   |   |\n",
      "---------------------------------\n",
      "|   |   |   |   |   |   |   |   |\n",
      "---------------------------------\n",
      "|   |   |   |   |   |   |   |   |\n",
      "---------------------------------\n",
      "|   |   |   |   |   |   |   |   |\n",
      "---------------------------------\n",
      "=================================\n",
      "['move up', 'move down', 'move left', 'move right', 'attack']\n"
     ]
    }
   ],
   "source": [
    "game.do('move right')\n",
    "print_board()\n",
    "print(game.available_actions())"
   ]
  },
  {
   "cell_type": "code",
   "execution_count": 23,
   "metadata": {},
   "outputs": [
    {
     "name": "stdout",
     "output_type": "stream",
     "text": [
      "[board]                       Can't move to position (2, 3), it's not empty!\n",
      "=================================\n",
      "|   |   |   |   |   |   |   |   |\n",
      "---------------------------------\n",
      "|   |   | A |   |   |   |   |   |\n",
      "---------------------------------\n",
      "|   |   | S | A |   |   |   | S |\n",
      "---------------------------------\n",
      "|   |   |   |   |   |   |   |   |\n",
      "---------------------------------\n",
      "|   | H | A |   |   |   |   |   |\n",
      "---------------------------------\n",
      "|   |   |   |   |   |   |   |   |\n",
      "---------------------------------\n",
      "|   |   |   |   |   |   |   |   |\n",
      "---------------------------------\n",
      "|   |   |   |   |   |   |   |   |\n",
      "---------------------------------\n",
      "=================================\n",
      "['move up', 'move down', 'move left', 'move right', 'attack']\n"
     ]
    }
   ],
   "source": [
    "game.do('move right')\n",
    "print_board()\n",
    "print(game.available_actions())"
   ]
  },
  {
   "cell_type": "code",
   "execution_count": 26,
   "metadata": {},
   "outputs": [
    {
     "ename": "AttributeError",
     "evalue": "'Warrior' object has no attribute 'cell'",
     "output_type": "error",
     "traceback": [
      "\u001b[0;31m---------------------------------------------------------------------------\u001b[0m",
      "\u001b[0;31mAttributeError\u001b[0m                            Traceback (most recent call last)",
      "\u001b[0;32m<ipython-input-26-0b4af7093eaa>\u001b[0m in \u001b[0;36m<module>\u001b[0;34m()\u001b[0m\n\u001b[0;32m----> 1\u001b[0;31m \u001b[0mgame\u001b[0m\u001b[0;34m.\u001b[0m\u001b[0mdo\u001b[0m\u001b[0;34m(\u001b[0m\u001b[0;34m'attack'\u001b[0m\u001b[0;34m,\u001b[0m \u001b[0mPosition\u001b[0m\u001b[0;34m(\u001b[0m\u001b[0mx\u001b[0m\u001b[0;34m=\u001b[0m\u001b[0;36m2\u001b[0m\u001b[0;34m,\u001b[0m \u001b[0my\u001b[0m\u001b[0;34m=\u001b[0m\u001b[0;36m3\u001b[0m\u001b[0;34m)\u001b[0m\u001b[0;34m)\u001b[0m\u001b[0;34m\u001b[0m\u001b[0m\n\u001b[0m\u001b[1;32m      2\u001b[0m \u001b[0mprint_board\u001b[0m\u001b[0;34m(\u001b[0m\u001b[0;34m)\u001b[0m\u001b[0;34m\u001b[0m\u001b[0m\n\u001b[1;32m      3\u001b[0m \u001b[0mprint\u001b[0m\u001b[0;34m(\u001b[0m\u001b[0mgame\u001b[0m\u001b[0;34m.\u001b[0m\u001b[0mavailable_actions\u001b[0m\u001b[0;34m(\u001b[0m\u001b[0;34m)\u001b[0m\u001b[0;34m)\u001b[0m\u001b[0;34m\u001b[0m\u001b[0m\n",
      "\u001b[0;32m/media/albert/data/projects/ing/se-workshop/questING/game.py\u001b[0m in \u001b[0;36mdo\u001b[0;34m(self, action, target)\u001b[0m\n\u001b[1;32m    176\u001b[0m         \u001b[0mcurrent_pos\u001b[0m \u001b[0;34m=\u001b[0m \u001b[0mself\u001b[0m\u001b[0;34m.\u001b[0m\u001b[0mhero\u001b[0m\u001b[0;34m.\u001b[0m\u001b[0mposition\u001b[0m\u001b[0;34m\u001b[0m\u001b[0m\n\u001b[1;32m    177\u001b[0m         \u001b[0;32mif\u001b[0m \u001b[0mGame\u001b[0m\u001b[0;34m.\u001b[0m\u001b[0mACTION_ATTACK\u001b[0m \u001b[0;34m==\u001b[0m \u001b[0maction\u001b[0m\u001b[0;34m:\u001b[0m\u001b[0;34m\u001b[0m\u001b[0m\n\u001b[0;32m--> 178\u001b[0;31m             \u001b[0;32mreturn\u001b[0m \u001b[0mself\u001b[0m\u001b[0;34m.\u001b[0m\u001b[0mattack\u001b[0m\u001b[0;34m(\u001b[0m\u001b[0mtarget\u001b[0m\u001b[0;34m)\u001b[0m\u001b[0;34m\u001b[0m\u001b[0m\n\u001b[0m\u001b[1;32m    179\u001b[0m         \u001b[0;32melif\u001b[0m \u001b[0mGame\u001b[0m\u001b[0;34m.\u001b[0m\u001b[0mACTION_MOVE_UP\u001b[0m \u001b[0;34m==\u001b[0m \u001b[0maction\u001b[0m\u001b[0;34m:\u001b[0m\u001b[0;34m\u001b[0m\u001b[0m\n\u001b[1;32m    180\u001b[0m             \u001b[0mnew_pos\u001b[0m \u001b[0;34m=\u001b[0m \u001b[0mPosition\u001b[0m\u001b[0;34m(\u001b[0m\u001b[0mx\u001b[0m\u001b[0;34m=\u001b[0m\u001b[0mcurrent_pos\u001b[0m\u001b[0;34m.\u001b[0m\u001b[0mx\u001b[0m\u001b[0;34m,\u001b[0m \u001b[0my\u001b[0m\u001b[0;34m=\u001b[0m\u001b[0mcurrent_pos\u001b[0m\u001b[0;34m.\u001b[0m\u001b[0my\u001b[0m\u001b[0;34m+\u001b[0m\u001b[0;36m1\u001b[0m\u001b[0;34m)\u001b[0m\u001b[0;34m\u001b[0m\u001b[0m\n",
      "\u001b[0;32m/media/albert/data/projects/ing/se-workshop/questING/game.py\u001b[0m in \u001b[0;36mattack\u001b[0;34m(self, position)\u001b[0m\n\u001b[1;32m    190\u001b[0m     \u001b[0;32mdef\u001b[0m \u001b[0mattack\u001b[0m\u001b[0;34m(\u001b[0m\u001b[0mself\u001b[0m\u001b[0;34m,\u001b[0m \u001b[0mposition\u001b[0m\u001b[0;34m:\u001b[0m \u001b[0mPosition\u001b[0m\u001b[0;34m)\u001b[0m \u001b[0;34m->\u001b[0m \u001b[0mbool\u001b[0m\u001b[0;34m:\u001b[0m\u001b[0;34m\u001b[0m\u001b[0m\n\u001b[1;32m    191\u001b[0m         \u001b[0menemy\u001b[0m \u001b[0;34m=\u001b[0m \u001b[0mself\u001b[0m\u001b[0;34m.\u001b[0m\u001b[0mboard\u001b[0m\u001b[0;34m[\u001b[0m\u001b[0mposition\u001b[0m\u001b[0;34m.\u001b[0m\u001b[0mx\u001b[0m\u001b[0;34m]\u001b[0m\u001b[0;34m[\u001b[0m\u001b[0mposition\u001b[0m\u001b[0;34m.\u001b[0m\u001b[0my\u001b[0m\u001b[0;34m]\u001b[0m\u001b[0;34m\u001b[0m\u001b[0m\n\u001b[0;32m--> 192\u001b[0;31m         \u001b[0mself\u001b[0m\u001b[0;34m.\u001b[0m\u001b[0mhero\u001b[0m\u001b[0;34m.\u001b[0m\u001b[0mattack\u001b[0m\u001b[0;34m(\u001b[0m\u001b[0menemy\u001b[0m\u001b[0;34m)\u001b[0m\u001b[0;34m\u001b[0m\u001b[0m\n\u001b[0m\u001b[1;32m    193\u001b[0m \u001b[0;34m\u001b[0m\u001b[0m\n\u001b[1;32m    194\u001b[0m         \u001b[0;32mif\u001b[0m \u001b[0;32mnot\u001b[0m \u001b[0menemy\u001b[0m\u001b[0;34m.\u001b[0m\u001b[0mis_alive\u001b[0m\u001b[0;34m(\u001b[0m\u001b[0;34m)\u001b[0m\u001b[0;34m:\u001b[0m\u001b[0;34m\u001b[0m\u001b[0m\n",
      "\u001b[0;32m/media/albert/data/projects/ing/se-workshop/questING/attack.py\u001b[0m in \u001b[0;36mattack\u001b[0;34m(self, target)\u001b[0m\n\u001b[1;32m     32\u001b[0m \u001b[0;34m\u001b[0m\u001b[0m\n\u001b[1;32m     33\u001b[0m     \u001b[0;32mdef\u001b[0m \u001b[0mattack\u001b[0m\u001b[0;34m(\u001b[0m\u001b[0mself\u001b[0m\u001b[0;34m,\u001b[0m \u001b[0mtarget\u001b[0m\u001b[0;34m:\u001b[0m \u001b[0mIDefend\u001b[0m\u001b[0;34m)\u001b[0m\u001b[0;34m:\u001b[0m\u001b[0;34m\u001b[0m\u001b[0m\n\u001b[0;32m---> 34\u001b[0;31m         \u001b[0mdistance\u001b[0m \u001b[0;34m=\u001b[0m \u001b[0mself\u001b[0m\u001b[0;34m.\u001b[0m\u001b[0mcell\u001b[0m\u001b[0;34m.\u001b[0m\u001b[0mdistance\u001b[0m\u001b[0;34m(\u001b[0m\u001b[0mtarget\u001b[0m\u001b[0;34m.\u001b[0m\u001b[0mcell\u001b[0m\u001b[0;34m)\u001b[0m\u001b[0;34m\u001b[0m\u001b[0m\n\u001b[0m\u001b[1;32m     35\u001b[0m         \u001b[0;32mif\u001b[0m \u001b[0mdistance\u001b[0m \u001b[0;34m>\u001b[0m \u001b[0;36m1\u001b[0m\u001b[0;34m:\u001b[0m\u001b[0;34m\u001b[0m\u001b[0m\n\u001b[1;32m     36\u001b[0m             \u001b[0mself\u001b[0m\u001b[0;34m.\u001b[0m\u001b[0msay\u001b[0m\u001b[0;34m(\u001b[0m\u001b[0;34m\"Target is out of reach, can't attack!\"\u001b[0m\u001b[0;34m)\u001b[0m\u001b[0;34m\u001b[0m\u001b[0m\n",
      "\u001b[0;31mAttributeError\u001b[0m: 'Warrior' object has no attribute 'cell'"
     ]
    }
   ],
   "source": [
    "game.do('attack', Position(x=2, y=3))\n",
    "print_board()\n",
    "print(game.available_actions())"
   ]
  },
  {
   "cell_type": "code",
   "execution_count": 25,
   "metadata": {},
   "outputs": [],
   "source": [
    "from questING import Position"
   ]
  },
  {
   "cell_type": "code",
   "execution_count": null,
   "metadata": {},
   "outputs": [],
   "source": []
  }
 ],
 "metadata": {
  "kernelspec": {
   "display_name": "Python 3",
   "language": "python",
   "name": "python3"
  },
  "language_info": {
   "codemirror_mode": {
    "name": "ipython",
    "version": 3
   },
   "file_extension": ".py",
   "mimetype": "text/x-python",
   "name": "python",
   "nbconvert_exporter": "python",
   "pygments_lexer": "ipython3",
   "version": "3.7.0"
  }
 },
 "nbformat": 4,
 "nbformat_minor": 2
}
